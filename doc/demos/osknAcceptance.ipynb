{
 "cells": [
  {
   "cell_type": "markdown",
   "id": "de2a7167-47e9-420a-9eea-a85facc844a3",
   "metadata": {},
   "source": [
    "This is the integration test for BPReveal. It trains up an OSKN model and runs a full suite of analysis on it."
   ]
  },
  {
   "cell_type": "markdown",
   "id": "2243c981-d832-4408-b798-e654b6cec0bc",
   "metadata": {},
   "source": [
    "# Setup"
   ]
  },
  {
   "cell_type": "code",
   "execution_count": 1,
   "id": "60cce2be-a2fa-48c3-b307-2f31ac531e12",
   "metadata": {},
   "outputs": [],
   "source": [
    "import os\n",
    "os.environ[\"PATH\"] = os.environ[\"PATH\"] + \":/n/apps/CentOS7/bin/\"\n",
    "import bpreveal.utils as utils\n",
    "import bpreveal.tools.plots as bprplots\n",
    "from bpreveal.tools.slurm import configSlurm, jobsNonGpu, jobsGpu, jobsLocal, writeDependencyScript\n",
    "import json\n",
    "import matplotlib.pyplot as plt\n",
    "plt.rcParams['figure.figsize'] = [10,8]\n",
    "plt.rcParams['figure.dpi'] = 150\n",
    "import numpy as np\n",
    "import pybedtools\n",
    "import pysam\n",
    "import pyBigWig\n",
    "import h5py"
   ]
  },
  {
   "cell_type": "code",
   "execution_count": 2,
   "id": "f07a5177-a99c-40aa-91c6-482950670287",
   "metadata": {},
   "outputs": [],
   "source": [
    "BASE_DIRECTORY=\"/n/projects/cm2363/bpreveal\"\n",
    "WORKING_DIRECTORY=BASE_DIRECTORY + \"/test/acceptance/oskn-4.1.3\"\n",
    "DATA_DIRECTORY=BASE_DIRECTORY + \"/demoData/oskn\"\n",
    "SCRIPTS_DIR=\"/n/projects/cm2363/manuscript-bpreveal/src\"\n",
    "SLURM_CONFIG=configSlurm([\"/home/cm2363/.zshrc\"],\n",
    "                         \"bpreveal-cerebro\", WORKING_DIRECTORY)\n",
    "SLURM_CONFIG[\"gpuType\"] = \"a100\"\n",
    "GENOME_FASTA=\"/n/data1/genomes/indexes/mm10/mm10.fa\"\n",
    "TF_NAMES = [\"oct4\", \"sox2\", \"klf4\", \"nanog\"]\n",
    "TEST_CHROMS = [\"chr\" + str(x) for x in [1, 8, 9]]\n",
    "VAL_CHROMS = [\"chr\" + str(x) for x in [2,3,4]]\n",
    "TRAIN_CHROMS = [\"chr\" + str(x) for x in [5,6,7,10,11,12,13,14,15,16,17,18,19]]\n",
    "NUM_THREADS_MAJOR=70\n",
    "NUM_THREADS_MINOR=20\n",
    "\n",
    "NUM_EPOCHS = 200\n",
    "LOG_LEVEL=\"DEBUG\""
   ]
  },
  {
   "cell_type": "code",
   "execution_count": 3,
   "id": "de505de4-25cf-4a66-8b5e-33ef30de6b9e",
   "metadata": {},
   "outputs": [],
   "source": [
    "!mkdir -p {WORKING_DIRECTORY}/input\n",
    "!mkdir -p {WORKING_DIRECTORY}/bed\n",
    "!mkdir -p {WORKING_DIRECTORY}/json\n",
    "!mkdir -p {WORKING_DIRECTORY}/logs\n",
    "!mkdir -p {WORKING_DIRECTORY}/models\n",
    "!mkdir -p {WORKING_DIRECTORY}/modisco\n",
    "!mkdir -p {WORKING_DIRECTORY}/pred\n",
    "!mkdir -p {WORKING_DIRECTORY}/shap\n",
    "!mkdir -p {WORKING_DIRECTORY}/slurm\n",
    "!mkdir -p {WORKING_DIRECTORY}/scan\n",
    "\n"
   ]
  },
  {
   "cell_type": "code",
   "execution_count": 4,
   "id": "0167df43-b8de-4066-8220-a0b734f14f3f",
   "metadata": {},
   "outputs": [],
   "source": [
    "with open(WORKING_DIRECTORY + \"/slurm/.coveragerc\", \"w\") as fp:\n",
    "    fp.write(\n",
    "        \"[run]\\n\"\n",
    "        \"branch = True\\n\"\n",
    "        \"concurrency = multiprocessing\\n\"\n",
    "        \"omit = /tmp/*\\n\"\n",
    "        \"disable_warnings =\\n\"\n",
    "        \"    module-not-measured\\n\"\n",
    "        \"    module-not-imported\\n\"\n",
    "        \"parallel = true\\n\"\n",
    "        \"source = /n/projects/cm2363/bpreveal/src\\n    bpreveal\\n\"\n",
    "        \"\\n[report]\\n\"\n",
    "        \"exclude_also =\\n    assert\\n\")\n"
   ]
  },
  {
   "cell_type": "code",
   "execution_count": 5,
   "id": "810982bf-bbd7-44e1-97da-20bc0200d4c9",
   "metadata": {},
   "outputs": [],
   "source": [
    "#Start building a list of jobs to run with dependencies\n",
    "jobSpecs = []"
   ]
  },
  {
   "cell_type": "markdown",
   "id": "4abb93dd-a95c-4496-a290-4c48d5bad6c7",
   "metadata": {},
   "source": [
    "# Length calc"
   ]
  },
  {
   "cell_type": "code",
   "execution_count": 6,
   "id": "d42b1918-2682-4954-8a70-8bb461958754",
   "metadata": {},
   "outputs": [
    {
     "name": "stdout",
     "output_type": "stream",
     "text": [
      "3056\n",
      "2057\n",
      "1028\n"
     ]
    }
   ],
   "source": [
    "OUTPUT_LENGTH=1000\n",
    "CONV1_SIZE=7\n",
    "PROFILE_CONV_SIZE=7\n",
    "input_length_str = !lengthCalc --output-len {OUTPUT_LENGTH} \\\n",
    "                               --n-dil-layers 9 \\\n",
    "                               --conv1-kernel-size {CONV1_SIZE} \\\n",
    "                               --profile-kernel-size {PROFILE_CONV_SIZE}\n",
    "INPUT_LENGTH=int(input_length_str[0])\n",
    "print(INPUT_LENGTH)\n",
    "RECEPTIVE_FIELD=INPUT_LENGTH - OUTPUT_LENGTH + 1\n",
    "print(RECEPTIVE_FIELD)\n",
    "BUFFER = (INPUT_LENGTH - OUTPUT_LENGTH) // 2\n",
    "print(BUFFER)\n",
    "MAX_JITTER = 100"
   ]
  },
  {
   "cell_type": "code",
   "execution_count": 7,
   "id": "94c54f92-66a6-49ff-bd5f-72948af81440",
   "metadata": {},
   "outputs": [],
   "source": [
    "slurmNameCheckLength = jobsNonGpu(SLURM_CONFIG,\n",
    "    [\"coverage run $(which lengthCalc) --output-len \"\n",
    "     \"{0:d}  --n-dil-layers 9 --conv1-kernel-size 25 \"\n",
    "     \"--profile-kernel-size 25\".format(OUTPUT_LENGTH)], \n",
    "            \"checkLengthCalc\", 1, 1, \"0:01:00\")\n",
    "jobSpecs.append([slurmNameCheckLength, []])"
   ]
  },
  {
   "cell_type": "markdown",
   "id": "98f34d5e-5ed9-43b2-88b3-c64cf33999c5",
   "metadata": {},
   "source": [
    "# Prepare bed"
   ]
  },
  {
   "cell_type": "code",
   "execution_count": 8,
   "id": "5a3b7fe4-bed6-43da-9111-5c98a36360f5",
   "metadata": {},
   "outputs": [],
   "source": [
    "bigwigFileNames = [[DATA_DIRECTORY + \"/\" + tfName + \"/counts.\" + strand + \".bw\"  \n",
    "                   for strand in [\"pos\", \"neg\"]]\n",
    "                  for tfName in TF_NAMES]\n",
    "summitBedFnames = [DATA_DIRECTORY + \"/\" + tfName + \"/idr-optimal-set.summit.bed\" \n",
    "                   for tfName in TF_NAMES]\n",
    "summitBedFnames += [DATA_DIRECTORY + \"/peaks-bak/\" + tfName + \".bed\"\n",
    "                    for tfName in TF_NAMES]\n",
    "headSpec = [{\"bigwig-names\" : flist, \"max-quantile\" : 1, \"min-counts\" : 1} \n",
    "          for flist in bigwigFileNames]\n"
   ]
  },
  {
   "cell_type": "code",
   "execution_count": 9,
   "id": "db13bcb8-11a9-4005-8ce0-82d29177895c",
   "metadata": {
    "tags": []
   },
   "outputs": [],
   "source": [
    "prepareBedPeaksConfig = {\n",
    "    \"heads\" : headSpec, \n",
    "    \"splits\" : {\"test-chroms\"  : TEST_CHROMS, \n",
    "                \"val-chroms\"   : VAL_CHROMS,\n",
    "                \"train-chroms\" : TRAIN_CHROMS,\n",
    "                \"regions\" : summitBedFnames},\n",
    "    \"genome\" : GENOME_FASTA,\n",
    "    \"output-length\" : OUTPUT_LENGTH, \n",
    "    \"input-length\" : INPUT_LENGTH,\n",
    "    \"max-jitter\" : MAX_JITTER,\n",
    "    \"output-prefix\" : WORKING_DIRECTORY + \"/bed/peak\", \n",
    "    \"resize-mode\" : \"center\", \n",
    "    \"remove-overlaps\" : True,\n",
    "    \"overlap-max-distance\" : 100,\n",
    "    \"num-threads\" : NUM_THREADS_MAJOR,\n",
    "    \"verbosity\" : LOG_LEVEL}\n",
    "\n",
    "with open(WORKING_DIRECTORY + \"/json/prepareBedPeaks.json\", \"w\") as fp:\n",
    "    json.dump(prepareBedPeaksConfig, fp, indent=4)\n"
   ]
  },
  {
   "cell_type": "code",
   "execution_count": 10,
   "id": "5a945747-c70c-477c-8696-bf54e93e81cb",
   "metadata": {
    "tags": []
   },
   "outputs": [],
   "source": [
    "slurmNamePrepareBedPeaks = jobsNonGpu(SLURM_CONFIG, [\"coverage run $(which prepareBed) {0:s}/json/prepareBedPeaks.json\".format(WORKING_DIRECTORY)], \n",
    "            \"prepareBedPeaks\", NUM_THREADS_MAJOR, 50, \"1:00:00\")\n",
    "jobSpecs.append([slurmNamePrepareBedPeaks, []])\n"
   ]
  },
  {
   "cell_type": "markdown",
   "id": "383d75ab-d88b-4cc8-9aba-55b8216a95d2",
   "metadata": {},
   "source": [
    "# Tile Genome"
   ]
  },
  {
   "cell_type": "code",
   "execution_count": 11,
   "id": "040772d0-ed6c-44b6-a27e-25e04e9cfac4",
   "metadata": {},
   "outputs": [],
   "source": [
    "backgroundBase = \"coverage run $(which tileGenome) --genome {0:s} --output-length {1:d} --input-length {2:d} \"\\\n",
    "                 \"--chrom-edge-boundary 100000 --spacing 10000 --output-bed {3:s} \"\\\n",
    "                 \"{4:s} {5:s}\"\n",
    "blacklistArgs = \"--blacklist {0:s} --blacklist {1:s}\".format(\n",
    "    WORKING_DIRECTORY + \"/bed/peak_all.bed\",\n",
    "    WORKING_DIRECTORY + \"/bed/peak_reject.bed\")\n",
    "\n",
    "chromArgs = ' '.join([\"--allow-chrom {0:s}\".format(c) for c in (TRAIN_CHROMS + TEST_CHROMS + VAL_CHROMS)])\n",
    "\n",
    "cmdGenBackground = backgroundBase.format(\n",
    "    GENOME_FASTA, OUTPUT_LENGTH, INPUT_LENGTH, WORKING_DIRECTORY + \"/bed/tiling_all.bed\",\n",
    "    blacklistArgs, chromArgs)\n",
    "\n",
    "slurmNameGenBackground = jobsNonGpu(SLURM_CONFIG, [cmdGenBackground], \"genBackground\", 1, 10, \"1:00:00\")\n",
    "jobSpecs.append([slurmNameGenBackground, [slurmNamePrepareBedPeaks]])"
   ]
  },
  {
   "cell_type": "code",
   "execution_count": 12,
   "id": "11fed3c5-b984-4e5b-bdba-27254e02c44b",
   "metadata": {},
   "outputs": [],
   "source": [
    "biasBigwigFnames = [DATA_DIRECTORY + \"/patchcap/counts.\" + strand + \".bw\" \n",
    "                    for strand in [\"pos\", \"neg\"]]"
   ]
  },
  {
   "cell_type": "code",
   "execution_count": 13,
   "id": "adc2bde2-8090-43b3-b73d-534b6ec0109a",
   "metadata": {
    "tags": []
   },
   "outputs": [],
   "source": [
    "biasHeadSpec = [{\"bigwig-names\" : flist, \"max-quantile\" : 0.6, \"min-quantile\" : 0.01} \n",
    "          for flist in bigwigFileNames]\n",
    "biasHeadSpec = biasHeadSpec + [{\"bigwig-names\" : biasBigwigFnames, \n",
    "                            \"max-quantile\" : 0.95, \n",
    "                            \"min-quantile\" : 0.1} ]\n",
    "prepareBedNonPeaksConfig = {\n",
    "    \"heads\" : biasHeadSpec, \n",
    "    \"splits\" : {\"test-chroms\"  : TEST_CHROMS, \n",
    "                \"val-chroms\"   : VAL_CHROMS,\n",
    "                \"train-chroms\" : TRAIN_CHROMS,\n",
    "                \"regions\" : [WORKING_DIRECTORY + \"/bed/tiling_all.bed\"]},\n",
    "    \"genome\" : GENOME_FASTA,\n",
    "    \"output-length\" : OUTPUT_LENGTH,\n",
    "    \"input-length\" : INPUT_LENGTH,\n",
    "    \"max-jitter\" : MAX_JITTER,\n",
    "    \"output-prefix\" : WORKING_DIRECTORY + \"/bed/nonpeak\", \n",
    "    \"remove-overlaps\" : False,\n",
    "    \"resize-mode\" : \"center\",\n",
    "    \"num-threads\" : NUM_THREADS_MAJOR,\n",
    "    \"verbosity\" : LOG_LEVEL}\n",
    "\n",
    "with open(WORKING_DIRECTORY + \"/json/prepareBedNonPeaks.json\", \"w\") as fp:\n",
    "    json.dump(prepareBedNonPeaksConfig, fp)"
   ]
  },
  {
   "cell_type": "code",
   "execution_count": 14,
   "id": "95cc332e-744b-4d18-8f9e-7e69f799212b",
   "metadata": {
    "tags": []
   },
   "outputs": [],
   "source": [
    "slurmNamePrepareBedNonPeaks = jobsNonGpu(SLURM_CONFIG,\n",
    "    [\"coverage run $(which prepareBed) {0:s}/json/prepareBedNonPeaks.json\".format(WORKING_DIRECTORY)], \n",
    "    \"prepareBedNonPeaks\", NUM_THREADS_MAJOR, 50, \"1:00:00\")\n",
    "jobSpecs.append([slurmNamePrepareBedNonPeaks, [slurmNameGenBackground]])"
   ]
  },
  {
   "cell_type": "markdown",
   "id": "7532b8ef-20a2-49ee-b623-f3a443c0a0d2",
   "metadata": {},
   "source": [
    "# Building the training dataset"
   ]
  },
  {
   "cell_type": "code",
   "execution_count": 15,
   "id": "982118a2-5a80-4306-bae5-d3e5870ab0fd",
   "metadata": {
    "tags": []
   },
   "outputs": [],
   "source": [
    "configFnames = []\n",
    "for split in [\"train\", \"val\"]:\n",
    "    for dataset in [\"peak\", \"nonpeak\"]:\n",
    "        heads = []\n",
    "        for tfId, tfName in enumerate(TF_NAMES):\n",
    "            if(dataset == 'peak'):\n",
    "                heads.append({\n",
    "                    \"revcomp-task-order\" : \"auto\",\n",
    "                    \"bigwig-files\" : bigwigFileNames[tfId]})\n",
    "            else:\n",
    "                heads.append({\n",
    "                    \"revcomp-task-order\" : \"auto\",\n",
    "                    \"bigwig-files\" : biasBigwigFnames})\n",
    "        config = {\"genome\" : GENOME_FASTA, \n",
    "                  \"input-length\" : INPUT_LENGTH,\n",
    "                  \"output-length\" : OUTPUT_LENGTH,\n",
    "                  \"max-jitter\" : MAX_JITTER,\n",
    "                  \"regions\" : WORKING_DIRECTORY + \"/bed/\" + dataset + \"_\" + split + \".bed\",\n",
    "                  \"output-h5\" : WORKING_DIRECTORY + \"/input/\" + dataset + \"_\" + split + \".h5\",\n",
    "                  \"reverse-complement\" : True,\n",
    "                  \"heads\" : heads,\n",
    "                  \"verbosity\" : LOG_LEVEL}\n",
    "        configFname =WORKING_DIRECTORY + \"/json/prepareInput\" + dataset + \"_\" + split+ \".json\" \n",
    "        with open(configFname, \"w\") as fp:\n",
    "            json.dump(config, fp, indent=2)\n",
    "        configFnames.append(configFname)\n",
    "slurmNamePrepareTrainingData = jobsNonGpu(SLURM_CONFIG,\n",
    "    [\"coverage run $(which prepareTrainingData) {0:s}\".format(configFname) \n",
    "                for configFname in configFnames], \n",
    "    \"prepareTrainingData\", 2, 20, \"1:00:00\")\n",
    "jobSpecs.append([slurmNamePrepareTrainingData, [slurmNamePrepareBedNonPeaks]])\n",
    "        \n",
    "\n"
   ]
  },
  {
   "cell_type": "markdown",
   "id": "4eeb4b1c-9575-4f63-990f-3803b99d887c",
   "metadata": {},
   "source": [
    "# Training the bias model"
   ]
  },
  {
   "cell_type": "code",
   "execution_count": 16,
   "id": "4aef2dba-7a89-4b4b-9dde-ba5fc9e8baa2",
   "metadata": {},
   "outputs": [],
   "source": [
    "\n",
    "heads = []\n",
    "for tfName in TF_NAMES:\n",
    "    heads.append({\"num-tasks\" : 2, \n",
    "                  \"profile-loss-weight\" : 1, \n",
    "                  \"head-name\" : \"patchcap_\" + tfName,\n",
    "                  \"counts-loss-weight\" : 10,\n",
    "                  \"counts-loss-frac-target\" : 0.1})\n",
    "\n",
    "biasTrainConfig = {\n",
    "    \"settings\" : {\n",
    "        \"output-prefix\" : WORKING_DIRECTORY + \"/models/solo\", \n",
    "        \"epochs\" : NUM_EPOCHS,\n",
    "        \"max-jitter\" : 100,\n",
    "        \"early-stopping-patience\" : 20,\n",
    "        \"batch-size\" : 128,\n",
    "        \"learning-rate\" : 0.004,\n",
    "        \"learning-rate-plateau-patience\" : 5,\n",
    "        \"architecture\" : {\n",
    "            \"architecture-name\" : \"bpnet\", \n",
    "            \"input-length\" : INPUT_LENGTH,\n",
    "            \"output-length\" : OUTPUT_LENGTH,\n",
    "            \"model-name\" : \"patchcap\",\n",
    "            \"model-args\" : \"\",\n",
    "            \"filters\" : 16,\n",
    "            \"layers\" : 9,\n",
    "            \"input-filter-width\" : CONV1_SIZE,\n",
    "            \"output-filter-width\" : PROFILE_CONV_SIZE\n",
    "        }\n",
    "    },\n",
    "    \"train-data\" : WORKING_DIRECTORY + \"/input/nonpeak_train.h5\",\n",
    "    \"val-data\" : WORKING_DIRECTORY + \"/input/nonpeak_val.h5\",\n",
    "    \"heads\" : heads,\n",
    "    \"verbosity\" : LOG_LEVEL\n",
    "}\n",
    "\n",
    "\n",
    "with open(WORKING_DIRECTORY + \"/json/trainBias.json\", \"w\") as fp:\n",
    "    json.dump(biasTrainConfig, fp, indent=4)\n",
    "    "
   ]
  },
  {
   "cell_type": "code",
   "execution_count": 17,
   "id": "d9ccd4ae-da60-4fb9-8680-bd1458737a3e",
   "metadata": {
    "tags": []
   },
   "outputs": [],
   "source": [
    "slurmNameTrainSoloModel = jobsGpu(SLURM_CONFIG, [\"coverage run $(which trainSoloModel) {0:s}\".format(WORKING_DIRECTORY + \"/json/trainBias.json\")],\n",
    "        \"trainSolo\", 10, 30, \"10:00:00\")\n",
    "jobSpecs.append([slurmNameTrainSoloModel, [slurmNamePrepareTrainingData]])\n"
   ]
  },
  {
   "cell_type": "markdown",
   "id": "a2a5ddbb-67fa-4496-b29d-ea65282963a9",
   "metadata": {},
   "source": [
    "# makePredictions"
   ]
  },
  {
   "cell_type": "code",
   "execution_count": 18,
   "id": "641452f3-4b34-4bb4-bfb0-81afe24387b3",
   "metadata": {},
   "outputs": [],
   "source": [
    "\n",
    "biasPredictConfig = {\n",
    "    \"settings\" : {\n",
    "        \"output-h5\" : WORKING_DIRECTORY + \"/pred/patchcap.h5\", \n",
    "        \"batch-size\" : 128,\n",
    "        \"heads\" : len(TF_NAMES),\n",
    "        \n",
    "        \"architecture\" : {\n",
    "            \"model-file\" : WORKING_DIRECTORY + \"/models/solo.model\",\n",
    "            \"input-length\" : INPUT_LENGTH,\n",
    "            \"output-length\" : OUTPUT_LENGTH\n",
    "        }\n",
    "    },\n",
    "    \"genome\" : GENOME_FASTA, \n",
    "    \"bed-file\" : WORKING_DIRECTORY + \"/bed/peak_all.bed\",\n",
    "    \"num-threads\" : 4,\n",
    "    \"verbosity\" : LOG_LEVEL\n",
    "}\n",
    "\n",
    "\n",
    "with open(WORKING_DIRECTORY + \"/json/predictBias.json\", \"w\") as fp:\n",
    "    json.dump(biasPredictConfig, fp)"
   ]
  },
  {
   "cell_type": "code",
   "execution_count": 19,
   "id": "bdee6a45-41fd-49f7-bb82-8e88a6ca26e3",
   "metadata": {
    "tags": []
   },
   "outputs": [],
   "source": [
    "slurmNamePredictSolo = jobsNonGpu(SLURM_CONFIG, [\"coverage run $(which makePredictions) {0:s}\".format(WORKING_DIRECTORY + \"/json/predictBias.json\")],\n",
    "        \"predictSolo\", 3, 50, \"10:00:00\")\n",
    "jobSpecs.append([slurmNamePredictSolo, [slurmNameTrainSoloModel]])"
   ]
  },
  {
   "cell_type": "markdown",
   "id": "d305bf78-fdc3-4c8b-ac1e-0e8d80e95b69",
   "metadata": {},
   "source": [
    "# PredictToBigwig"
   ]
  },
  {
   "cell_type": "code",
   "execution_count": 20,
   "id": "f634da20-4246-41e5-8f73-a15c2248cb63",
   "metadata": {
    "tags": []
   },
   "outputs": [],
   "source": [
    "\n",
    "predCmd = \"coverage run $(which predictToBigwig) \" +\\\n",
    "          \"--h5 {0:s}/pred/patchcap.h5 \" +\\\n",
    "          \"--bw {0:s}/pred/patchcap_{1:s}.bw \"+\\\n",
    "          \"--head-id 0 --task-id {2:d} --mode profile \"+\\\n",
    "          \"--threads {3:d}\"\n",
    "\n",
    "slurmNamePredToBigwigBias = jobsNonGpu(SLURM_CONFIG, [predCmd.format(WORKING_DIRECTORY, strand[0], strand[1], NUM_THREADS_MINOR) for strand in [(\"positive\", 0), (\"negative\", 1)]], \n",
    "           \"predToBigwigBias\", NUM_THREADS_MINOR, 20, \"1:00:00\")\n",
    "jobSpecs.append([slurmNamePredToBigwigBias, [slurmNamePredictSolo]])"
   ]
  },
  {
   "cell_type": "markdown",
   "id": "1a7537c2-bc8a-4def-a267-b0778b01d523",
   "metadata": {},
   "source": [
    "# makeLossPlots"
   ]
  },
  {
   "cell_type": "code",
   "execution_count": 21,
   "id": "d47572a0-d875-487d-ad95-c8f7a50e913b",
   "metadata": {},
   "outputs": [],
   "source": [
    "cmdLossPlots = \"coverage run $(which makeLossPlots) --json {0:s}/models/solo.history.json --output {0:s}/models/solo.png\".format(WORKING_DIRECTORY)\n",
    "slurmNameLossPlotsSolo = jobsNonGpu(SLURM_CONFIG, [cmdLossPlots], \"lossPlots\", 1, 20, \"1:00:00\")\n",
    "jobSpecs.append([slurmNameLossPlotsSolo, [slurmNameTrainSoloModel]])"
   ]
  },
  {
   "cell_type": "markdown",
   "id": "a5219df4-c6b6-425e-8df7-37123bc0159e",
   "metadata": {},
   "source": [
    "# Training the transformation model"
   ]
  },
  {
   "cell_type": "code",
   "execution_count": 22,
   "id": "8cce598e-eaed-4baa-b181-f4aacab3bd2a",
   "metadata": {
    "tags": []
   },
   "outputs": [],
   "source": [
    "heads = []\n",
    "for tfName in TF_NAMES:\n",
    "    heads.append({\"num-tasks\" : 2, \n",
    "                  \"profile-loss-weight\" : 1, \n",
    "                  \"head-name\" : \"patchcap_\" + tfName,\n",
    "                  \"counts-loss-weight\" : 100,\n",
    "                  \"counts-loss-frac-target\" : 0.1})\n",
    "\n",
    "transformationTrainConfig = {\n",
    "    \"settings\" : {\n",
    "        \"output-prefix\" : WORKING_DIRECTORY + \"/models/transformation\", \n",
    "        \"epochs\" : NUM_EPOCHS,\n",
    "        \"early-stopping-patience\" : 20,\n",
    "        \"batch-size\" : 128,\n",
    "        \"learning-rate\" : 0.04,\n",
    "        \"learning-rate-plateau-patience\" : 5,\n",
    "        \"solo-model-file\" : WORKING_DIRECTORY + \"/models/solo.model\",\n",
    "        \"input-length\" : INPUT_LENGTH, \n",
    "        \"output-length\" : OUTPUT_LENGTH,\n",
    "        \"max-jitter\" : 100,\n",
    "        \"profile-architecture\" : {\n",
    "            \"name\" : \"simple\", \n",
    "            \"types\" : [\"linear\", \"sigmoid\"]},\n",
    "        \"counts-architecture\" : {\n",
    "            \"name\" : \"simple\", \n",
    "            \"types\" : [\"linear\", \"sigmoid\"]}},\n",
    "        \n",
    "    \"train-data\" : WORKING_DIRECTORY+ \"/input/peak_train.h5\",\n",
    "    \"val-data\" : WORKING_DIRECTORY + \"/input/peak_val.h5\",\n",
    "    \"heads\" : heads,\n",
    "    \"verbosity\" : LOG_LEVEL\n",
    "}\n",
    "with open(WORKING_DIRECTORY + \"/json/trainTransformation.json\", \"w\") as fp:\n",
    "    json.dump(transformationTrainConfig, fp)"
   ]
  },
  {
   "cell_type": "code",
   "execution_count": 23,
   "id": "0396084b-c755-4b1f-873e-b82066068d77",
   "metadata": {
    "tags": []
   },
   "outputs": [],
   "source": [
    "slurmNameTrainTransformation = jobsGpu(SLURM_CONFIG, \n",
    "    [\"coverage run $(which trainTransformationModel) {0:s}\".format(WORKING_DIRECTORY + \"/json/trainTransformation.json\")],\n",
    "        \"trainTransformation\", 10, 60, \"10:00:00\")\n",
    "jobSpecs.append([slurmNameTrainTransformation, [slurmNameTrainSoloModel]])"
   ]
  },
  {
   "cell_type": "markdown",
   "id": "07862308-9a70-492f-9347-0e3066a71d58",
   "metadata": {},
   "source": [
    "# Transformation prediction"
   ]
  },
  {
   "cell_type": "code",
   "execution_count": 24,
   "id": "e55883d6-60af-46e5-af04-2269e432dc7b",
   "metadata": {
    "tags": []
   },
   "outputs": [],
   "source": [
    "transformPredictConfig = {\n",
    "    \"settings\" : {\n",
    "        \"output-h5\" : WORKING_DIRECTORY + \"/pred/transform.h5\", \n",
    "        \"batch-size\" : 128,\n",
    "        \"heads\" : len(TF_NAMES),\n",
    "        \n",
    "        \"architecture\" : {\n",
    "            \"model-file\" : WORKING_DIRECTORY + \"/models/transformation.model\",\n",
    "            \"input-length\" : INPUT_LENGTH,\n",
    "            \"output-length\" : OUTPUT_LENGTH\n",
    "        }\n",
    "    },\n",
    "    \"genome\" : GENOME_FASTA, \n",
    "    \"bed-file\" : WORKING_DIRECTORY + \"/bed/peak_all.bed\",\n",
    "    \"num-threads\" : 1,\n",
    "    \"verbosity\" : LOG_LEVEL\n",
    "}\n",
    "\n",
    "\n",
    "with open(WORKING_DIRECTORY + \"/json/predictTransformation.json\", \"w\") as fp:\n",
    "    json.dump(transformPredictConfig, fp)\n"
   ]
  },
  {
   "cell_type": "code",
   "execution_count": 25,
   "id": "b8bf0a8a-1f74-4e41-91f4-c9db7120005d",
   "metadata": {
    "tags": []
   },
   "outputs": [],
   "source": [
    "slurmNamePredictTransformation = jobsNonGpu(SLURM_CONFIG, \n",
    "    [\"coverage run $(which makePredictions) {0:s}\".format(WORKING_DIRECTORY + \"/json/predictTransformation.json\")],\n",
    "        \"predictTransformation\", 2, 50, \"10:00:00\")\n",
    "jobSpecs.append([slurmNamePredictTransformation, [slurmNameTrainTransformation]])\n",
    "predCmd = \"coverage run $(which predictToBigwig) \" +\\\n",
    "          \"--h5 {0:s}/pred/transform.h5 \" +\\\n",
    "          \"--bw {0:s}/pred/transform_{1:s}.bw \"+\\\n",
    "          \"--head-id 0 --task-id {2:d} --mode profile \"+\\\n",
    "          \"--threads {3:d}\"\n",
    "\n",
    "slurmNamePredToBigwigTransformation = jobsNonGpu(SLURM_CONFIG,\n",
    "    [predCmd.format(WORKING_DIRECTORY, strand[0], strand[1], NUM_THREADS_MINOR) for strand in [(\"positive\", 0), (\"negative\", 1)]], \n",
    "    \"predToBigwigTransform\", NUM_THREADS_MINOR, 20, \"1:00:00\")\n",
    "jobSpecs.append([slurmNamePredToBigwigTransformation, [slurmNamePredictTransformation]])"
   ]
  },
  {
   "cell_type": "markdown",
   "id": "96fb4e16-5ddb-4272-bd97-18e775902709",
   "metadata": {},
   "source": [
    "# Training the combined model"
   ]
  },
  {
   "cell_type": "code",
   "execution_count": 26,
   "id": "dd3a64f2-3757-4f4d-97fe-c2806a4c6629",
   "metadata": {
    "tags": []
   },
   "outputs": [],
   "source": [
    "heads = []\n",
    "for i, tfName in enumerate(TF_NAMES):\n",
    "    heads.append({\"num-tasks\" : 2, \n",
    "                  \"profile-loss-weight\" : 1, \n",
    "                  \"head-name\" : \"combined_\" + tfName,\n",
    "                  \"counts-loss-weight\" : 100,\n",
    "                  \"counts-loss-frac-target\" : 0.1,\n",
    "                  \"use-bias-counts\" : i == 0 # Just to test the system, there's no reason to do this in a real model.\n",
    "                 })\n",
    "\n",
    "combinedTrainConfig = {\n",
    "    \"settings\" : {\n",
    "        \"output-prefix\" : WORKING_DIRECTORY + \"/models/joint\", \n",
    "        \"epochs\" : NUM_EPOCHS,\n",
    "        \"early-stopping-patience\" : 20,\n",
    "        \"batch-size\" : 128,\n",
    "        \"learning-rate\" : 0.004,\n",
    "        \"learning-rate-plateau-patience\" : 5,\n",
    "        \"max-jitter\" : 100,\n",
    "        \"transformation-model\" : {\n",
    "            \"transformation-model-file\" : WORKING_DIRECTORY + \"/models/transformation.model\"\n",
    "        },\n",
    "        \"architecture\" : {\n",
    "            \"architecture-name\" : \"bpnet\", \n",
    "            \"input-length\" : INPUT_LENGTH,\n",
    "            \"output-length\" : OUTPUT_LENGTH,\n",
    "            \"model-name\" : \"joint\",\n",
    "            \"model-args\" : \"\",\n",
    "            \"filters\" : 64,\n",
    "            \"layers\" : 9,\n",
    "            \"input-filter-width\" : 7,\n",
    "            \"output-filter-width\" : 7\n",
    "        }\n",
    "    },\n",
    "    \"train-data\" : WORKING_DIRECTORY + \"/input/peak_train.h5\",\n",
    "    \"val-data\" : WORKING_DIRECTORY + \"/input/peak_val.h5\",\n",
    "    \"heads\" : heads,\n",
    "    \"verbosity\" : \"DEBUG\" # I need some debug output to test showTrainingProgress.\n",
    "}\n",
    "\n",
    "\n",
    "with open(WORKING_DIRECTORY + \"/json/trainCombined.json\", \"w\") as fp:\n",
    "    json.dump(combinedTrainConfig, fp)"
   ]
  },
  {
   "cell_type": "code",
   "execution_count": 27,
   "id": "f549186b-79e3-42a0-a3a5-905ef6d94665",
   "metadata": {
    "tags": []
   },
   "outputs": [],
   "source": [
    "\n",
    "slurmNameTrainCombined = jobsGpu(SLURM_CONFIG, [\"coverage run $(which trainCombinedModel) {0:s}\".format(WORKING_DIRECTORY + \"/json/trainCombined.json\")],\n",
    "        \"trainCombined\", 10, 60, \"10:00:00\")\n",
    "jobSpecs.append([slurmNameTrainCombined, [slurmNameTrainTransformation]])"
   ]
  },
  {
   "cell_type": "markdown",
   "id": "bb561827-9a37-4de3-9799-eb0bb41e4c8a",
   "metadata": {},
   "source": [
    "# Predict combined"
   ]
  },
  {
   "cell_type": "code",
   "execution_count": 28,
   "id": "d985c4d4-8eff-4a87-8852-983375e29400",
   "metadata": {},
   "outputs": [],
   "source": [
    "combinedPredictConfig = {\n",
    "    \"settings\" : { \n",
    "        \"output-h5\" : WORKING_DIRECTORY + \"/pred/combined.h5\", \n",
    "        \"batch-size\" : 128,\n",
    "        \"heads\" : len(TF_NAMES),\n",
    "        \n",
    "        \"architecture\" : {\n",
    "            \"model-file\" : WORKING_DIRECTORY + \"/models/joint_combined.model\",\n",
    "            \"input-length\" : INPUT_LENGTH,\n",
    "            \"output-length\" : OUTPUT_LENGTH\n",
    "        }\n",
    "    },\n",
    "    \"genome\" : GENOME_FASTA,\n",
    "    \"bed-file\" : WORKING_DIRECTORY + \"/bed/peak_all.bed\",\n",
    "    \"num-threads\" : 2,\n",
    "    \"verbosity\" : LOG_LEVEL\n",
    "}\n",
    "with open(WORKING_DIRECTORY + \"/json/predictCombined.json\", \"w\") as fp:\n",
    "    json.dump(combinedPredictConfig, fp)\n",
    "#For the residual model, I just need to change a few terms:\n",
    "residualPredictConfig = combinedPredictConfig\n",
    "residualPredictConfig[\"settings\"][\"output-h5\"] = WORKING_DIRECTORY + \"/pred/residual.h5\"\n",
    "residualPredictConfig[\"settings\"][\"architecture\"][\"model-file\"] = WORKING_DIRECTORY + \"/models/joint_residual.model\"\n",
    "with open(WORKING_DIRECTORY + \"/json/predictResidual.json\", \"w\") as fp:\n",
    "    json.dump(residualPredictConfig, fp)"
   ]
  },
  {
   "cell_type": "code",
   "execution_count": 29,
   "id": "07cee25b-c851-4c47-b5d6-28ba288c94e1",
   "metadata": {},
   "outputs": [],
   "source": [
    "slurmNamePredictCombined = jobsGpu(SLURM_CONFIG, \n",
    "    [\"coverage run $(which makePredictions) {0:s}\".format(WORKING_DIRECTORY + \"/json/predictCombined.json\"),\n",
    "     \"coverage run $(which makePredictions) {0:s}\".format(WORKING_DIRECTORY + \"/json/predictResidual.json\")],\n",
    "    \"predictCombined\", 1, 50, \"10:00:00\")\n",
    "jobSpecs.append([slurmNamePredictCombined, [slurmNameTrainCombined]])\n",
    "\n",
    "bwCmdBase = \"coverage run $(which predictToBigwig) \" +\\\n",
    "          \"--h5 {wd:s}/pred/{inf:s}.h5 \" +\\\n",
    "          \"--bw {wd:s}/pred/{outf:s}.bw \"+\\\n",
    "          \"--head-id {hid:d} --task-id {tid:d} --mode profile \"+\\\n",
    "          \"--threads {nt:d}\"\n",
    "bwCmds = []\n",
    "for modelType in [\"residual\", \"combined\"]:\n",
    "    for headid, tfname in enumerate(TF_NAMES):\n",
    "        for tid, strand in enumerate([\"positive\", \"negative\"]):\n",
    "            cmd = bwCmdBase.format(wd=WORKING_DIRECTORY, \n",
    "                                   inf=modelType,\n",
    "                                   outf=tfname + \"_\" + modelType + \"_\" + strand,\n",
    "                                   hid=headid, tid=tid,\n",
    "                                   nt=NUM_THREADS_MINOR)\n",
    "            bwCmds.append(cmd)\n",
    "\n",
    "slurmNamePredToBigwigCombined = jobsNonGpu(SLURM_CONFIG, bwCmds, \n",
    "           \"predToBigwigCombined\", NUM_THREADS_MINOR, 20, \"1:00:00\")\n",
    "\n",
    "jobSpecs.append([slurmNamePredToBigwigCombined, [slurmNamePredictCombined]])"
   ]
  },
  {
   "cell_type": "markdown",
   "id": "9c9d62f7-c3f4-4db2-ab1a-f850655b6100",
   "metadata": {},
   "source": [
    "# Deriving flat importance scores"
   ]
  },
  {
   "cell_type": "code",
   "execution_count": 30,
   "id": "26bbda55-ac81-4c70-954d-fb576af8e1e7",
   "metadata": {},
   "outputs": [],
   "source": [
    "def makeInterpretJson(tfNum):\n",
    "    return {\n",
    "        \"genome\" : GENOME_FASTA,\n",
    "        \"bed-file\" : WORKING_DIRECTORY + \"/bed/peak_test.bed\",\n",
    "        \"model-file\" : WORKING_DIRECTORY + \"/models/joint_residual.model\", \n",
    "        \"input-length\" : INPUT_LENGTH,\n",
    "        \"output-length\" : OUTPUT_LENGTH,\n",
    "        \"heads\" : len(TF_NAMES),\n",
    "        \"head-id\": tfNum,\n",
    "        \"profile-task-ids\" : [0,1],\n",
    "        \"profile-h5\" : WORKING_DIRECTORY + \"/shap/\" + TF_NAMES[tfNum] + \"_profile.h5\",\n",
    "        \"counts-h5\" : WORKING_DIRECTORY + \"/shap/\" + TF_NAMES[tfNum] + \"_counts.h5\",\n",
    "        \"num-shuffles\" : 20,\n",
    "        \"kmer-size\" : tfNum + 1, # Just to exercise the code path.\n",
    "        \"verbosity\" : LOG_LEVEL}\n",
    "cmds = []\n",
    "for tfNum in range(len(TF_NAMES)):\n",
    "    fname = WORKING_DIRECTORY + \"/json/shap_\" + TF_NAMES[tfNum] + \".json\"\n",
    "    cmds.append(\"coverage run $(which interpretFlat) {0:s}\".format(fname))\n",
    "    with open(fname, \"w\") as fp:\n",
    "        json.dump(makeInterpretJson(tfNum), fp)\n",
    "slurmNameInterpretFlat = jobsGpu(SLURM_CONFIG, cmds,\n",
    "        \"interpretFlat\", 5, 50, \"10:00:00\")\n",
    "jobSpecs.append([slurmNameInterpretFlat, [slurmNameTrainCombined]])"
   ]
  },
  {
   "cell_type": "code",
   "execution_count": 31,
   "id": "8d161237-dbed-45b3-b412-1467b1492c91",
   "metadata": {},
   "outputs": [],
   "source": [
    "shapBwCmdBase = \"coverage run $(which shapToBigwig) \" +\\\n",
    "          \"--h5 {wd:s}/shap/{tf:s}_{readout:s}.h5 \" +\\\n",
    "          \"--bw {wd:s}/shap/{tf:s}_{readout:s}.bw \"\n",
    "shapBwCmds = []\n",
    "for tfname in TF_NAMES:\n",
    "    for readout in [\"profile\", \"counts\"]:\n",
    "        cmd = shapBwCmdBase.format(wd=WORKING_DIRECTORY, \n",
    "                                   tf=tfname,\n",
    "                                   readout=readout)\n",
    "        shapBwCmds.append(cmd)\n",
    "\n",
    "slurmNameShapToBigwig = jobsNonGpu(SLURM_CONFIG, shapBwCmds, \n",
    "           \"shapToBigwig\", 2, 20, \"1:00:00\")\n",
    "jobSpecs.append([slurmNameShapToBigwig, [slurmNameInterpretFlat]])\n"
   ]
  },
  {
   "cell_type": "markdown",
   "id": "d418ce90-7831-45bd-807c-429a9c195681",
   "metadata": {},
   "source": [
    "# ShapToNumpy"
   ]
  },
  {
   "cell_type": "code",
   "execution_count": 32,
   "id": "026eca42-71ee-40a2-a354-bf900ec5dee1",
   "metadata": {},
   "outputs": [],
   "source": [
    "\n",
    "shapToNumpyCmdBase = \"coverage run $(which shapToNumpy) \" +\\\n",
    "          \"--h5 {wd:s}/shap/{tf:s}_{readout:s}.h5 \" +\\\n",
    "          \"--seqs {wd:s}/shap/seqs_{tf:s}_{readout:s}.npz \"+\\\n",
    "          \"--scores {wd:s}/shap/scores_{tf:s}_{readout:s}.npz \"\n",
    "shapToNumpyCmds = []\n",
    "for tfname in TF_NAMES:\n",
    "    for readout in [\"profile\", \"counts\"]:\n",
    "        cmd = shapToNumpyCmdBase.format(wd=WORKING_DIRECTORY, \n",
    "                                        tf=tfname,\n",
    "                                        readout=readout)\n",
    "        shapToNumpyCmds.append(cmd)\n",
    "\n",
    "slurmNameShapToNumpy = jobsNonGpu(SLURM_CONFIG, shapToNumpyCmds, \n",
    "           \"shapToNumpy\", 2, 20, \"1:00:00\")\n",
    "jobSpecs.append([slurmNameShapToNumpy, [slurmNameInterpretFlat]])"
   ]
  },
  {
   "cell_type": "markdown",
   "id": "14c083e1-78d7-4b07-af93-2ec84565d341",
   "metadata": {},
   "source": [
    "# Modisco"
   ]
  },
  {
   "cell_type": "code",
   "execution_count": 33,
   "id": "79d00142-e055-4671-af84-2630d267b933",
   "metadata": {},
   "outputs": [],
   "source": [
    "modiscoCmdBase = \"mkdir -p {wd:s}/modisco/{tf:s}_{readout:s}\\n\" +\\\n",
    "          \"modisco motifs \" +\\\n",
    "              \"-s {wd:s}/shap/seqs_{tf:s}_{readout:s}.npz \" +\\\n",
    "              \"-a {wd:s}/shap/scores_{tf:s}_{readout:s}.npz \"+\\\n",
    "              \"-n 2000 \" +\\\n",
    "              \"-w 1000 \"+\\\n",
    "              \"-o {wd:s}/modisco/{tf:s}_{readout:s}/modisco.h5 \"\n",
    "modiscoCmds = []\n",
    "for tfname in TF_NAMES:\n",
    "    for readout in [\"profile\", \"counts\"]:\n",
    "        cmd = modiscoCmdBase.format(wd=WORKING_DIRECTORY, \n",
    "                                        tf=tfname,\n",
    "                                        readout=readout)\n",
    "        modiscoCmds.append(cmd)\n",
    "\n",
    "slurmNameModisco = jobsNonGpu(SLURM_CONFIG, modiscoCmds, \n",
    "           \"modisco\", 70, 600, \"10:00:00\")\n",
    "jobSpecs.append([slurmNameModisco, [slurmNameShapToNumpy]])"
   ]
  },
  {
   "cell_type": "code",
   "execution_count": 34,
   "id": "0db140a6-c174-4cc7-bc47-09dd86d56a54",
   "metadata": {},
   "outputs": [],
   "source": [
    "reportCmdBase = \"modisco report \" +\\\n",
    "              \"-i {wd:s}/modisco/{tf:s}_{readout:s}/modisco.h5 \" +\\\n",
    "              \"-o {wd:s}/modisco/{tf:s}_{readout:s}/ \"+\\\n",
    "              \"-n 2 \" +\\\n",
    "              \"-m /n/data1/JASPAR/2022/JASPAR2022_CORE_vertebrates_non-redundant_pfms_meme.txt \" +\\\n",
    "              \"\\n\\n{sd:s}/annotateModiscoHtml \" +\\\n",
    "              \" {wd:s}/modisco/{tf:s}_{readout:s}/motifs.html \" + \\\n",
    "              \" > {wd:s}/modisco/{tf:s}_{readout:s}/motifs_names.html\"\n",
    "              \n",
    "reportCmds = []\n",
    "for tfname in TF_NAMES:\n",
    "    for readout in [\"profile\", \"counts\"]:\n",
    "        cmd = reportCmdBase.format(wd=WORKING_DIRECTORY, \n",
    "                                        sd=SCRIPTS_DIR,\n",
    "                                        tf=tfname,\n",
    "                                        readout=readout)\n",
    "        reportCmds.append(cmd)\n",
    "\n",
    "slurmNameModiscoReport = jobsNonGpu(SLURM_CONFIG, reportCmds, \n",
    "           \"modiscoReport\", 5, 5, \"1:00:00\")\n",
    "jobSpecs.append([slurmNameModiscoReport, [slurmNameModisco]])"
   ]
  },
  {
   "cell_type": "markdown",
   "id": "5c6aa49a-20cb-41f6-99b6-50cb66eb1ac2",
   "metadata": {},
   "source": [
    "# Making a PISA plot"
   ]
  },
  {
   "cell_type": "code",
   "execution_count": 35,
   "id": "904c89e8-d2c1-4767-a205-9ec149ec885c",
   "metadata": {},
   "outputs": [],
   "source": [
    "windowStart = 180924752-1000\n",
    "windowEnd = 180925152+1000\n",
    "windowLen = windowEnd - windowStart\n",
    "windowChrom = \"chr1\""
   ]
  },
  {
   "cell_type": "code",
   "execution_count": 36,
   "id": "df32448b-f74a-431a-a144-d1532871e9a8",
   "metadata": {},
   "outputs": [],
   "source": [
    "\n",
    "def writeRegion(genome, outFp, regionStart):\n",
    "    genomeStart = regionStart - BUFFER\n",
    "    genomeEnd = genomeStart + INPUT_LENGTH\n",
    "    seq = genome.fetch(windowChrom, genomeStart, genomeEnd)\n",
    "    outFp.write(\">{0:d}\\n\".format(regionStart))\n",
    "    outFp.write(seq.upper())\n",
    "    outFp.write(\"\\n\")\n",
    "\n",
    "with open(WORKING_DIRECTORY + \"/shap/pisa_regions.fa\", \"w\") as fp:\n",
    "    with pysam.FastaFile(GENOME_FASTA) as genome:\n",
    "        for regionStart in range(windowStart, windowEnd):\n",
    "            writeRegion(genome, fp, regionStart)\n"
   ]
  },
  {
   "cell_type": "code",
   "execution_count": 37,
   "id": "60e4a096-e1cd-48aa-b465-e54160b106ff",
   "metadata": {},
   "outputs": [],
   "source": [
    "\n",
    "cmds = []\n",
    "for tfid in range(len(TF_NAMES)):\n",
    "    for strand in [0,1]:\n",
    "        task_name = TF_NAMES[tfid] + \"_\" + [\"positive\", \"negative\"][strand]\n",
    "        pisa_config = {\"model-file\" : WORKING_DIRECTORY + \"/models/joint_residual.model\", \n",
    "                       \"fasta-file\" : WORKING_DIRECTORY + \"/shap/pisa_regions.fa\", \n",
    "                       \"num-shuffles\" : 20, \n",
    "                       \"head-id\" : tfid,\n",
    "                       \"task-id\" : strand,\n",
    "                       \"output-h5\" : WORKING_DIRECTORY + \"/shap/pisa_\" + task_name + \".h5\",\n",
    "                       \"input-length\" : INPUT_LENGTH,\n",
    "                       \"output-length\" : OUTPUT_LENGTH,\n",
    "                       \"kmer-size\" : strand + 1, # Just to exercise both possibilities.\n",
    "                       \"num-threads\" : strand + 1,\n",
    "                       \"make-predictions\" : True,\n",
    "                       \"correct-receptive-field\": True,\n",
    "                       \"verbosity\" : LOG_LEVEL}\n",
    "        jsonFname = WORKING_DIRECTORY + \"/json/pisa_\" + task_name + \".json\"\n",
    "        with open(jsonFname, \"w\") as fp:\n",
    "            json.dump(pisa_config, fp)\n",
    "        cmds.append(\"coverage run $(which interpretPisa) {0:s}\".format(jsonFname))\n",
    "\n",
    "slurmNameInterpretPisa = jobsGpu(SLURM_CONFIG, cmds, \"interpretPisa\", 5, 20, \"10:00:00\")\n",
    "jobSpecs.append([slurmNameInterpretPisa, [slurmNameTrainCombined]])"
   ]
  },
  {
   "cell_type": "markdown",
   "id": "bdb60343-bb84-44dd-a1b5-3f44dcfd46c7",
   "metadata": {},
   "source": [
    "# Metrics"
   ]
  },
  {
   "cell_type": "code",
   "execution_count": 38,
   "id": "3ac30da9-de06-473c-862c-5caea7085f72",
   "metadata": {},
   "outputs": [],
   "source": [
    "metricsCmdBase = (\"coverage run $(which metrics) --reference {ddir:s}/{tf:s}/counts.{strand:s}.bw \"\n",
    "         \"--pred {wd:s}/pred/{tf:s}_combined_{longstrand:s}.bw \"\n",
    "         \"--regions {wd:s}/bed/peak_all.bed \"\n",
    "         \"--threads {nt:d} --apply-abs --skip-zeroes\")\n",
    "cmds = []\n",
    "for tfName in TF_NAMES:\n",
    "    for lstr, sstr in ((\"positive\", \"pos\"), (\"negative\", \"neg\")):\n",
    "        metricsCmd = metricsCmdBase.format(wd = WORKING_DIRECTORY, ddir=DATA_DIRECTORY, \n",
    "                                           tf=tfName, strand = sstr, longstrand=lstr,\n",
    "                                           nt=NUM_THREADS_MINOR)\n",
    "        cmds.append(metricsCmd)\n",
    "slurmNameMetrics = jobsNonGpu(SLURM_CONFIG, cmds, \"metrics\", NUM_THREADS_MINOR, 20, \"1:00:00\")\n",
    "jobSpecs.append([slurmNameMetrics, [slurmNamePredToBigwigCombined]])"
   ]
  },
  {
   "cell_type": "markdown",
   "id": "1f99c289-45b3-4285-bcd4-9e8b04ee1afa",
   "metadata": {},
   "source": [
    "# showModel"
   ]
  },
  {
   "cell_type": "code",
   "execution_count": 39,
   "id": "7b38d913-4324-47e4-954d-6c3e362c0976",
   "metadata": {},
   "outputs": [],
   "source": [
    "slurmNameShowModel = jobsNonGpu(SLURM_CONFIG,\n",
    "    [(\"coverage run $(which showModel) --model {wd:s}/models/joint_combined.model \"\n",
    "     \"--png {wd:s}/models/joint_combined.png\").format(wd=WORKING_DIRECTORY)], \n",
    "            \"checkShowModel\", 1, 1, \"0:05:00\")\n",
    "jobSpecs.append([slurmNameShowModel, [slurmNameTrainCombined]])"
   ]
  },
  {
   "cell_type": "markdown",
   "id": "fd5b9016-42e7-46ee-8d9a-99a477f7977a",
   "metadata": {},
   "source": [
    "# checkJson"
   ]
  },
  {
   "cell_type": "code",
   "execution_count": 40,
   "id": "28de1a41-90df-486a-a2bd-60d665cfeea9",
   "metadata": {},
   "outputs": [],
   "source": [
    "slurmNameCheckJson = jobsNonGpu(SLURM_CONFIG,\n",
    "    [(\"coverage run $(which checkJson) {wd:s}/json/prepareBedNonPeaks.json\").format(wd=WORKING_DIRECTORY),\n",
    "     (\"coverage run $(which checkJson) -s prepareBed {wd:s}/json/prepareBedNonPeaks.json\").format(wd=WORKING_DIRECTORY)], \n",
    "            \"checkCheckJson\", 1, 1, \"0:05:00\")\n",
    "jobSpecs.append([slurmNameCheckJson, []])"
   ]
  },
  {
   "cell_type": "markdown",
   "id": "d31b538c-dd08-4793-afff-0eb6894ab901",
   "metadata": {},
   "source": [
    "# Easy functions"
   ]
  },
  {
   "cell_type": "code",
   "execution_count": 41,
   "id": "820ec5e5-a887-44b6-afd5-fc9f9d27c20e",
   "metadata": {},
   "outputs": [],
   "source": [
    "with open(WORKING_DIRECTORY + \"/slurm/testEasy.py\", \"w\") as fp:\n",
    "    prog = (\"#!/usr/bin/env python3\\nfrom bpreveal import utils\\nimport random\\n\"\n",
    "            \"utils.setVerbosity('WARNING')\\n\"\n",
    "            \"import os\\nos.environ['TF_CPP_MIN_LOG_LEVEL'] = '1'\\n\"\n",
    "            \"seq=''.join(random.choices('ACGT', k={isize:d}))\\n\"\n",
    "            \"utils.easyPredict(seq, '{wd:s}/models/joint_combined.model')\\n\"\n",
    "            \"utils.easyInterpretFlat(seq, '{wd:s}/models/joint_residual.model', \"\n",
    "            \"{nh:d}, 0, [0,1])\\n\").format(wd=WORKING_DIRECTORY, isize=INPUT_LENGTH,\n",
    "                                         nh = len(TF_NAMES))\n",
    "    fp.write(prog)\n",
    "slurmNameCheckEasy = jobsGpu(SLURM_CONFIG,\n",
    "    [(\"coverage run {wd:s}/slurm/testEasy.py\").format(wd=WORKING_DIRECTORY)], \n",
    "            \"checkEasy\", 3, 20, \"0:15:00\")\n",
    "jobSpecs.append([slurmNameCheckEasy, [slurmNameTrainCombined]])"
   ]
  },
  {
   "cell_type": "code",
   "execution_count": 42,
   "id": "6f762d58-0885-4ac5-8a00-84661d619afc",
   "metadata": {},
   "outputs": [],
   "source": [
    "with open(WORKING_DIRECTORY + \"/slurm/testEasyCpu.py\", \"w\") as fp:\n",
    "    prog = (\"#!/usr/bin/env python3\\nfrom bpreveal import utils\\nimport random\\n\"\n",
    "            \"utils.setVerbosity('WARNING')\\n\"\n",
    "            \"import os\\nos.environ['TF_CPP_MIN_LOG_LEVEL'] = '1'\\n\"\n",
    "            \"seq=''.join(random.choices('ACGT', k={isize:d}))\\n\"\n",
    "            \"utils.easyPredict(seq, '{wd:s}/models/joint_combined.model')\\n\"\n",
    "           ).format(wd=WORKING_DIRECTORY, isize=INPUT_LENGTH)\n",
    "    fp.write(prog)\n",
    "slurmNameCheckEasyCpu = jobsNonGpu(SLURM_CONFIG,\n",
    "    [(\"coverage run {wd:s}/slurm/testEasyCpu.py\").format(wd=WORKING_DIRECTORY)], \n",
    "            \"checkEasy\", 3, 20, \"0:15:00\")\n",
    "jobSpecs.append([slurmNameCheckEasyCpu, [slurmNameTrainCombined]])"
   ]
  },
  {
   "cell_type": "markdown",
   "id": "eaa867a5-81ac-490b-990f-f0a9b6b93cfb",
   "metadata": {},
   "source": [
    "# Motif scanning"
   ]
  },
  {
   "cell_type": "code",
   "execution_count": 43,
   "id": "84230cb4-a6cd-47e7-b77e-fa0f455fd031",
   "metadata": {},
   "outputs": [],
   "source": [
    "bgProbs = [(1-0.42) /2, 0.21, 0.21, (1-0.42) /2]\n",
    "patternsToScan = {}\n",
    "for tf in TF_NAMES:\n",
    "    for mode in [\"profile\", \"counts\"]:\n",
    "        patNames = [[x, tf[0] + mode[0] + str(x)] for x in range(5)]\n",
    "        patternsToScan[tf + \"_\" + mode] = {\"pos\": patNames} \n"
   ]
  },
  {
   "cell_type": "code",
   "execution_count": 44,
   "id": "8bbef737-93e4-48c9-8c3c-4f6a637a3a7f",
   "metadata": {},
   "outputs": [],
   "source": [
    "\n",
    "cmds = []\n",
    "SCAN_BASE = \"coverage run $(which motifSeqletCutoffs) {cutoffFname:s} \\n\" +\\\n",
    "            \"coverage run $(which motifScan) {scanFname:s} \\n    \" +\\\n",
    "            \"coverage run $(which motifAddQuantiles) --seqlet-tsv {seqletTsv:s} --scan-tsv {scanTsv:s}\\n\" +\\\n",
    "            \"   cat {scanTsv:s} | \" + \\\n",
    "                \"cut -f 1-6 | \" + \\\n",
    "                \"tail -n +2 | \" + \\\n",
    "                \"sort -k1,1 -k2,2n -k3,3n -k4,4 -k5,5nr | \"+\\\n",
    "                \"awk '!_[$1,$2,$3,$4,$6]++' > {scanBed:s}\\n\"+\\\n",
    "            \"   cat {seqletTsv:s} | cut -f 1-6 | tail -n +2 > {seqletBed:s}\"\n",
    "\n",
    "for pat in patternsToScan.keys():\n",
    "    curPats = patternsToScan[pat]\n",
    "    patternSpec = []\n",
    "    for mcName in curPats.keys():\n",
    "        patternSpec.append({\n",
    "            \"metacluster-name\" : mcName + \"_patterns\", \n",
    "            \"pattern-names\" : [\"pattern_{0:d}\".format(x[0]) for x in curPats[mcName]],\n",
    "            \"short-names\" : [x[1] for x in curPats[mcName]]})\n",
    "    seqletTsv =  WORKING_DIRECTORY + \"/modisco/\" + pat + \"/seqlets_\" + pat + \".tsv\"\n",
    "    seqletBed = WORKING_DIRECTORY + \"/modisco/\" + pat + \"/seqlets_\" + pat + \".bed\"\n",
    "    hitsTsv = WORKING_DIRECTORY + \"/scan/\" + pat + \".tsv\"\n",
    "    hitsBed = WORKING_DIRECTORY + \"/scan/\" + pat + \".bed\"\n",
    "    cutoffConfigDict = {\n",
    "            \"seqlets-tsv\" : seqletTsv,\n",
    "            \"modisco-h5\" : WORKING_DIRECTORY + \"/modisco/\" + pat + \"/modisco.h5\",\n",
    "            \"modisco-contrib-h5\" : WORKING_DIRECTORY + \"/shap/\" + pat + \".h5\",\n",
    "            \"patterns\" : patternSpec, \n",
    "            \"seq-match-quantile\" : 0.2,\n",
    "            \"contrib-match-quantile\" : 0.2,\n",
    "            \"contrib-magnitude-quantile\" : 0.2,\n",
    "            \"trim-threshold\" : 0.3,\n",
    "            \"trim-padding\" : 1,\n",
    "            \"background-probs\" : bgProbs,\n",
    "            \"modisco-window\": 1000,\n",
    "            \"quantile-json\" : WORKING_DIRECTORY + \"/scan/\" + pat + \"_motifs.json\",\n",
    "            \"verbosity\" : LOG_LEVEL}\n",
    "    \n",
    "    scanConfigDict = {\n",
    "        \"scan-settings\" : {\n",
    "            \"scan-contrib-h5\" : WORKING_DIRECTORY + \"/shap/\" + pat + \".h5\",\n",
    "            \"hits-tsv\" : hitsTsv,\n",
    "            \"num-threads\" : 70},\n",
    "        \"seqlet-cutoff-json\" : WORKING_DIRECTORY + \"/scan/\" + pat + \"_motifs.json\",\n",
    "        \"verbosity\" : LOG_LEVEL}\n",
    "    scanFname = WORKING_DIRECTORY + \"/json/scan_\" + pat + \".json\"\n",
    "    cutoffFname = WORKING_DIRECTORY + \"/json/cutoffs_\" + pat + \".json\"\n",
    "    cmdStr = SCAN_BASE.format(scanFname = scanFname, cutoffFname = cutoffFname, seqletTsv = seqletTsv,\n",
    "                              scanTsv = hitsTsv, scanBed = hitsBed, seqletBed = seqletBed)\n",
    "    cmds.append(cmdStr)\n",
    "    with open(scanFname, \"w\") as fp:\n",
    "        json.dump(scanConfigDict, fp, indent=4)\n",
    "    with open(cutoffFname, \"w\") as fp:\n",
    "        json.dump(cutoffConfigDict, fp, indent=4)\n",
    "slurmNameScan = jobsNonGpu(SLURM_CONFIG, cmds, \"motifScan\", 70, 10, \"10:00:00\")"
   ]
  },
  {
   "cell_type": "code",
   "execution_count": 45,
   "id": "7b279195-5256-4b70-b45f-c5cced95b454",
   "metadata": {},
   "outputs": [],
   "source": [
    "jobSpecs.append([slurmNameScan, [slurmNameModisco]])"
   ]
  },
  {
   "cell_type": "markdown",
   "id": "57cf4c00-89f8-4279-afaf-8823f5af9a3e",
   "metadata": {},
   "source": [
    "# Interpret from fasta"
   ]
  },
  {
   "cell_type": "code",
   "execution_count": 46,
   "id": "3d6bc202-8be6-4b96-8b8b-2cc8701bc5ff",
   "metadata": {},
   "outputs": [],
   "source": [
    "def writeRegion(genome, outFp, regionStart):\n",
    "    genomeStart = regionStart - 1046\n",
    "    genomeEnd = genomeStart + INPUT_LENGTH\n",
    "    seq = genome.fetch(windowChrom, genomeStart, genomeEnd)\n",
    "    outFp.write(\">{0:d}\\n\".format(regionStart))\n",
    "    outFp.write(seq.upper())\n",
    "    outFp.write(\"\\n\")\n",
    "\n",
    "with open(WORKING_DIRECTORY + \"/shap/interp_regions.fa\", \"w\") as fafp, \\\n",
    "     open(WORKING_DIRECTORY + \"/bed/interp.bed\", \"w\") as bedfp:\n",
    "    with pysam.FastaFile(GENOME_FASTA) as genome:\n",
    "        for regionStart in range(windowStart, windowEnd + 1000, 1000):\n",
    "            writeRegion(genome, fafp, regionStart)\n",
    "            bedfp.write(\"chr1\\t{0:d}\\t{1:d}\\n\".format(regionStart, regionStart + 1000))"
   ]
  },
  {
   "cell_type": "code",
   "execution_count": 47,
   "id": "1a3c5d1a-a472-415b-9f4e-898068992e67",
   "metadata": {},
   "outputs": [],
   "source": [
    "def makeInterpretFastaJson(tfNum):\n",
    "    return {\n",
    "        \"fasta-file\" : WORKING_DIRECTORY + \"/shap/interp_regions.fa\",\n",
    "        \"coordinates\": {\n",
    "            \"bed-file\" : WORKING_DIRECTORY + \"/bed/interp.bed\",\n",
    "            \"genome\" : GENOME_FASTA},\n",
    "        \"model-file\" : WORKING_DIRECTORY + \"/models/joint_residual.model\",\n",
    "        \"input-length\" : INPUT_LENGTH,\n",
    "        \"output-length\" : OUTPUT_LENGTH,\n",
    "        \"heads\" : len(TF_NAMES),\n",
    "        \"head-id\": tfNum,\n",
    "        \"profile-task-ids\" : [0,1],\n",
    "        \"profile-h5\" : WORKING_DIRECTORY + \"/shap/\" + TF_NAMES[tfNum] + \"_fasta_profile.h5\",\n",
    "        \"counts-h5\" : WORKING_DIRECTORY + \"/shap/\" + TF_NAMES[tfNum] + \"_fasta_counts.h5\",\n",
    "        \"num-shuffles\" : 20,\n",
    "        \"verbosity\" : LOG_LEVEL}\n",
    "\n",
    "cmds = []\n",
    "fname = WORKING_DIRECTORY + \"/json/shap_fasta_\" + TF_NAMES[0] + \".json\"\n",
    "cmds.append(\"coverage run $(which interpretFlat) {0:s}\".format(fname))\n",
    "with open(fname, \"w\") as fp:\n",
    "    json.dump(makeInterpretFastaJson(0), fp)\n",
    "\n",
    "slurmNameInterpretFastaFlat = jobsGpu(SLURM_CONFIG, cmds,\n",
    "        \"interpretFastaFlat\", 5, 50, \"1:00:00\")\n",
    "jobSpecs.append([slurmNameInterpretFastaFlat, [slurmNameTrainCombined]])"
   ]
  },
  {
   "cell_type": "code",
   "execution_count": 48,
   "id": "7dad7627-7251-490f-b4ed-789476261006",
   "metadata": {},
   "outputs": [],
   "source": [
    "shapBwCmdBase = \"coverage run $(which shapToBigwig) \" +\\\n",
    "          \"--h5 {wd:s}/shap/oct4_fasta_profile.h5 \" +\\\n",
    "          \"--bw {wd:s}/shap/oct4_fasta_profile.bw \"\n",
    "shapBwCmds = []\n",
    "cmd = shapBwCmdBase.format(wd=WORKING_DIRECTORY)\n",
    "shapBwCmds.append(cmd)\n",
    "\n",
    "slurmNameShapFastaToBigwig = jobsNonGpu(SLURM_CONFIG, shapBwCmds, \n",
    "           \"shapFastaToBigwig\", 2, 20, \"1:00:00\")\n",
    "jobSpecs.append([slurmNameShapFastaToBigwig, [slurmNameInterpretFastaFlat]])"
   ]
  },
  {
   "cell_type": "markdown",
   "id": "01cfd3f8-c043-46ae-9dde-021521d1a7ba",
   "metadata": {},
   "source": [
    "## Predict from fasta"
   ]
  },
  {
   "cell_type": "code",
   "execution_count": 49,
   "id": "4823dd5c-5d10-4c78-be03-330ce930282d",
   "metadata": {},
   "outputs": [],
   "source": [
    "def makePredictFastaJson(tfNum):\n",
    "    return {\n",
    "        \"settings\" : {\n",
    "            \"output-h5\": WORKING_DIRECTORY + \"/pred/from_fasta.h5\",\n",
    "            \"batch-size\" : 8,\n",
    "            \"heads\" : len(TF_NAMES),\n",
    "            \"architecture\": {\n",
    "                \"model-file\" : WORKING_DIRECTORY + \"/models/joint_combined.model\",\n",
    "                \"input-length\" : INPUT_LENGTH,\n",
    "                \"output-length\" : OUTPUT_LENGTH\n",
    "            },\n",
    "        },      \n",
    "        \"fasta-file\" : WORKING_DIRECTORY + \"/shap/interp_regions.fa\",\n",
    "        \"coordinates\": {\n",
    "            \"bed-file\" : WORKING_DIRECTORY + \"/bed/interp.bed\",\n",
    "            \"genome\" : GENOME_FASTA},\n",
    "        \"num-threads\": 2,\n",
    "        \"verbosity\" : LOG_LEVEL}\n",
    "\n",
    "cmds = []\n",
    "fname = WORKING_DIRECTORY + \"/json/predict_fasta_\" + TF_NAMES[0] + \".json\"\n",
    "cmds.append(\"coverage run $(which makePredictions) {0:s}\".format(fname))\n",
    "with open(fname, \"w\") as fp:\n",
    "    json.dump(makePredictFastaJson(0), fp)\n",
    "\n",
    "slurmNamePredictFasta = jobsGpu(SLURM_CONFIG, cmds,\n",
    "        \"predictFasta\", 5, 50, \"1:00:00\")\n",
    "jobSpecs.append([slurmNamePredictFasta, [slurmNameTrainCombined]])"
   ]
  },
  {
   "cell_type": "markdown",
   "id": "faeb1951-50b5-4151-9b75-cef0fea1b8c1",
   "metadata": {},
   "source": [
    "## Run the GA"
   ]
  },
  {
   "cell_type": "code",
   "execution_count": 50,
   "id": "50a70102-c769-4baf-9d52-09a0907d6b6d",
   "metadata": {},
   "outputs": [],
   "source": [
    "cmdsRunGa = []\n",
    "cmdsRunGa.append(f\"coverage run {BASE_DIRECTORY}/doc/demos/runGa.py --start 34066036 --input-len {INPUT_LENGTH} \\\n",
    "                   --chrom chr1 --model {WORKING_DIRECTORY}/models/joint_residual.model --genome {GENOME_FASTA} \\\n",
    "                   --output {WORKING_DIRECTORY}/logs/gaOutput.json\")\n",
    "slurmNameRunGa = jobsGpu(SLURM_CONFIG, cmdsRunGa, \"runGa\", 5, 50, \"0:10:00\")\n",
    "jobSpecs.append([slurmNameRunGa, [slurmNameTrainCombined]])"
   ]
  },
  {
   "cell_type": "code",
   "execution_count": 51,
   "id": "90f9077b-e882-4f59-b5b9-6a1b7945e307",
   "metadata": {},
   "outputs": [],
   "source": [
    "# Last thing: the output reader for training outputs.\n",
    "# Note that this must be run with an interactive terminal!\n",
    "cmds = []\n",
    "cmds.append(f\"cat {WORKING_DIRECTORY}/logs/$(ls {WORKING_DIRECTORY}/logs | grep trainCombined | tail -n 1) | \\\n",
    "              coverage run $(which showTrainingProgress)\")\n",
    "cmds.append(\"coverage combine\")\n",
    "cmds.append(\"coverage html\")\n",
    "jobsLocal(SLURM_CONFIG, cmds, \"finalize\", 1, 1, \"0:01:00\");"
   ]
  },
  {
   "cell_type": "markdown",
   "id": "131df5e6-78f7-4cfb-a308-1fde8aeb8f2f",
   "metadata": {},
   "source": [
    "# Write entire script."
   ]
  },
  {
   "cell_type": "code",
   "execution_count": 52,
   "id": "d06a70f5-0efd-4693-96b9-8267190a4c1a",
   "metadata": {},
   "outputs": [
    {
     "name": "stdout",
     "output_type": "stream",
     "text": [
      "[]                           checkLengthCalc     \n",
      "[]                           prepareBedPeaks     \n",
      "\"\"                           genBackground       \n",
      "\"\"                           prepareBedNonPeaks  \n",
      "\"\"                           prepareTrainingData \n",
      "\"\"                           trainSolo           \n",
      "\"\"                           predictSolo         \n",
      "\"\"                           predToBigwigBias    \n",
      "['trainSolo']                lossPlots           \n",
      "['trainSolo']                trainTransformation \n",
      "\"\"                           predictTransformation\n",
      "\"\"                           predToBigwigTransform\n",
      "['trainTransformation']      trainCombined       \n",
      "\"\"                           predictCombined     \n",
      "\"\"                           predToBigwigCombined\n",
      "['trainCombined']            interpretFlat       \n",
      "\"\"                           shapToBigwig        \n",
      "['interpretFlat']            shapToNumpy         \n",
      "\"\"                           modisco             \n",
      "\"\"                           modiscoReport       \n",
      "['trainCombined']            interpretPisa       \n",
      "['predToBigwigCombined']     metrics             \n",
      "['trainCombined']            checkShowModel      \n",
      "[]                           checkCheckJson      \n",
      "['trainCombined']            checkEasy           \n",
      "['trainCombined']            checkEasy           \n",
      "['modisco']                  motifScan           \n",
      "['trainCombined']            interpretFastaFlat  \n",
      "\"\"                           shapFastaToBigwig   \n",
      "['trainCombined']            predictFasta        \n",
      "['trainCombined']            runGa               \n"
     ]
    }
   ],
   "source": [
    "def getScriptName(longName):\n",
    "    return longName.split('/')[-1][:-6]\n",
    "lastChild = \"\"\n",
    "for e in jobSpecs:\n",
    "    parents = [getScriptName(x) for x in e[1]]\n",
    "    child = getScriptName(e[0])\n",
    "    if len(parents) == 1 and parents[0] == lastChild:\n",
    "        parents = '\"\"'\n",
    "    print(\"{0:25s}    {1:20s}\".format(str(parents), child))\n",
    "    lastChild = child\n",
    "    "
   ]
  },
  {
   "cell_type": "code",
   "execution_count": 53,
   "id": "ea6aac6d-ed0c-4c23-ac6e-dcf10bd2fbd2",
   "metadata": {},
   "outputs": [],
   "source": [
    "writeDependencyScript(SLURM_CONFIG, jobSpecs, \"acceptance\", cancelScript = WORKING_DIRECTORY + \"/slurm/cancel.zsh\")"
   ]
  },
  {
   "cell_type": "code",
   "execution_count": 54,
   "id": "1ebb3bb2-ba9a-499f-b063-c8c2cdbf7b13",
   "metadata": {},
   "outputs": [
    {
     "ename": "ZeroDivisionError",
     "evalue": "division by zero",
     "output_type": "error",
     "traceback": [
      "\u001b[0;31m---------------------------------------------------------------------------\u001b[0m",
      "\u001b[0;31mZeroDivisionError\u001b[0m                         Traceback (most recent call last)",
      "Cell \u001b[0;32mIn[54], line 1\u001b[0m\n\u001b[0;32m----> 1\u001b[0m \u001b[38;5;241;43m1\u001b[39;49m\u001b[38;5;241;43m/\u001b[39;49m\u001b[38;5;241;43m0\u001b[39;49m \u001b[38;5;66;03m# STOP HERE.\u001b[39;00m\n",
      "\u001b[0;31mZeroDivisionError\u001b[0m: division by zero"
     ]
    }
   ],
   "source": [
    "1/0 # STOP HERE."
   ]
  },
  {
   "cell_type": "markdown",
   "id": "a292886f-190a-4024-8ede-286fb9f2a08b",
   "metadata": {},
   "source": [
    "# Analysis"
   ]
  },
  {
   "cell_type": "code",
   "execution_count": null,
   "id": "77a0aba3-efb8-457a-9dcc-39c51a2bb03f",
   "metadata": {},
   "outputs": [],
   "source": []
  },
  {
   "cell_type": "code",
   "execution_count": null,
   "id": "bceaeaab-f679-45f0-a0b0-d91ae384c513",
   "metadata": {},
   "outputs": [],
   "source": []
  },
  {
   "cell_type": "code",
   "execution_count": null,
   "id": "c4c0974e-039b-413b-bd6a-49cf6dd3e4c5",
   "metadata": {},
   "outputs": [],
   "source": [
    "#Let's also take a quick look at the generated bigwigs. \n",
    "\n",
    "def plotBws(bwNames, titles, chrom, start, stop):\n",
    "    \n",
    "    for i, bwName in enumerate(bwNames):\n",
    "        plt.subplot(100*len(bwNames)+10+(i+1))\n",
    "        bw = pyBigWig.open(bwName)\n",
    "        bwVals = np.nan_to_num(bw.values(chrom, start, stop))\n",
    "        #plt.xlim(0,stop-start)\n",
    "        plt.bar(range(start, stop), bwVals, width=1)\n",
    "        plt.ylabel(titles[i])\n",
    "        if(i < len(bwNames)-1):\n",
    "            plt.xticks([])"
   ]
  },
  {
   "cell_type": "code",
   "execution_count": null,
   "id": "e726e521-11c4-4509-a2f2-3f7bd69cac70",
   "metadata": {},
   "outputs": [],
   "source": [
    "# plotBws([DATA_DIRECTORY + \"/patchcap/counts.pos.bw\",\n",
    "#          WORKING_DIRECTORY + \"/pred/patchcap_positive.bw\",\n",
    "#          DATA_DIRECTORY + \"/patchcap/counts.neg.bw\", \n",
    "#          WORKING_DIRECTORY + \"/pred/patchcap_negative.bw\"],\n",
    "#         [\"exptl_pos\", \"pred_pos\", \"exptl_neg\", \"pred_neg\"], \"chr1\", 34076750, 34077750)"
   ]
  },
  {
   "cell_type": "code",
   "execution_count": null,
   "id": "9d8f7f20-5a15-4e99-bcfd-6bb303749dca",
   "metadata": {},
   "outputs": [],
   "source": [
    "# plotBws([DATA_DIRECTORY + \"/patchcap/counts.pos.bw\",\n",
    "#          WORKING_DIRECTORY + \"/pred/transform_positive.bw\",\n",
    "#          DATA_DIRECTORY + \"/nanog/counts.pos.bw\"],\n",
    "#         [\"pc_pos\", \"transform_pos\", \"exptl_pos\"], \"chr1\", 34076750, 34077750)"
   ]
  },
  {
   "cell_type": "code",
   "execution_count": null,
   "id": "a40efd93-e50f-4afe-920c-4f7c80b085f6",
   "metadata": {},
   "outputs": [],
   "source": []
  },
  {
   "cell_type": "code",
   "execution_count": null,
   "id": "66d3e005-62ed-45b5-821b-843af1d97485",
   "metadata": {},
   "outputs": [],
   "source": [
    "def plotTfBigwigs(tfName, exptName, startPos = 34066036, span=1000, chrom=\"chr1\"):\n",
    "    plotBws([DATA_DIRECTORY + \"/\" + tfName + \"/counts.pos.bw\",\n",
    "             WORKING_DIRECTORY + \"/pred/\" + tfName + \"_\" + exptName + \"_positive.bw\",\n",
    "             DATA_DIRECTORY + \"/\" + tfName + \"/counts.neg.bw\", \n",
    "             WORKING_DIRECTORY + \"/pred/\" + tfName + \"_\" + exptName + \"_negative.bw\"],\n",
    "            [\"exptl_pos\", \"pred_pos\", \"exptl_neg\", \"pred_neg\"], chrom, startPos, startPos+span)"
   ]
  },
  {
   "cell_type": "code",
   "execution_count": null,
   "id": "36270caa-f839-4b12-b3e4-c7799ff78aa7",
   "metadata": {},
   "outputs": [],
   "source": [
    "plotTfBigwigs('oct4', 'combined', startPos = 180924752, span=400)"
   ]
  },
  {
   "cell_type": "code",
   "execution_count": null,
   "id": "f0e88cfe-e5b1-4e96-8a70-3b281662a9ec",
   "metadata": {},
   "outputs": [],
   "source": [
    "plotTfBigwigs('nanog', 'combined', startPos = 180924752, span=400)"
   ]
  },
  {
   "cell_type": "code",
   "execution_count": null,
   "id": "c325738c-4a39-45e5-a1dc-8ebb1fef843a",
   "metadata": {},
   "outputs": [],
   "source": [
    "plotTfBigwigs('oct4', 'residual', startPos = 180924752, span=400)"
   ]
  },
  {
   "cell_type": "code",
   "execution_count": null,
   "id": "01f6c80b-7611-4b7c-b6f2-4aeea1409f4c",
   "metadata": {},
   "outputs": [],
   "source": [
    "def plotShapBigwigs(tfName, exptName, startPos = 34066036, span=1000, chrom=\"chr1\"):\n",
    "    plotBws([WORKING_DIRECTORY + \"/pred/\" + tfName + \"_\" + exptName + \"_positive.bw\",\n",
    "             WORKING_DIRECTORY + \"/pred/\" + tfName + \"_\" + exptName + \"_negative.bw\",\n",
    "             WORKING_DIRECTORY + \"/shap/\" + tfName + \"_profile.bw\", \n",
    "             WORKING_DIRECTORY + \"/shap/\" + tfName + \"_counts.bw\"],\n",
    "            [\"pred_pos\", \"pred_neg\", \"profile\", \"counts\"], chrom, startPos, startPos+span)"
   ]
  },
  {
   "cell_type": "code",
   "execution_count": null,
   "id": "4175441d-34f2-4c85-bc26-d46015f25f7a",
   "metadata": {},
   "outputs": [],
   "source": [
    "plotShapBigwigs('nanog', 'residual', startPos = 180924752, span=400)"
   ]
  },
  {
   "cell_type": "code",
   "execution_count": null,
   "id": "f49bc6a5-c23e-4647-a72d-423622350791",
   "metadata": {},
   "outputs": [],
   "source": [
    "plotShapBigwigs('oct4', 'residual', startPos = 180924752, span=400)"
   ]
  },
  {
   "cell_type": "code",
   "execution_count": null,
   "id": "987dc0af-ce1f-4666-af6e-0a9da902c624",
   "metadata": {},
   "outputs": [],
   "source": []
  },
  {
   "cell_type": "code",
   "execution_count": null,
   "id": "9ccc4020-fd82-48f9-b712-82b42365cb30",
   "metadata": {},
   "outputs": [],
   "source": []
  },
  {
   "cell_type": "code",
   "execution_count": 56,
   "id": "6b606f17-18fe-4c2e-afe3-3b3610a5ec68",
   "metadata": {},
   "outputs": [],
   "source": [
    "import bpreveal.tools.plots as bprplots\n",
    "import bpreveal.motifUtils as motifUtils\n",
    "import tqdm"
   ]
  },
  {
   "cell_type": "code",
   "execution_count": 60,
   "id": "012678b2-da2e-4b0d-99e4-7377672b5e55",
   "metadata": {},
   "outputs": [
    {
     "name": "stdout",
     "output_type": "stream",
     "text": [
      "sox2_profile\n"
     ]
    },
    {
     "data": {
      "image/png": "[encoded data removed]",
      "text/plain": [
       "<Figure size 1500x1200 with 8 Axes>"
      ]
     },
     "metadata": {},
     "output_type": "display_data"
    }
   ],
   "source": [
    "#I'll generate all of those figures and save them.\n",
    "runName, run = list(patternsToScan.items())[2]\n",
    "print(runName)\n",
    "clusterName, cluster = list(run.items())[0]\n",
    "motif = cluster[0]\n",
    "pat = motifUtils.Pattern(clusterName + \"_patterns\", \"pattern_{0:d}\".format(motif[0]), motif[1])\n",
    "with h5py.File(WORKING_DIRECTORY + \"/modisco/\" + runName + \"/modisco.h5\", \"r\") as fp:\n",
    "    pat.loadCwm(fp, 0.3, 3, bgProbs)\n",
    "    pat.loadSeqlets(fp)\n",
    "fig = plt.figure()\n",
    "bprplots.plotModiscoPattern(pat, fig, sortKey = pat.seqletContribMatches)\n",
    "\n"
   ]
  },
  {
   "cell_type": "code",
   "execution_count": null,
   "id": "8d4c674e-0a37-4c2f-a1ff-b02da0ec67ea",
   "metadata": {},
   "outputs": [],
   "source": [
    "nameColors = dict()\n",
    "fig = plt.figure()\n",
    "\n",
    "bprplots.plotPisaWithFiles(WORKING_DIRECTORY + \"/shap/pisa_nanog_positive.h5\",\n",
    "                  1150, 200, 300, RECEPTIVE_FIELD,\n",
    "                  windowStart, \"chr1\", GENOME_FASTA,\n",
    "                  WORKING_DIRECTORY + \"/shap/nanog_profile.bw\",\n",
    "                  WORKING_DIRECTORY + \"/scan/nanog_profile.bed\",\n",
    "                  WORKING_DIRECTORY + \"/pred/nanog_residual_positive.bw\",\n",
    "                  nameColors,\n",
    "                  fig, [0.1, 0.55, 0.9, 0.4],\n",
    "                  colorSpan = 0.5,\n",
    "                  fontsize=5)\n",
    "\n",
    "bprplots.plotPisaWithFiles(WORKING_DIRECTORY + \"/shap/pisa_nanog_negative.h5\",\n",
    "                  1150, 200, 300, RECEPTIVE_FIELD,\n",
    "                  windowStart, \"chr1\", GENOME_FASTA,\n",
    "                  WORKING_DIRECTORY + \"/shap/nanog_profile.bw\",\n",
    "                  WORKING_DIRECTORY + \"/scan/nanog_profile.bed\",\n",
    "                  WORKING_DIRECTORY + \"/pred/nanog_residual_negative.bw\",\n",
    "                  nameColors,\n",
    "                  fig, [0.1, 0.05, 0.9, 0.4],\n",
    "                  colorSpan = 0.5);\n"
   ]
  },
  {
   "cell_type": "code",
   "execution_count": null,
   "id": "1e31e3bd-11e2-43d0-83f1-bcf7c6a981c9",
   "metadata": {},
   "outputs": [],
   "source": [
    "import json\n",
    "from bpreveal import gaOptimize\n",
    "with open(f\"{WORKING_DIRECTORY}/logs/gaOutput.json\", \"r\") as fp:\n",
    "    j = json.load(fp)\n",
    "    origProf = np.array(j[\"origProfile\"])\n",
    "    prof = np.array(j[\"profile\"])"
   ]
  },
  {
   "cell_type": "code",
   "execution_count": null,
   "id": "4d81b9e3-f135-4d8a-b437-154e25fbbbde",
   "metadata": {},
   "outputs": [],
   "source": [
    "ptr = [(prof[x,:,0], str(x), \"rgbk\"[x]) for x in range(4)]\n",
    "ntr = [(prof[x,:,1], str(x), \"rgbk\"[x]) for x in range(4)]\n",
    "ax = plt.axes()\n",
    "cors = gaOptimize.stringToCorruptorList(j[\"corruptors\"])\n",
    "print(cors)\n",
    "cors_fix = [(x[0] + 34066036 - (INPUT_LENGTH - OUTPUT_LENGTH) //2, x[1]) for x in cors]\n",
    "#gaOptimize.plotTrace(ptr, ntr, range(34066036, 34067036), [], gaOptimize.stringToCorruptorList(j[\"corruptors\"]), ax)\n",
    "gaOptimize.plotTraces(ptr, ntr, range(34066036, 34067036), [], cors_fix, ax)\n",
    "                      #bpreveal.gaOptimize.plotTraces(xvals: ndarray[Any, dtype[float32]], annotations: list[ANNOTATION_T], corruptors: list[Corruptor], ax: Axes)"
   ]
  },
  {
   "cell_type": "code",
   "execution_count": null,
   "id": "7f9ac18b-9339-4e68-99f4-08936b3dcc5d",
   "metadata": {},
   "outputs": [],
   "source": [
    "for i in range(4):\n",
    "    plt.subplot(421+i*2)\n",
    "    plt.plot(origProf[i,:,0], \"g-\")\n",
    "    plt.plot(-origProf[i,:,1], \"g-\")\n",
    "    plt.subplot(422+i*2)\n",
    "    plt.plot(prof[i,:,0], \"r-\")\n",
    "    plt.plot(-prof[i,:,1], \"r-\")\n",
    "\n",
    "        "
   ]
  },
  {
   "cell_type": "code",
   "execution_count": null,
   "id": "f9285e8e-bbb6-4088-ad7d-a3c902f92abe",
   "metadata": {},
   "outputs": [],
   "source": []
  }
 ],
 "metadata": {
  "kernelspec": {
   "display_name": "Python 3 (ipykernel)",
   "language": "python",
   "name": "python3"
  },
  "language_info": {
   "codemirror_mode": {
    "name": "ipython",
    "version": 3
   },
   "file_extension": ".py",
   "mimetype": "text/x-python",
   "name": "python",
   "nbconvert_exporter": "python",
   "pygments_lexer": "ipython3",
   "version": "3.11.7"
  }
 },
 "nbformat": 4,
 "nbformat_minor": 5
}

{
 "cells": [
  {
   "cell_type": "markdown",
   "id": "de2a7167-47e9-420a-9eea-a85facc844a3",
   "metadata": {},
   "source": [
    "In this notebook, I'll go through a full example of using BPReveal to analyze some chip-nexus data. These are the same data that were used in our original paper: Avsec, Ž., Weilert, M., Shrikumar, A. et al. Base-resolution models of transcription-factor binding reveal soft motif syntax. Nat Genet 53, 354–366 (2021). https://doi.org/10.1038/s41588-021-00782-6\n",
    "\n",
    "You can download the data from https://zenodo.org/record/3371216#.Y0muwFLMKAQ , but be aware that it's 30 GB of data. \n",
    "I (Charles McAnany) also have a local copy at Stowers, so if you're at Stowers, just let me know and I'll point you in the right direction. \n",
    "I've copied the idr-optimal-set.summit.bed files and the counts.neg.bw and counts.pos.bw files from the downloaded data into my working directory. "
   ]
  },
  {
   "cell_type": "markdown",
   "id": "2243c981-d832-4408-b798-e654b6cec0bc",
   "metadata": {},
   "source": [
    "# Setup\n",
    "Here, I'm just importing stuff and configuring global variables.\n",
    "This is the section you'll probably want to adjust if you want to work through this tutorial yourself.\n",
    "In particular, you'll want to change BASE_DIRECTORY, WORKING_DIRECTORY, DATA_DIRECTORY, and SLURM_CONFIG.\n"
   ]
  },
  {
   "cell_type": "code",
   "execution_count": 70,
   "id": "60cce2be-a2fa-48c3-b307-2f31ac531e12",
   "metadata": {},
   "outputs": [],
   "source": [
    "# This is specific to running the job on teak (my workstation) since I need to\n",
    "#add bedtools to my path. You will probably not need to do this.\n",
    "import os\n",
    "os.environ[\"PATH\"] = os.environ[\"PATH\"] + \":/n/apps/CentOS7/bin/\"\n",
    "import bpreveal.utils as utils\n",
    "import bpreveal.tools.plots as bprplots\n",
    "from bpreveal.tools.slurm import configSlurmLocal, jobsLocal\n",
    "import json\n",
    "import matplotlib.pyplot as plt\n",
    "plt.rcParams['figure.figsize'] = [10,8]\n",
    "plt.rcParams['figure.dpi'] = 150\n",
    "import numpy as np\n",
    "\n",
    "import pybedtools\n",
    "import pysam\n",
    "import pyBigWig\n",
    "import h5py"
   ]
  },
  {
   "cell_type": "code",
   "execution_count": 71,
   "id": "f07a5177-a99c-40aa-91c6-482950670287",
   "metadata": {},
   "outputs": [],
   "source": [
    "#Here, I'll set a few constants that will be applicable throughout the project. \n",
    "\n",
    "BASE_DIRECTORY=\"/n/projects/cm2363/bpreveal\"\n",
    "WORKING_DIRECTORY=\"/bigscratch/bpreveal/oskn\"\n",
    "#The data directory is where I've unpacked the zenodo archive.\n",
    "DATA_DIRECTORY=\"/bigscratch/oskn\"\n",
    "#I have a little script here that renames motifs in modiscolite. This will be unnecessary with new versions of modiscolite.\n",
    "SCRIPTS_DIR=\"/n/projects/cm2363/manuscript-bpreveal/src\"\n",
    "SLURM_CONFIG=configSlurmLocal([\"/home/cm2363/.zshrc\"],\n",
    "                         \"bpreveal-teak\", WORKING_DIRECTORY, cpus=24, memory=50)\n",
    "\n",
    "SLURM_CMD_CPU = jobsLocal\n",
    "SLURM_CMD_GPU = jobsLocal\n",
    "NUM_THREADS = 24\n",
    "\n",
    "GENOME_FASTA=\"/bigscratch/genomes/mm10.fa\"\n",
    "TF_NAMES = [\"oct4\", \"sox2\", \"klf4\", \"nanog\"] #The names of the factors we'll use.\n",
    "                                             #For consistency, I'm always going \n",
    "                                             #to use lowercase. \n",
    "TEST_CHROMS = [\"chr\" + str(x) for x in [1,8,9]]\n",
    "VAL_CHROMS = [\"chr\" + str(x) for x in [2,3,4]]\n",
    "TRAIN_CHROMS = [\"chr\" + str(x) for x in [5,6,7,10,11,12,13,14,15,16,17,18,19]]"
   ]
  },
  {
   "cell_type": "code",
   "execution_count": 3,
   "id": "de505de4-25cf-4a66-8b5e-33ef30de6b9e",
   "metadata": {},
   "outputs": [
    {
     "name": "stdout",
     "output_type": "stream",
     "text": [
      "total 12\n",
      "drwxr-xr-x 2 cm2363 domain users  255 Feb 21 15:26 bed\n",
      "drwxr-xr-x 2 cm2363 domain users   92 Feb 21 15:27 input\n",
      "drwxr-xr-x 2 cm2363 domain users 4096 Feb 22 10:23 json\n",
      "drwxr-xr-x 2 cm2363 domain users    6 Feb 21 15:23 logs\n",
      "drwxr-xr-x 9 cm2363 domain users  325 Feb 22 10:23 models\n",
      "drwxr-xr-x 2 cm2363 domain users    6 Feb 21 15:23 modisco\n",
      "drwxr-xr-x 2 cm2363 domain users 4096 Feb 22 10:26 pred\n",
      "drwxr-xr-x 2 cm2363 domain users    6 Feb 21 15:23 scan\n",
      "drwxr-xr-x 2 cm2363 domain users    6 Feb 21 15:23 shap\n",
      "drwxr-xr-x 2 cm2363 domain users 4096 Feb 22 10:55 slurm\n"
     ]
    }
   ],
   "source": [
    "!mkdir -p {WORKING_DIRECTORY}/input\n",
    "!mkdir -p {WORKING_DIRECTORY}/bed\n",
    "!mkdir -p {WORKING_DIRECTORY}/json\n",
    "!mkdir -p {WORKING_DIRECTORY}/logs\n",
    "!mkdir -p {WORKING_DIRECTORY}/models\n",
    "!mkdir -p {WORKING_DIRECTORY}/modisco\n",
    "!mkdir -p {WORKING_DIRECTORY}/pred\n",
    "!mkdir -p {WORKING_DIRECTORY}/shap\n",
    "!mkdir -p {WORKING_DIRECTORY}/slurm\n",
    "!mkdir -p {WORKING_DIRECTORY}/scan\n",
    "!ls -l {WORKING_DIRECTORY}\n"
   ]
  },
  {
   "cell_type": "code",
   "execution_count": 4,
   "id": "347fde27-7dd7-4899-8874-55c729dbfcb2",
   "metadata": {},
   "outputs": [
    {
     "name": "stdout",
     "output_type": "stream",
     "text": [
      "total 4.0K\n",
      "drwxr-xr-x 2 cm2363 domain users 4.0K Feb 21 15:21 bigwigs\n",
      "drwxr-xr-x 2 cm2363 domain users  182 Feb 21 15:20 klf4\n",
      "drwxr-xr-x 2 cm2363 domain users  141 Feb 21 15:20 nanog\n",
      "drwxr-xr-x 2 cm2363 domain users  141 Feb 21 15:20 oct4\n",
      "drwxr-xr-x 2 cm2363 domain users   48 Feb 21 15:20 patchcap\n",
      "drwxr-xr-x 2 cm2363 domain users   94 Feb 21 15:20 peaks-bak\n",
      "drwxr-xr-x 2 cm2363 domain users  141 Feb 21 15:20 sox2\n"
     ]
    }
   ],
   "source": [
    "!ls -lh {DATA_DIRECTORY}/"
   ]
  },
  {
   "cell_type": "code",
   "execution_count": 5,
   "id": "ca1ba565-3cec-44dd-9996-30ccebb55030",
   "metadata": {},
   "outputs": [],
   "source": [
    "#The first thing I need to do is prepare input files in order to train a bias model. \n",
    "#But what shall I use for bias? I have two options: I can either use background \n",
    "#regions from the actual chip-nexus experiments, or I can use the patchcap track. \n",
    "#If I were to use background regions, I'd have to have a stringent way to determine \n",
    "#when a region is not bound, and the data are noisy enough that this might be a \n",
    "#tough call. I'll train up the bias model on patchcap data instead. \n",
    "\n",
    "#In order to train that model, I'll need a couple things:\n",
    "# 1. The bias data. I'm going to just use the patchcap bigwigs from the paper, no biggie. \n",
    "# 2. A set of regions to train on. I'll make these in a minute. \n",
    "# 3. A model architecture. I have to decide on this right now, because \n",
    "#    it will determine the size of the regions I train on. \n",
    "\n",
    "#I'll use a standard BPNet architecture, but with few filters since it's learning\n",
    "#something so simple. With a 9-layer network, and a 25 bp input filter and 25 bp\n",
    "#output filter, using 1000 bp output windows, I can calculate the input size:"
   ]
  },
  {
   "cell_type": "code",
   "execution_count": 6,
   "id": "93e8c4a0-9ada-4463-8bc2-60a70aec244a",
   "metadata": {},
   "outputs": [
    {
     "name": "stdout",
     "output_type": "stream",
     "text": [
      "3056\n",
      "2057\n",
      "1028\n"
     ]
    }
   ],
   "source": [
    "OUTPUT_LENGTH=1000\n",
    "input_length_str = !lengthCalc --output-len {OUTPUT_LENGTH} \\\n",
    "                               --n-dil-layers 9 \\\n",
    "                               --conv1-kernel-size 7 \\\n",
    "                               --profile-kernel-size 7\n",
    "INPUT_LENGTH=int(input_length_str[0])\n",
    "print(INPUT_LENGTH)\n",
    "RECEPTIVE_FIELD=INPUT_LENGTH - OUTPUT_LENGTH+1\n",
    "print(RECEPTIVE_FIELD)\n",
    "MAX_JITTER = 100\n",
    "BUFFER = (INPUT_LENGTH - OUTPUT_LENGTH) // 2\n",
    "print(BUFFER)"
   ]
  },
  {
   "cell_type": "code",
   "execution_count": 7,
   "id": "eaa26254-ee38-45f1-875e-a54b9a5d0b62",
   "metadata": {},
   "outputs": [],
   "source": [
    "#Okay, great. I need to make sure that the regions I train on have valid DNA \n",
    "#within 3092/2 bases of the middle of the window. \n",
    "#For clarity, here are some dimensions:\n",
    "\n",
    "#\n",
    "#\n",
    "#            |<---  2057 bp (Receptive field) --->|\n",
    "#   |<--------------------   3056 bp (Input length) ----------------------->|\n",
    "#   SEQUENCESEQUENCESEQUENCESEQUENCESEQUENCESEQUENCESEQUENCESEQUENCESEQUENCE\n",
    "#   \\        \\                                    /                        /\n",
    "#     \\        \\                                /                        /\n",
    "#       \\        \\                            /                        / \n",
    "#         \\        \\                        /                        / \n",
    "#           \\        \\                    /                        / \n",
    "#             \\        \\                /                        / \n",
    "#               \\        \\            /                        / \n",
    "#                 \\        \\        /                        / \n",
    "#                   \\        \\    /                        /\n",
    "#                     \\        \\/                        /\n",
    "#                      PROFILEPROFILEPROFILEPROFILEPROFIL\n",
    "#                      |<--- 1000 bp (Output length) --->|\n",
    "#    |<--- 1028 bp --->|\n",
    "#\n",
    "# During training, we also shift the regions around by a little bit, a process\n",
    "# called jittering. We'll use a maximum jitter of 100."
   ]
  },
  {
   "cell_type": "code",
   "execution_count": 8,
   "id": "393610d9-9f41-46bf-8efd-9de65b1b1a58",
   "metadata": {},
   "outputs": [],
   "source": [
    "#In order to generate bias regions, I need to get the actual training regions. \n",
    "#This is not really part of bpreveal, but I do have a few utility scripts in \n",
    "#the repo to help with this. \n",
    "#I'm going to combine the called peaks, make sure there's valid genome under \n",
    "#all of them (i.e., no \"N\" nucleotides within the receptive field.),\n",
    "#then split them into train, validation, and test splits. \n"
   ]
  },
  {
   "cell_type": "code",
   "execution_count": 9,
   "id": "5a3b7fe4-bed6-43da-9111-5c98a36360f5",
   "metadata": {},
   "outputs": [
    {
     "name": "stdout",
     "output_type": "stream",
     "text": [
      "[['/bigscratch/oskn/oct4/counts.pos.bw', '/bigscratch/oskn/oct4/counts.neg.bw'], ['/bigscratch/oskn/sox2/counts.pos.bw', '/bigscratch/oskn/sox2/counts.neg.bw'], ['/bigscratch/oskn/klf4/counts.pos.bw', '/bigscratch/oskn/klf4/counts.neg.bw'], ['/bigscratch/oskn/nanog/counts.pos.bw', '/bigscratch/oskn/nanog/counts.neg.bw']]\n",
      "['/bigscratch/oskn/oct4/idr-optimal-set.summit.bed', '/bigscratch/oskn/sox2/idr-optimal-set.summit.bed', '/bigscratch/oskn/klf4/idr-optimal-set.summit.bed', '/bigscratch/oskn/nanog/idr-optimal-set.summit.bed', '/bigscratch/oskn/peaks-bak/oct4.bed', '/bigscratch/oskn/peaks-bak/sox2.bed', '/bigscratch/oskn/peaks-bak/klf4.bed', '/bigscratch/oskn/peaks-bak/nanog.bed']\n",
      "[{'bigwig-names': ['/bigscratch/oskn/oct4/counts.pos.bw', '/bigscratch/oskn/oct4/counts.neg.bw'], 'max-quantile': 1, 'min-counts': 1}, {'bigwig-names': ['/bigscratch/oskn/sox2/counts.pos.bw', '/bigscratch/oskn/sox2/counts.neg.bw'], 'max-quantile': 1, 'min-counts': 1}, {'bigwig-names': ['/bigscratch/oskn/klf4/counts.pos.bw', '/bigscratch/oskn/klf4/counts.neg.bw'], 'max-quantile': 1, 'min-counts': 1}, {'bigwig-names': ['/bigscratch/oskn/nanog/counts.pos.bw', '/bigscratch/oskn/nanog/counts.neg.bw'], 'max-quantile': 1, 'min-counts': 1}]\n"
     ]
    }
   ],
   "source": [
    "bigwigFileNames = [[DATA_DIRECTORY + \"/\" + tfName + \"/counts.\" + strand + \".bw\"  \n",
    "                   for strand in [\"pos\", \"neg\"]]\n",
    "                  for tfName in TF_NAMES]\n",
    "print(bigwigFileNames)\n",
    "summitBedFnames = [DATA_DIRECTORY + \"/\" + tfName + \"/idr-optimal-set.summit.bed\" \n",
    "                   for tfName in TF_NAMES]\n",
    "#I'm using all of the peaks we ever called, so here are some more. It rarely hurts to provide the model with\n",
    "# additional peaks.\n",
    "summitBedFnames += [DATA_DIRECTORY + \"/peaks-bak/\" + tfName + \".bed\"\n",
    "                    for tfName in TF_NAMES]\n",
    "print(summitBedFnames)\n",
    "#And I need to make bigwig specs, for the upcoming json. \n",
    "#The bigwig spec needs to list max and min quantiles. \n",
    "headSpec = [{\"bigwig-names\" : flist, \"max-quantile\" : 1, \"min-counts\" : 1} \n",
    "          for flist in bigwigFileNames]\n",
    "print(headSpec)"
   ]
  },
  {
   "cell_type": "code",
   "execution_count": 10,
   "id": "db13bcb8-11a9-4005-8ce0-82d29177895c",
   "metadata": {
    "tags": []
   },
   "outputs": [
    {
     "name": "stdout",
     "output_type": "stream",
     "text": [
      "{\n",
      "    \"heads\": [\n",
      "        {\n",
      "            \"bigwig-names\": [\n",
      "                \"/bigscratch/oskn/oct4/counts.pos.bw\",\n",
      "                \"/bigscratch/oskn/oct4/counts.neg.bw\"\n",
      "            ],\n",
      "            \"max-quantile\": 1,\n",
      "            \"min-counts\": 1\n",
      "        },\n",
      "        {\n",
      "            \"bigwig-names\": [\n",
      "                \"/bigscratch/oskn/sox2/counts.pos.bw\",\n",
      "                \"/bigscratch/oskn/sox2/counts.neg.bw\"\n",
      "            ],\n",
      "            \"max-quantile\": 1,\n",
      "            \"min-counts\": 1\n",
      "        },\n",
      "        {\n",
      "            \"bigwig-names\": [\n",
      "                \"/bigscratch/oskn/klf4/counts.pos.bw\",\n",
      "                \"/bigscratch/oskn/klf4/counts.neg.bw\"\n",
      "            ],\n",
      "            \"max-quantile\": 1,\n",
      "            \"min-counts\": 1\n",
      "        },\n",
      "        {\n",
      "            \"bigwig-names\": [\n",
      "                \"/bigscratch/oskn/nanog/counts.pos.bw\",\n",
      "                \"/bigscratch/oskn/nanog/counts.neg.bw\"\n",
      "            ],\n",
      "            \"max-quantile\": 1,\n",
      "            \"min-counts\": 1\n",
      "        }\n",
      "    ],\n",
      "    \"splits\": {\n",
      "        \"test-chroms\": [\n",
      "            \"chr1\",\n",
      "            \"chr8\",\n",
      "            \"chr9\"\n",
      "        ],\n",
      "        \"val-chroms\": [\n",
      "            \"chr2\",\n",
      "            \"chr3\",\n",
      "            \"chr4\"\n",
      "        ],\n",
      "        \"train-chroms\": [\n",
      "            \"chr5\",\n",
      "            \"chr6\",\n",
      "            \"chr7\",\n",
      "            \"chr10\",\n",
      "            \"chr11\",\n",
      "            \"chr12\",\n",
      "            \"chr13\",\n",
      "            \"chr14\",\n",
      "            \"chr15\",\n",
      "            \"chr16\",\n",
      "            \"chr17\",\n",
      "            \"chr18\",\n",
      "            \"chr19\"\n",
      "        ],\n",
      "        \"regions\": [\n",
      "            \"/bigscratch/oskn/oct4/idr-optimal-set.summit.bed\",\n",
      "            \"/bigscratch/oskn/sox2/idr-optimal-set.summit.bed\",\n",
      "            \"/bigscratch/oskn/klf4/idr-optimal-set.summit.bed\",\n",
      "            \"/bigscratch/oskn/nanog/idr-optimal-set.summit.bed\",\n",
      "            \"/bigscratch/oskn/peaks-bak/oct4.bed\",\n",
      "            \"/bigscratch/oskn/peaks-bak/sox2.bed\",\n",
      "            \"/bigscratch/oskn/peaks-bak/klf4.bed\",\n",
      "            \"/bigscratch/oskn/peaks-bak/nanog.bed\"\n",
      "        ]\n",
      "    },\n",
      "    \"genome\": \"/bigscratch/genomes/mm10.fa\",\n",
      "    \"output-length\": 1000,\n",
      "    \"input-length\": 3056,\n",
      "    \"max-jitter\": 100,\n",
      "    \"output-prefix\": \"/bigscratch/bpreveal/oskn/bed/peak\",\n",
      "    \"resize-mode\": \"center\",\n",
      "    \"remove-overlaps\": true,\n",
      "    \"num-threads\": 24,\n",
      "    \"overlap-max-distance\": 100,\n",
      "    \"verbosity\": \"INFO\"\n",
      "}\n"
     ]
    }
   ],
   "source": [
    "prepareBedPeaksConfig = {\n",
    "    \"heads\" : headSpec, \n",
    "    \"splits\" : {\"test-chroms\"  : TEST_CHROMS, \n",
    "                \"val-chroms\"   : VAL_CHROMS,\n",
    "                \"train-chroms\" : TRAIN_CHROMS,\n",
    "                \"regions\" : summitBedFnames},\n",
    "    \"genome\" : GENOME_FASTA,\n",
    "    \"output-length\" : OUTPUT_LENGTH, \n",
    "    \"input-length\" : INPUT_LENGTH,\n",
    "    \"max-jitter\" : MAX_JITTER,\n",
    "    \"output-prefix\" : WORKING_DIRECTORY + \"/bed/peak\", \n",
    "    \"resize-mode\" : \"center\", \n",
    "    \"remove-overlaps\" : True,\n",
    "    \"num-threads\" : NUM_THREADS,\n",
    "    \"overlap-max-distance\" : 100,\n",
    "    \"verbosity\" : \"INFO\"}\n",
    "\n",
    "with open(WORKING_DIRECTORY + \"/json/prepareBedPeaks.json\", \"w\") as fp:\n",
    "    json.dump(prepareBedPeaksConfig, fp, indent=4)\n",
    "    print(json.dumps(prepareBedPeaksConfig, indent=4))"
   ]
  },
  {
   "cell_type": "code",
   "execution_count": 11,
   "id": "5a945747-c70c-477c-8696-bf54e93e81cb",
   "metadata": {
    "tags": []
   },
   "outputs": [
    {
     "data": {
      "text/plain": [
       "'/bigscratch/bpreveal/oskn/slurm/prepareBedPeaks.zsh'"
      ]
     },
     "execution_count": 11,
     "metadata": {},
     "output_type": "execute_result"
    }
   ],
   "source": [
    "SLURM_CMD_CPU(SLURM_CONFIG, [\"prepareBed {0:s}/json/prepareBedPeaks.json\".format(WORKING_DIRECTORY)], \n",
    "            \"prepareBedPeaks\", ntasks=24, mem=20, parallel=True)\n"
   ]
  },
  {
   "cell_type": "code",
   "execution_count": 12,
   "id": "79c64235-928c-4bf4-b780-14a0888a2484",
   "metadata": {},
   "outputs": [],
   "source": [
    "\n",
    "backgroundBase = \"tileGenome --genome {0:s} --output-length {1:d} --input-length {2:d} \"\\\n",
    "                 \"--chrom-edge-boundary 100000 --spacing 10000 --output-bed {3:s} \"\\\n",
    "                 \"{4:s} {5:s}\"\n",
    "blacklistArgs = \"--blacklist {0:s} --blacklist {1:s}\".format(\n",
    "    WORKING_DIRECTORY + \"/bed/peak_all.bed\",\n",
    "    WORKING_DIRECTORY + \"/bed/peak_reject.bed\")\n",
    "\n",
    "chromArgs = ' '.join([\"--allow-chrom {0:s}\".format(c) for c in (TRAIN_CHROMS + TEST_CHROMS + VAL_CHROMS)])\n",
    "\n",
    "cmdGenBackground = backgroundBase.format(\n",
    "    GENOME_FASTA, OUTPUT_LENGTH, INPUT_LENGTH, WORKING_DIRECTORY + \"/bed/tiling_all.bed\",\n",
    "    blacklistArgs, chromArgs)\n",
    "\n",
    "slurmNameGenBackground = SLURM_CMD_CPU(SLURM_CONFIG, [cmdGenBackground], \"genBackground\", ntasks=2, mem=10, parallel=True)\n",
    "\n"
   ]
  },
  {
   "cell_type": "code",
   "execution_count": 13,
   "id": "11fed3c5-b984-4e5b-bdba-27254e02c44b",
   "metadata": {},
   "outputs": [
    {
     "name": "stdout",
     "output_type": "stream",
     "text": [
      "['/bigscratch/oskn/patchcap/counts.pos.bw', '/bigscratch/oskn/patchcap/counts.neg.bw']\n"
     ]
    }
   ],
   "source": [
    "#Now that we have a bed file with all of our training regions in it, we can \n",
    "#generate the background regions that we'll train the bias model on. \n",
    "#Note that even though I'm using patchcap data for my bias track, I'm still \n",
    "#going to train the bias model on unbound regions, so that any effect \n",
    "#TF binding has on patchcap doesn't show up in my bias model. \n",
    "#This is another script I wrote, it generates tiling regions across the \n",
    "#whole genome and then removes regions that overlap your peak set, \n",
    "#and also only outputs regions that fall in a set percentile of counts. \n",
    "\n",
    "biasBigwigFnames = [DATA_DIRECTORY + \"/patchcap/counts.\" + strand + \".bw\" \n",
    "                    for strand in [\"pos\", \"neg\"]]\n",
    "print(biasBigwigFnames)\n",
    "\n"
   ]
  },
  {
   "cell_type": "code",
   "execution_count": 14,
   "id": "adc2bde2-8090-43b3-b73d-534b6ec0109a",
   "metadata": {
    "tags": []
   },
   "outputs": [
    {
     "name": "stdout",
     "output_type": "stream",
     "text": [
      "{\n",
      "    \"heads\": [\n",
      "        {\n",
      "            \"bigwig-names\": [\n",
      "                \"/bigscratch/oskn/oct4/counts.pos.bw\",\n",
      "                \"/bigscratch/oskn/oct4/counts.neg.bw\"\n",
      "            ],\n",
      "            \"max-quantile\": 0.6,\n",
      "            \"min-quantile\": 0.01\n",
      "        },\n",
      "        {\n",
      "            \"bigwig-names\": [\n",
      "                \"/bigscratch/oskn/sox2/counts.pos.bw\",\n",
      "                \"/bigscratch/oskn/sox2/counts.neg.bw\"\n",
      "            ],\n",
      "            \"max-quantile\": 0.6,\n",
      "            \"min-quantile\": 0.01\n",
      "        },\n",
      "        {\n",
      "            \"bigwig-names\": [\n",
      "                \"/bigscratch/oskn/klf4/counts.pos.bw\",\n",
      "                \"/bigscratch/oskn/klf4/counts.neg.bw\"\n",
      "            ],\n",
      "            \"max-quantile\": 0.6,\n",
      "            \"min-quantile\": 0.01\n",
      "        },\n",
      "        {\n",
      "            \"bigwig-names\": [\n",
      "                \"/bigscratch/oskn/nanog/counts.pos.bw\",\n",
      "                \"/bigscratch/oskn/nanog/counts.neg.bw\"\n",
      "            ],\n",
      "            \"max-quantile\": 0.6,\n",
      "            \"min-quantile\": 0.01\n",
      "        },\n",
      "        {\n",
      "            \"bigwig-names\": [\n",
      "                \"/bigscratch/oskn/patchcap/counts.pos.bw\",\n",
      "                \"/bigscratch/oskn/patchcap/counts.neg.bw\"\n",
      "            ],\n",
      "            \"max-quantile\": 0.95,\n",
      "            \"min-quantile\": 0.1\n",
      "        }\n",
      "    ],\n",
      "    \"splits\": {\n",
      "        \"test-chroms\": [\n",
      "            \"chr1\",\n",
      "            \"chr8\",\n",
      "            \"chr9\"\n",
      "        ],\n",
      "        \"val-chroms\": [\n",
      "            \"chr2\",\n",
      "            \"chr3\",\n",
      "            \"chr4\"\n",
      "        ],\n",
      "        \"train-chroms\": [\n",
      "            \"chr5\",\n",
      "            \"chr6\",\n",
      "            \"chr7\",\n",
      "            \"chr10\",\n",
      "            \"chr11\",\n",
      "            \"chr12\",\n",
      "            \"chr13\",\n",
      "            \"chr14\",\n",
      "            \"chr15\",\n",
      "            \"chr16\",\n",
      "            \"chr17\",\n",
      "            \"chr18\",\n",
      "            \"chr19\"\n",
      "        ],\n",
      "        \"regions\": [\n",
      "            \"/bigscratch/bpreveal/oskn/bed/tiling_all.bed\"\n",
      "        ]\n",
      "    },\n",
      "    \"genome\": \"/bigscratch/genomes/mm10.fa\",\n",
      "    \"output-length\": 1000,\n",
      "    \"input-length\": 3056,\n",
      "    \"max-jitter\": 100,\n",
      "    \"output-prefix\": \"/bigscratch/bpreveal/oskn/bed/nonpeak\",\n",
      "    \"remove-overlaps\": false,\n",
      "    \"resize-mode\": \"center\",\n",
      "    \"num-threads\": 24,\n",
      "    \"verbosity\": \"INFO\"\n",
      "}\n"
     ]
    }
   ],
   "source": [
    "biasHeadSpec = [{\"bigwig-names\" : flist, \"max-quantile\" : 0.6, \"min-quantile\" : 0.01} \n",
    "          for flist in bigwigFileNames]\n",
    "biasHeadSpec = biasHeadSpec + [{\"bigwig-names\" : biasBigwigFnames, \n",
    "                            \"max-quantile\" : 0.95, \n",
    "                            \"min-quantile\" : 0.1} ]\n",
    "prepareBedNonPeaksConfig = {\n",
    "    \"heads\" : biasHeadSpec, \n",
    "    \"splits\" : {\"test-chroms\"  : TEST_CHROMS, \n",
    "                \"val-chroms\"   : VAL_CHROMS,\n",
    "                \"train-chroms\" : TRAIN_CHROMS,\n",
    "                \"regions\" : [WORKING_DIRECTORY + \"/bed/tiling_all.bed\"]},\n",
    "    \"genome\" : GENOME_FASTA,\n",
    "    \"output-length\" : OUTPUT_LENGTH,\n",
    "    \"input-length\" : INPUT_LENGTH,\n",
    "    \"max-jitter\" : MAX_JITTER,\n",
    "    \"output-prefix\" : WORKING_DIRECTORY + \"/bed/nonpeak\", \n",
    "    \"remove-overlaps\" : False,\n",
    "    \"resize-mode\" : \"center\",\n",
    "    \"num-threads\": NUM_THREADS,\n",
    "    \"verbosity\" : \"INFO\"}\n",
    "\n",
    "with open(WORKING_DIRECTORY + \"/json/prepareBedNonPeaks.json\", \"w\") as fp:\n",
    "    json.dump(prepareBedNonPeaksConfig, fp)\n",
    "    print(json.dumps(prepareBedNonPeaksConfig, indent=4))"
   ]
  },
  {
   "cell_type": "code",
   "execution_count": 15,
   "id": "95cc332e-744b-4d18-8f9e-7e69f799212b",
   "metadata": {
    "tags": []
   },
   "outputs": [
    {
     "data": {
      "text/plain": [
       "'/bigscratch/bpreveal/oskn/slurm/prepareBedNonPeaks.zsh'"
      ]
     },
     "execution_count": 15,
     "metadata": {},
     "output_type": "execute_result"
    }
   ],
   "source": [
    "\n",
    "\n",
    "SLURM_CMD_CPU(SLURM_CONFIG, [\"prepareBed {0:s}/json/prepareBedNonPeaks.json\".format(WORKING_DIRECTORY)], \n",
    "           \"prepareBedNonPeaks\", ntasks=2, mem=20, parallel=True)"
   ]
  },
  {
   "cell_type": "markdown",
   "id": "a6ba1dc6-5580-49bf-85c2-db46012d3c91",
   "metadata": {},
   "source": [
    "Whenever I have a slurm jobs call (jobsGpu, jobsNonGpu, jobsLocal) in this notebook, assume that I've run it. If you run every cell of this notebook without running the batched commands, you will encounter lots of missing file errors. "
   ]
  },
  {
   "cell_type": "markdown",
   "id": "7532b8ef-20a2-49ee-b623-f3a443c0a0d2",
   "metadata": {},
   "source": [
    "# Building the training dataset"
   ]
  },
  {
   "cell_type": "code",
   "execution_count": 16,
   "id": "982118a2-5a80-4306-bae5-d3e5870ab0fd",
   "metadata": {
    "tags": []
   },
   "outputs": [
    {
     "data": {
      "text/plain": [
       "'/bigscratch/bpreveal/oskn/slurm/prepareTrainingData.zsh'"
      ]
     },
     "execution_count": 16,
     "metadata": {},
     "output_type": "execute_result"
    }
   ],
   "source": [
    "#This next step is pretty easy; we just need to pull the sequence and profile \n",
    "#information into a single hdf5-format file for the training programs to use. \n",
    "\n",
    "#We'll need to make training and validation sets for both the nonpeaks and \n",
    "#peaks bed files. \n",
    "\n",
    "configFnames = []\n",
    "for split in [\"train\", \"val\"]:\n",
    "    for dataset in [\"peak\", \"nonpeak\"]:\n",
    "        heads = []\n",
    "        for tfId, tfName in enumerate(TF_NAMES):\n",
    "            if(dataset == 'peak'):\n",
    "                heads.append({\n",
    "                    \"revcomp-task-order\" : \"auto\",\n",
    "                    \"bigwig-files\" : bigwigFileNames[tfId]})\n",
    "            else:\n",
    "                heads.append({\n",
    "                    \"revcomp-task-order\" : \"auto\",\n",
    "                    \"bigwig-files\" : biasBigwigFnames})\n",
    "        config = {\"genome\" : GENOME_FASTA, \n",
    "                  \"input-length\" : INPUT_LENGTH,\n",
    "                  \"output-length\" : OUTPUT_LENGTH,\n",
    "                  \"max-jitter\" : MAX_JITTER,\n",
    "                  \"regions\" : WORKING_DIRECTORY + \"/bed/\" + dataset + \"_\" + split + \".bed\",\n",
    "                  \"output-h5\" : WORKING_DIRECTORY + \"/input/\" + dataset + \"_\" + split + \".h5\",\n",
    "                  \"reverse-complement\" : True,\n",
    "                  \"heads\" : heads,\n",
    "                  \"verbosity\" : \"INFO\"}\n",
    "        configFname =WORKING_DIRECTORY + \"/json/prepareInput\" + dataset + \"_\" + split+ \".json\" \n",
    "        with open(configFname, \"w\") as fp:\n",
    "            json.dump(config, fp, indent=2)\n",
    "        configFnames.append(configFname)\n",
    "\n",
    "SLURM_CMD_CPU(SLURM_CONFIG, [\"prepareTrainingData {0:s}\".format(configFname) \n",
    "                for configFname in configFnames], \n",
    "            \"prepareTrainingData\", ntasks=2, mem=10, parallel=True)\n",
    "\n",
    "        \n",
    "            \n"
   ]
  },
  {
   "cell_type": "markdown",
   "id": "4eeb4b1c-9575-4f63-990f-3803b99d887c",
   "metadata": {},
   "source": [
    "# Training the bias model"
   ]
  },
  {
   "cell_type": "code",
   "execution_count": 17,
   "id": "16fae7e7-3d9d-451e-b0f6-326980651dc2",
   "metadata": {},
   "outputs": [],
   "source": [
    "#Okay, so the bed preparation step is done. I didn't spend much time \n",
    "#on that since it will be specific to every system you deal with. \n",
    "#But now comes the common stuff. And it's (honestly) easier. "
   ]
  },
  {
   "cell_type": "code",
   "execution_count": 18,
   "id": "4aef2dba-7a89-4b4b-9dde-ba5fc9e8baa2",
   "metadata": {},
   "outputs": [
    {
     "name": "stdout",
     "output_type": "stream",
     "text": [
      "{\n",
      "    \"settings\": {\n",
      "        \"output-prefix\": \"/bigscratch/bpreveal/oskn/models/solo\",\n",
      "        \"epochs\": 200,\n",
      "        \"max-jitter\": 100,\n",
      "        \"early-stopping-patience\": 20,\n",
      "        \"batch-size\": 128,\n",
      "        \"learning-rate\": 0.004,\n",
      "        \"learning-rate-plateau-patience\": 5,\n",
      "        \"architecture\": {\n",
      "            \"architecture-name\": \"bpnet\",\n",
      "            \"input-length\": 3056,\n",
      "            \"output-length\": 1000,\n",
      "            \"model-name\": \"patchcap\",\n",
      "            \"model-args\": \"\",\n",
      "            \"filters\": 16,\n",
      "            \"layers\": 9,\n",
      "            \"input-filter-width\": 7,\n",
      "            \"output-filter-width\": 7\n",
      "        }\n",
      "    },\n",
      "    \"train-data\": \"/bigscratch/bpreveal/oskn/input/nonpeak_train.h5\",\n",
      "    \"val-data\": \"/bigscratch/bpreveal/oskn/input/nonpeak_val.h5\",\n",
      "    \"heads\": [\n",
      "        {\n",
      "            \"num-tasks\": 2,\n",
      "            \"profile-loss-weight\": 1,\n",
      "            \"head-name\": \"patchcap_oct4\",\n",
      "            \"counts-loss-weight\": 10,\n",
      "            \"counts-loss-frac-target\": 0.1\n",
      "        },\n",
      "        {\n",
      "            \"num-tasks\": 2,\n",
      "            \"profile-loss-weight\": 1,\n",
      "            \"head-name\": \"patchcap_sox2\",\n",
      "            \"counts-loss-weight\": 10,\n",
      "            \"counts-loss-frac-target\": 0.1\n",
      "        },\n",
      "        {\n",
      "            \"num-tasks\": 2,\n",
      "            \"profile-loss-weight\": 1,\n",
      "            \"head-name\": \"patchcap_klf4\",\n",
      "            \"counts-loss-weight\": 10,\n",
      "            \"counts-loss-frac-target\": 0.1\n",
      "        },\n",
      "        {\n",
      "            \"num-tasks\": 2,\n",
      "            \"profile-loss-weight\": 1,\n",
      "            \"head-name\": \"patchcap_nanog\",\n",
      "            \"counts-loss-weight\": 10,\n",
      "            \"counts-loss-frac-target\": 0.1\n",
      "        }\n",
      "    ],\n",
      "    \"verbosity\": \"DEBUG\"\n",
      "}\n"
     ]
    }
   ],
   "source": [
    "#To make the model config file, I'll assemble the heads first. \n",
    "heads = []\n",
    "for tfName in TF_NAMES:\n",
    "    heads.append({\"num-tasks\" : 2, \n",
    "                  \"profile-loss-weight\" : 1, \n",
    "                  \"head-name\" : \"patchcap_\" + tfName,\n",
    "                  \"counts-loss-weight\" : 10,\n",
    "                  \"counts-loss-frac-target\" : 0.1})\n",
    "\n",
    "\n",
    "#And now the whole config file:\n",
    "biasTrainConfig = {\n",
    "    \"settings\" : {\n",
    "        \"output-prefix\" : WORKING_DIRECTORY + \"/models/solo\", \n",
    "        \"epochs\" : 200,\n",
    "        \"max-jitter\" : 100,\n",
    "        \"early-stopping-patience\" : 20,\n",
    "        \"batch-size\" : 128,\n",
    "        \"learning-rate\" : 0.004,\n",
    "        \"learning-rate-plateau-patience\" : 5,\n",
    "        \"architecture\" : {\n",
    "            \"architecture-name\" : \"bpnet\", \n",
    "            \"input-length\" : INPUT_LENGTH,\n",
    "            \"output-length\" : OUTPUT_LENGTH,\n",
    "            \"model-name\" : \"patchcap\",\n",
    "            \"model-args\" : \"\",\n",
    "            \"filters\" : 16,\n",
    "            \"layers\" : 9,\n",
    "            \"input-filter-width\" : 7,\n",
    "            \"output-filter-width\" : 7\n",
    "        }\n",
    "    },\n",
    "    \"train-data\" : WORKING_DIRECTORY + \"/input/nonpeak_train.h5\",\n",
    "    \"val-data\" : WORKING_DIRECTORY + \"/input/nonpeak_val.h5\",\n",
    "    \"heads\" : heads,\n",
    "    \"verbosity\" : \"DEBUG\"\n",
    "}\n",
    "\n",
    "print(json.dumps(biasTrainConfig, indent=4))\n",
    "\n",
    "with open(WORKING_DIRECTORY + \"/json/trainBias.json\", \"w\") as fp:\n",
    "    json.dump(biasTrainConfig, fp, indent=4)\n",
    "    "
   ]
  },
  {
   "cell_type": "code",
   "execution_count": 19,
   "id": "d9ccd4ae-da60-4fb9-8680-bd1458737a3e",
   "metadata": {
    "tags": []
   },
   "outputs": [
    {
     "data": {
      "text/plain": [
       "'/bigscratch/bpreveal/oskn/slurm/trainSolo.zsh'"
      ]
     },
     "execution_count": 19,
     "metadata": {},
     "output_type": "execute_result"
    }
   ],
   "source": [
    "SLURM_CMD_GPU(SLURM_CONFIG, [\"trainSoloModel {0:s} |& showTrainingProgress\".format(WORKING_DIRECTORY + \"/json/trainBias.json\")],\n",
    "        \"trainSolo\", 10, 30)\n",
    "\n"
   ]
  },
  {
   "cell_type": "markdown",
   "id": "a2a5ddbb-67fa-4496-b29d-ea65282963a9",
   "metadata": {},
   "source": [
    "# Evaluating the bias model"
   ]
  },
  {
   "cell_type": "code",
   "execution_count": 82,
   "id": "641452f3-4b34-4bb4-bfb0-81afe24387b3",
   "metadata": {},
   "outputs": [],
   "source": [
    "#First, we need to make predictions with the bias model. That's another json file...\n",
    "biasPredictConfig = {\n",
    "    \"settings\" : {\n",
    "        \"output-h5\" : WORKING_DIRECTORY + \"/pred/patchcap.h5\", \n",
    "        \"batch-size\" : 128,\n",
    "        \"heads\" : 4,\n",
    "        \n",
    "        \"architecture\" : {\n",
    "            \"model-file\" : WORKING_DIRECTORY + \"/models/solo.model\",\n",
    "            \"input-length\" : INPUT_LENGTH,\n",
    "            \"output-length\" : OUTPUT_LENGTH\n",
    "        }\n",
    "    },\n",
    "    \"genome\" : GENOME_FASTA, \n",
    "    \"bed-file\" : WORKING_DIRECTORY + \"/bed/peak_all.bed\",\n",
    "    \"num-threads\" : 4,\n",
    "    \"verbosity\" : \"INFO\"\n",
    "}\n",
    "\n",
    "\n",
    "with open(WORKING_DIRECTORY + \"/json/predictBias.json\", \"w\") as fp:\n",
    "    json.dump(biasPredictConfig, fp)"
   ]
  },
  {
   "cell_type": "code",
   "execution_count": 83,
   "id": "bdee6a45-41fd-49f7-bb82-8e88a6ca26e3",
   "metadata": {
    "tags": []
   },
   "outputs": [
    {
     "data": {
      "text/plain": [
       "'/bigscratch/bpreveal/oskn/slurm/predictSolo.zsh'"
      ]
     },
     "execution_count": 83,
     "metadata": {},
     "output_type": "execute_result"
    }
   ],
   "source": [
    "SLURM_CMD_GPU(SLURM_CONFIG, [\"makePredictions {0:s}\".format(WORKING_DIRECTORY + \"/json/predictBias.json\")],\n",
    "        \"predictSolo\", 1, 50)"
   ]
  },
  {
   "cell_type": "code",
   "execution_count": 24,
   "id": "f634da20-4246-41e5-8f73-a15c2248cb63",
   "metadata": {
    "tags": []
   },
   "outputs": [
    {
     "data": {
      "text/plain": [
       "'/bigscratch/bpreveal/oskn/slurm/predToBigwigBias.zsh'"
      ]
     },
     "execution_count": 24,
     "metadata": {},
     "output_type": "execute_result"
    }
   ],
   "source": [
    "#And now I need to convert that hdf5 file into a bigwig.\n",
    "predCmd = \"predictToBigwig \" +\\\n",
    "          \"--h5 {0:s}/pred/patchcap.h5 \" +\\\n",
    "          \"--bw {0:s}/pred/patchcap_{1:s}.bw \"+\\\n",
    "          \"--head-id 0 --task-id {2:d} --mode profile \"+\\\n",
    "          \"--threads 10 --verbose\"\n",
    "\n",
    "SLURM_CMD_CPU(SLURM_CONFIG, [predCmd.format(WORKING_DIRECTORY, strand[0], strand[1]) for strand in [(\"positive\", 0), (\"negative\", 1)]], \n",
    "           \"predToBigwigBias\", 10, 20, parallel=True)"
   ]
  },
  {
   "cell_type": "code",
   "execution_count": null,
   "id": "a7872d9e-9ce9-40f0-9d3c-e3ef32246f2d",
   "metadata": {},
   "outputs": [],
   "source": []
  },
  {
   "cell_type": "code",
   "execution_count": 25,
   "id": "d47572a0-d875-487d-ad95-c8f7a50e913b",
   "metadata": {},
   "outputs": [],
   "source": [
    "#We should look at how well the model did. \n",
    "!makeLossPlots --json {WORKING_DIRECTORY}/models/solo.history.json \\\n",
    "               --output {WORKING_DIRECTORY}/models/solo.png\n",
    "#It's pretty clear that the model overlearned, even with only sixteen filters.\n",
    "#Interesting. It would be great if the training and validation losses were \n",
    "#more similar, but it's not a lethal flaw since we don't need to interpret \n",
    "#the bias model. We should, however, make predictions from it and calculate \n",
    "#some metrics. "
   ]
  },
  {
   "cell_type": "code",
   "execution_count": 26,
   "id": "bafa7fc7-8ef8-48ef-aa96-551e5391ba7f",
   "metadata": {},
   "outputs": [],
   "source": [
    "#Note that I've only written bigwigs for the first head - since all heads were trained on the same data, I'm going to assume each head performed equally well."
   ]
  },
  {
   "cell_type": "code",
   "execution_count": 27,
   "id": "88ca2596-2d3f-41d7-bda8-3b915df91613",
   "metadata": {},
   "outputs": [
    {
     "name": "stdout",
     "output_type": "stream",
     "text": [
      "reference /bigscratch/oskn/patchcap/counts.pos.bw predicted /bigscratch/bpreveal/oskn/pred/patchcap_positive.bw regions /bigscratch/bpreveal/oskn/bed/peak_all.bed\n",
      "metric    \t      0.000000%\t     25.000000%\t     50.000000%\t     75.000000%\t    100.000000%\tregions\n",
      "mnll      \t   -2537.942752\t     -83.252447\t     -68.759964\t     -54.629996\t      -5.458253\t116033\n",
      "jsd       \t       0.651337\t       0.794447\t       0.801281\t       0.807855\t       0.832382\t116033\n",
      "pearsonr  \t      -0.054262\t       0.056208\t       0.084920\t       0.115402\t       0.348581\t116033\n",
      "spearmanr \t      -0.062017\t       0.057837\t       0.079521\t       0.100292\t       0.279783\t116033\n",
      "Counts pearson \t  0.144117\n",
      "Counts spearman\t  0.151393\n"
     ]
    }
   ],
   "source": [
    "#We can now calculate some standard metrics on our predictions, though we don't yet have anything to compare these to. \n",
    "!metrics --reference {DATA_DIRECTORY}/patchcap/counts.pos.bw\\\n",
    "         --pred {WORKING_DIRECTORY}/pred/patchcap_positive.bw \\\n",
    "         --regions {WORKING_DIRECTORY}/bed/peak_all.bed \\\n",
    "         --threads 20 --apply-abs --skip-zeroes"
   ]
  },
  {
   "cell_type": "code",
   "execution_count": 28,
   "id": "81fd5dd5-9e0c-4fa1-a71d-79f85c1e218f",
   "metadata": {},
   "outputs": [],
   "source": [
    "#Let's also take a quick look at the generated bigwigs. \n",
    "\n",
    "def plotBws(bwNames, titles, chrom, start, stop):\n",
    "    \n",
    "    for i, bwName in enumerate(bwNames):\n",
    "        plt.subplot(100*len(bwNames)+10+(i+1))\n",
    "        bw = pyBigWig.open(bwName)\n",
    "        bwVals = np.nan_to_num(bw.values(chrom, start, stop))\n",
    "        #plt.xlim(0,stop-start)\n",
    "        plt.bar(range(start, stop), bwVals, width=1)\n",
    "        plt.ylabel(titles[i])\n",
    "        if(i < len(bwNames)-1):\n",
    "            plt.xticks([])\n",
    "        "
   ]
  },
  {
   "cell_type": "code",
   "execution_count": 29,
   "id": "22ef863d-4a79-4922-a2dc-6e103244a729",
   "metadata": {
    "tags": []
   },
   "outputs": [
    {
     "data": {
      "image/png": "[encoded data removed]",
      "text/plain": [
       "<Figure size 1500x1200 with 4 Axes>"
      ]
     },
     "metadata": {},
     "output_type": "display_data"
    }
   ],
   "source": [
    "plotBws([DATA_DIRECTORY + \"/patchcap/counts.pos.bw\",\n",
    "         WORKING_DIRECTORY + \"/pred/patchcap_positive.bw\",\n",
    "         DATA_DIRECTORY + \"/patchcap/counts.neg.bw\", \n",
    "         WORKING_DIRECTORY + \"/pred/patchcap_negative.bw\"],\n",
    "        [\"exptl_pos\", \"pred_pos\", \"exptl_neg\", \"pred_neg\"], \"chr1\", 34076750, 34077750)"
   ]
  },
  {
   "cell_type": "code",
   "execution_count": 30,
   "id": "7ab33c3d-32c6-45d8-9095-5586f3a68820",
   "metadata": {},
   "outputs": [],
   "source": [
    "#Huh. With so little patchcap data, it's really hard to tell if the model is doing a good job.\n",
    "#In any event, it's time to train the transformation model up. \n"
   ]
  },
  {
   "cell_type": "markdown",
   "id": "a5219df4-c6b6-425e-8df7-37123bc0159e",
   "metadata": {},
   "source": [
    "# Training the transformation model"
   ]
  },
  {
   "cell_type": "code",
   "execution_count": 31,
   "id": "8cce598e-eaed-4baa-b181-f4aacab3bd2a",
   "metadata": {
    "tags": []
   },
   "outputs": [
    {
     "name": "stdout",
     "output_type": "stream",
     "text": [
      "{\n",
      "  \"settings\": {\n",
      "    \"output-prefix\": \"/bigscratch/bpreveal/oskn/models/transformation\",\n",
      "    \"epochs\": 200,\n",
      "    \"early-stopping-patience\": 20,\n",
      "    \"batch-size\": 128,\n",
      "    \"learning-rate\": 0.04,\n",
      "    \"learning-rate-plateau-patience\": 5,\n",
      "    \"solo-model-file\": \"/bigscratch/bpreveal/oskn/models/solo.model\",\n",
      "    \"input-length\": 3056,\n",
      "    \"output-length\": 1000,\n",
      "    \"max-jitter\": 100,\n",
      "    \"profile-architecture\": {\n",
      "      \"name\": \"simple\",\n",
      "      \"types\": [\n",
      "        \"linear\",\n",
      "        \"sigmoid\"\n",
      "      ]\n",
      "    },\n",
      "    \"counts-architecture\": {\n",
      "      \"name\": \"simple\",\n",
      "      \"types\": [\n",
      "        \"linear\",\n",
      "        \"sigmoid\"\n",
      "      ]\n",
      "    }\n",
      "  },\n",
      "  \"train-data\": \"/bigscratch/bpreveal/oskn/input/peak_train.h5\",\n",
      "  \"val-data\": \"/bigscratch/bpreveal/oskn/input/peak_val.h5\",\n",
      "  \"heads\": [\n",
      "    {\n",
      "      \"num-tasks\": 2,\n",
      "      \"profile-loss-weight\": 1,\n",
      "      \"head-name\": \"patchcap_oct4\",\n",
      "      \"counts-loss-weight\": 100,\n",
      "      \"counts-loss-frac-target\": 0.1\n",
      "    },\n",
      "    {\n",
      "      \"num-tasks\": 2,\n",
      "      \"profile-loss-weight\": 1,\n",
      "      \"head-name\": \"patchcap_sox2\",\n",
      "      \"counts-loss-weight\": 100,\n",
      "      \"counts-loss-frac-target\": 0.1\n",
      "    },\n",
      "    {\n",
      "      \"num-tasks\": 2,\n",
      "      \"profile-loss-weight\": 1,\n",
      "      \"head-name\": \"patchcap_klf4\",\n",
      "      \"counts-loss-weight\": 100,\n",
      "      \"counts-loss-frac-target\": 0.1\n",
      "    },\n",
      "    {\n",
      "      \"num-tasks\": 2,\n",
      "      \"profile-loss-weight\": 1,\n",
      "      \"head-name\": \"patchcap_nanog\",\n",
      "      \"counts-loss-weight\": 100,\n",
      "      \"counts-loss-frac-target\": 0.1\n",
      "    }\n",
      "  ],\n",
      "  \"verbosity\": \"DEBUG\"\n",
      "}\n"
     ]
    }
   ],
   "source": [
    "heads = []\n",
    "for tfName in TF_NAMES:\n",
    "    heads.append({\"num-tasks\" : 2, \n",
    "                  \"profile-loss-weight\" : 1, \n",
    "                  \"head-name\" : \"patchcap_\" + tfName,\n",
    "                  \"counts-loss-weight\" : 100,\n",
    "                  \"counts-loss-frac-target\" : 0.1})\n",
    "\n",
    "transformationTrainConfig = {\n",
    "    \"settings\" : {\n",
    "        \"output-prefix\" : WORKING_DIRECTORY + \"/models/transformation\", \n",
    "        \"epochs\" : 200,\n",
    "        \"early-stopping-patience\" : 20,\n",
    "        \"batch-size\" : 128,\n",
    "        \"learning-rate\" : 0.04, #Note the very aggressive LR; we can do this because there are so few parameters. \n",
    "        \"learning-rate-plateau-patience\" : 5,\n",
    "        \"solo-model-file\" : WORKING_DIRECTORY + \"/models/solo.model\",\n",
    "        \"input-length\" : INPUT_LENGTH, \n",
    "        \"output-length\" : OUTPUT_LENGTH,\n",
    "        \"max-jitter\" : 100,\n",
    "        \"profile-architecture\" : {\n",
    "            \"name\" : \"simple\", \n",
    "            \"types\" : [\"linear\", \"sigmoid\"]},\n",
    "        \"counts-architecture\" : {\n",
    "            \"name\" : \"simple\", \n",
    "            \"types\" : [\"linear\", \"sigmoid\"]}},\n",
    "        \n",
    "    \"train-data\" : WORKING_DIRECTORY+ \"/input/peak_train.h5\",\n",
    "    \"val-data\" : WORKING_DIRECTORY + \"/input/peak_val.h5\",\n",
    "    \"heads\" : heads,\n",
    "    \"verbosity\" : \"DEBUG\"\n",
    "}\n",
    "\n",
    "print(json.dumps(transformationTrainConfig, indent=2))\n",
    "\n",
    "with open(WORKING_DIRECTORY + \"/json/trainTransformation.json\", \"w\") as fp:\n",
    "    json.dump(transformationTrainConfig, fp)"
   ]
  },
  {
   "cell_type": "code",
   "execution_count": 41,
   "id": "0396084b-c755-4b1f-873e-b82066068d77",
   "metadata": {
    "tags": []
   },
   "outputs": [
    {
     "data": {
      "text/plain": [
       "'/bigscratch/bpreveal/oskn/slurm/trainTransformation.zsh'"
      ]
     },
     "execution_count": 41,
     "metadata": {},
     "output_type": "execute_result"
    }
   ],
   "source": [
    "jobSpecs = []\n",
    "SLURM_CMD_CPU(SLURM_CONFIG, [\"trainTransformationModel {0:s} |& showTrainingProgress\".format(WORKING_DIRECTORY + \"/json/trainTransformation.json\")],\n",
    "        \"trainTransformation\")\n"
   ]
  },
  {
   "cell_type": "code",
   "execution_count": 85,
   "id": "e55883d6-60af-46e5-af04-2269e432dc7b",
   "metadata": {
    "tags": []
   },
   "outputs": [
    {
     "name": "stdout",
     "output_type": "stream",
     "text": [
      "{'settings': {'output-h5': '/bigscratch/bpreveal/oskn/pred/transform.h5', 'batch-size': 128, 'heads': 4, 'architecture': {'model-file': '/bigscratch/bpreveal/oskn/models/transformation.model', 'input-length': 3056, 'output-length': 1000}}, 'genome': '/bigscratch/genomes/mm10.fa', 'bed-file': '/bigscratch/bpreveal/oskn/bed/peak_all.bed', 'num-threads': 4, 'verbosity': 'DEBUG'}\n"
     ]
    }
   ],
   "source": [
    "#Let's go ahead and make predictions...\n",
    "transformPredictConfig = {\n",
    "    \"settings\" : {\n",
    "        \"output-h5\" : WORKING_DIRECTORY + \"/pred/transform.h5\", \n",
    "        \"batch-size\" : 128,\n",
    "        \"heads\" : 4,\n",
    "        \n",
    "        \"architecture\" : {\n",
    "            \"model-file\" : WORKING_DIRECTORY + \"/models/transformation.model\",\n",
    "            \"input-length\" : INPUT_LENGTH,\n",
    "            \"output-length\" : OUTPUT_LENGTH\n",
    "        }\n",
    "    },\n",
    "    \"genome\" : GENOME_FASTA, \n",
    "    \"bed-file\" : WORKING_DIRECTORY + \"/bed/peak_all.bed\",\n",
    "    \"num-threads\" : 4,\n",
    "    \"verbosity\" : \"DEBUG\"\n",
    "}\n",
    "\n",
    "print(transformPredictConfig)\n",
    "\n",
    "with open(WORKING_DIRECTORY + \"/json/predictTransformation.json\", \"w\") as fp:\n",
    "    json.dump(transformPredictConfig, fp)\n"
   ]
  },
  {
   "cell_type": "code",
   "execution_count": 43,
   "id": "b8bf0a8a-1f74-4e41-91f4-c9db7120005d",
   "metadata": {
    "tags": []
   },
   "outputs": [
    {
     "data": {
      "text/plain": [
       "'/bigscratch/bpreveal/oskn/slurm/predToBigwigTransform.zsh'"
      ]
     },
     "execution_count": 43,
     "metadata": {},
     "output_type": "execute_result"
    }
   ],
   "source": [
    "SLURM_CMD_GPU(SLURM_CONFIG, [\"makePredictions {0:s}\".format(WORKING_DIRECTORY + \"/json/predictTransformation.json\")],\n",
    "        \"predictTransformation\")\n",
    "\n",
    "predCmd = \"predictToBigwig \" +\\\n",
    "          \"--h5 {0:s}/pred/transform.h5 \" +\\\n",
    "          \"--bw {0:s}/pred/transform_{1:s}.bw \"+\\\n",
    "          \"--head-id 0 --task-id {2:d} --mode profile \"+\\\n",
    "          \"--threads 10 --verbose\"\n",
    "\n",
    "SLURM_CMD_CPU(SLURM_CONFIG,\n",
    "    [predCmd.format(WORKING_DIRECTORY, strand[0], strand[1]) for strand in [(\"positive\", 0), (\"negative\", 1)]], \n",
    "    \"predToBigwigTransform\", 10, 10, parallel=True)"
   ]
  },
  {
   "cell_type": "code",
   "execution_count": null,
   "id": "d44ae7bf-ad4a-49cf-889b-639e36733942",
   "metadata": {},
   "outputs": [],
   "source": []
  },
  {
   "cell_type": "code",
   "execution_count": 44,
   "id": "cb5dbe65-e28d-4861-9bf8-f3e2f0ec5dde",
   "metadata": {
    "tags": []
   },
   "outputs": [
    {
     "data": {
      "image/png": "[encoded data removed]",
      "text/plain": [
       "<Figure size 1500x1200 with 3 Axes>"
      ]
     },
     "metadata": {},
     "output_type": "display_data"
    }
   ],
   "source": [
    "plotBws([DATA_DIRECTORY + \"/patchcap/counts.pos.bw\",\n",
    "         WORKING_DIRECTORY + \"/pred/transform_positive.bw\",\n",
    "         DATA_DIRECTORY + \"/nanog/counts.pos.bw\"],\n",
    "        [\"pc_pos\", \"transform_pos\", \"exptl_pos\"], \"chr1\", 34076750, 34077750)"
   ]
  },
  {
   "cell_type": "code",
   "execution_count": 45,
   "id": "a5be9939-8c84-49ab-a8b7-4ee2cfcdfded",
   "metadata": {},
   "outputs": [],
   "source": [
    "#Of course these aren't a good match, but that's partly the point - the bald spot that the patchcap model predicts seems to also be present in the Nanog and Oct4 experimental data,\n",
    "#and this suggests that that bald spot is an artifact. "
   ]
  },
  {
   "cell_type": "markdown",
   "id": "96fb4e16-5ddb-4272-bd97-18e775902709",
   "metadata": {},
   "source": [
    "# Training the combined model"
   ]
  },
  {
   "cell_type": "code",
   "execution_count": 46,
   "id": "dd3a64f2-3757-4f4d-97fe-c2806a4c6629",
   "metadata": {
    "tags": []
   },
   "outputs": [
    {
     "name": "stdout",
     "output_type": "stream",
     "text": [
      "{\n",
      "  \"settings\": {\n",
      "    \"output-prefix\": \"/bigscratch/bpreveal/oskn/models/joint\",\n",
      "    \"epochs\": 200,\n",
      "    \"early-stopping-patience\": 20,\n",
      "    \"batch-size\": 128,\n",
      "    \"learning-rate\": 0.004,\n",
      "    \"learning-rate-plateau-patience\": 5,\n",
      "    \"max-jitter\": 100,\n",
      "    \"transformation-model\": {\n",
      "      \"transformation-model-file\": \"/bigscratch/bpreveal/oskn/models/transformation.model\"\n",
      "    },\n",
      "    \"architecture\": {\n",
      "      \"architecture-name\": \"bpnet\",\n",
      "      \"input-length\": 3056,\n",
      "      \"output-length\": 1000,\n",
      "      \"model-name\": \"joint\",\n",
      "      \"model-args\": \"\",\n",
      "      \"filters\": 64,\n",
      "      \"layers\": 9,\n",
      "      \"input-filter-width\": 7,\n",
      "      \"output-filter-width\": 7\n",
      "    }\n",
      "  },\n",
      "  \"train-data\": \"/bigscratch/bpreveal/oskn/input/peak_train.h5\",\n",
      "  \"val-data\": \"/bigscratch/bpreveal/oskn/input/peak_val.h5\",\n",
      "  \"heads\": [\n",
      "    {\n",
      "      \"num-tasks\": 2,\n",
      "      \"profile-loss-weight\": 1,\n",
      "      \"head-name\": \"combined_oct4\",\n",
      "      \"counts-loss-weight\": 100,\n",
      "      \"counts-loss-frac-target\": 0.1,\n",
      "      \"use-bias-counts\": false\n",
      "    },\n",
      "    {\n",
      "      \"num-tasks\": 2,\n",
      "      \"profile-loss-weight\": 1,\n",
      "      \"head-name\": \"combined_sox2\",\n",
      "      \"counts-loss-weight\": 100,\n",
      "      \"counts-loss-frac-target\": 0.1,\n",
      "      \"use-bias-counts\": false\n",
      "    },\n",
      "    {\n",
      "      \"num-tasks\": 2,\n",
      "      \"profile-loss-weight\": 1,\n",
      "      \"head-name\": \"combined_klf4\",\n",
      "      \"counts-loss-weight\": 100,\n",
      "      \"counts-loss-frac-target\": 0.1,\n",
      "      \"use-bias-counts\": false\n",
      "    },\n",
      "    {\n",
      "      \"num-tasks\": 2,\n",
      "      \"profile-loss-weight\": 1,\n",
      "      \"head-name\": \"combined_nanog\",\n",
      "      \"counts-loss-weight\": 100,\n",
      "      \"counts-loss-frac-target\": 0.1,\n",
      "      \"use-bias-counts\": false\n",
      "    }\n",
      "  ],\n",
      "  \"verbosity\": \"DEBUG\"\n",
      "}\n"
     ]
    }
   ],
   "source": [
    "heads = []\n",
    "for tfName in TF_NAMES:\n",
    "    heads.append({\"num-tasks\" : 2, \n",
    "                  \"profile-loss-weight\" : 1, \n",
    "                  \"head-name\" : \"combined_\" + tfName,\n",
    "                  \"counts-loss-weight\" : 100,\n",
    "                  \"counts-loss-frac-target\" : 0.1,\n",
    "                  \"use-bias-counts\" : False})\n",
    "\n",
    "\n",
    "#And now the whole config file:\n",
    "combinedTrainConfig = {\n",
    "    \"settings\" : {\n",
    "        \"output-prefix\" : WORKING_DIRECTORY + \"/models/joint\", \n",
    "        \"epochs\" : 200,\n",
    "        \"early-stopping-patience\" : 20,\n",
    "        \"batch-size\" : 128,\n",
    "        \"learning-rate\" : 0.004,\n",
    "        \"learning-rate-plateau-patience\" : 5,\n",
    "        \"max-jitter\" : 100,\n",
    "        \"transformation-model\" : {\n",
    "            \"transformation-model-file\" : WORKING_DIRECTORY + \"/models/transformation.model\"\n",
    "        },\n",
    "        \"architecture\" : {\n",
    "            \"architecture-name\" : \"bpnet\", \n",
    "            \"input-length\" : INPUT_LENGTH,\n",
    "            \"output-length\" : OUTPUT_LENGTH,\n",
    "            \"model-name\" : \"joint\",\n",
    "            \"model-args\" : \"\",\n",
    "            \"filters\" : 64,\n",
    "            \"layers\" : 9,\n",
    "            \"input-filter-width\" : 7,\n",
    "            \"output-filter-width\" : 7\n",
    "        }\n",
    "    },\n",
    "    \"train-data\" : WORKING_DIRECTORY + \"/input/peak_train.h5\",\n",
    "    \"val-data\" : WORKING_DIRECTORY + \"/input/peak_val.h5\",\n",
    "    \"heads\" : heads,\n",
    "    \"verbosity\" : \"DEBUG\"\n",
    "}\n",
    "\n",
    "print(json.dumps(combinedTrainConfig, indent=2))\n",
    "\n",
    "with open(WORKING_DIRECTORY + \"/json/trainCombined.json\", \"w\") as fp:\n",
    "    json.dump(combinedTrainConfig, fp)"
   ]
  },
  {
   "cell_type": "code",
   "execution_count": 47,
   "id": "f549186b-79e3-42a0-a3a5-905ef6d94665",
   "metadata": {
    "tags": []
   },
   "outputs": [
    {
     "data": {
      "text/plain": [
       "'/bigscratch/bpreveal/oskn/slurm/trainCombined.zsh'"
      ]
     },
     "execution_count": 47,
     "metadata": {},
     "output_type": "execute_result"
    }
   ],
   "source": [
    "\n",
    "SLURM_CMD_GPU(SLURM_CONFIG, [\"trainCombinedModel {0:s} |& showTrainingProgress\".format(WORKING_DIRECTORY + \"/json/trainCombined.json\")],\n",
    "        \"trainCombined\")\n"
   ]
  },
  {
   "cell_type": "code",
   "execution_count": 48,
   "id": "f81c57d2-3bfa-4811-b34c-2f7d01004203",
   "metadata": {},
   "outputs": [],
   "source": [
    "#Let's look at the losses...\n",
    "!makeLossPlots --json {WORKING_DIRECTORY}/models/joint.history.json --output {WORKING_DIRECTORY}/models/joint.png"
   ]
  },
  {
   "cell_type": "code",
   "execution_count": 49,
   "id": "d5adb725-19e9-4d86-a563-adac5f29cd82",
   "metadata": {},
   "outputs": [],
   "source": [
    "#It's overfitting a bit, maybe next time I'll try with fewer filters. \n",
    "#But now's the time to make predictions. "
   ]
  },
  {
   "cell_type": "code",
   "execution_count": 86,
   "id": "d985c4d4-8eff-4a87-8852-983375e29400",
   "metadata": {},
   "outputs": [
    {
     "name": "stdout",
     "output_type": "stream",
     "text": [
      "{'settings': {'output-h5': '/bigscratch/bpreveal/oskn/pred/combined.h5', 'batch-size': 128, 'heads': 4, 'architecture': {'model-file': '/bigscratch/bpreveal/oskn/models/joint_combined.model', 'input-length': 3056, 'output-length': 1000}}, 'genome': '/bigscratch/genomes/mm10.fa', 'bed-file': '/bigscratch/bpreveal/oskn/bed/peak_all.bed', 'num-threads': 4, 'verbosity': 'DEBUG'}\n"
     ]
    }
   ],
   "source": [
    "combinedPredictConfig = {\n",
    "    \"settings\" : {\n",
    "        \"output-h5\" : WORKING_DIRECTORY + \"/pred/combined.h5\", \n",
    "        \"batch-size\" : 128,\n",
    "        \"heads\" : 4,\n",
    "        \n",
    "        \"architecture\" : {\n",
    "            \"model-file\" : WORKING_DIRECTORY + \"/models/joint_combined.model\",\n",
    "            \"input-length\" : INPUT_LENGTH,\n",
    "            \"output-length\" : OUTPUT_LENGTH\n",
    "        }\n",
    "    },\n",
    "    \"genome\" : GENOME_FASTA, \n",
    "    \"bed-file\" : WORKING_DIRECTORY + \"/bed/peak_all.bed\",\n",
    "    \"num-threads\" : 4,\n",
    "    \"verbosity\" : \"DEBUG\"\n",
    "}\n",
    "\n",
    "print(combinedPredictConfig)\n",
    "\n",
    "with open(WORKING_DIRECTORY + \"/json/predictCombined.json\", \"w\") as fp:\n",
    "    json.dump(combinedPredictConfig, fp)\n",
    "#For the residual model, I just need to change a few terms:\n",
    "residualPredictConfig = combinedPredictConfig\n",
    "residualPredictConfig[\"settings\"][\"output-h5\"] = WORKING_DIRECTORY + \"/pred/residual.h5\"\n",
    "residualPredictConfig[\"settings\"][\"architecture\"][\"model-file\"] = WORKING_DIRECTORY + \"/models/joint_residual.model\"\n",
    "with open(WORKING_DIRECTORY + \"/json/predictResidual.json\", \"w\") as fp:\n",
    "    json.dump(residualPredictConfig, fp)"
   ]
  },
  {
   "cell_type": "code",
   "execution_count": 88,
   "id": "07cee25b-c851-4c47-b5d6-28ba288c94e1",
   "metadata": {},
   "outputs": [
    {
     "data": {
      "text/plain": [
       "'/bigscratch/bpreveal/oskn/slurm/predToBigwigCombined.zsh'"
      ]
     },
     "execution_count": 88,
     "metadata": {},
     "output_type": "execute_result"
    }
   ],
   "source": [
    "SLURM_CMD_GPU(SLURM_CONFIG, [\"makePredictions {0:s}\".format(WORKING_DIRECTORY + \"/json/predictCombined.json\"),\n",
    "         \"makePredictions {0:s}\".format(WORKING_DIRECTORY + \"/json/predictResidual.json\")],\n",
    "        \"predictCombined\", 1, 50, \"10:00:00\")\n",
    "\n",
    "bwCmdBase = \"predictToBigwig \" +\\\n",
    "          \"--h5 {wd:s}/pred/{inf:s}.h5 \" +\\\n",
    "          \"--bw {wd:s}/pred/{outf:s}.bw \"+\\\n",
    "          \"--head-id {hid:d} --task-id {tid:d} --mode profile \"+\\\n",
    "          \"--threads 5 --verbose\"\n",
    "bwCmds = []\n",
    "for modelType in [\"residual\", \"combined\"]:\n",
    "    for headid, tfname in enumerate(TF_NAMES):\n",
    "        for tid, strand in enumerate([\"positive\", \"negative\"]):\n",
    "            cmd = bwCmdBase.format(wd=WORKING_DIRECTORY, \n",
    "                                   inf=modelType,\n",
    "                                   outf=tfname + \"_\" + modelType + \"_\" + strand,\n",
    "                                   hid=headid, tid=tid)\n",
    "            bwCmds.append(cmd)\n",
    "\n",
    "SLURM_CMD_CPU(SLURM_CONFIG, bwCmds, \n",
    "           \"predToBigwigCombined\", 5, 5, parallel=True)"
   ]
  },
  {
   "cell_type": "code",
   "execution_count": null,
   "id": "5cb75ddc-ceba-4e43-ac22-d95139b40cbf",
   "metadata": {},
   "outputs": [],
   "source": []
  },
  {
   "cell_type": "code",
   "execution_count": null,
   "id": "03f6ddea-f945-4f86-9a31-e3cfe01fcdbd",
   "metadata": {},
   "outputs": [],
   "source": []
  },
  {
   "cell_type": "code",
   "execution_count": 54,
   "id": "66d3e005-62ed-45b5-821b-843af1d97485",
   "metadata": {},
   "outputs": [],
   "source": [
    "def plotTfBigwigs(tfName, exptName, startPos = 34066036, span=1000, chrom=\"chr1\"):\n",
    "    plotBws([DATA_DIRECTORY + \"/\" + tfName + \"/counts.pos.bw\",\n",
    "             WORKING_DIRECTORY + \"/pred/\" + tfName + \"_\" + exptName + \"_positive.bw\",\n",
    "             DATA_DIRECTORY + \"/\" + tfName + \"/counts.neg.bw\", \n",
    "             WORKING_DIRECTORY + \"/pred/\" + tfName + \"_\" + exptName + \"_negative.bw\"],\n",
    "            [\"exptl_pos\", \"pred_pos\", \"exptl_neg\", \"pred_neg\"], chrom, startPos, startPos+span)"
   ]
  },
  {
   "cell_type": "code",
   "execution_count": 55,
   "id": "5f11bb13-a562-4fdd-bc26-d28e5f86cab2",
   "metadata": {},
   "outputs": [
    {
     "data": {
      "image/png": "[encoded data removed]",
      "text/plain": [
       "<Figure size 1500x1200 with 4 Axes>"
      ]
     },
     "metadata": {},
     "output_type": "display_data"
    }
   ],
   "source": [
    "plotTfBigwigs('oct4', 'residual', startPos = 35504040, span=40, chrom=\"chr17\")"
   ]
  },
  {
   "cell_type": "code",
   "execution_count": 56,
   "id": "36270caa-f839-4b12-b3e4-c7799ff78aa7",
   "metadata": {},
   "outputs": [
    {
     "data": {
      "image/png": "[encoded data removed]",
      "text/plain": [
       "<Figure size 1500x1200 with 4 Axes>"
      ]
     },
     "metadata": {},
     "output_type": "display_data"
    }
   ],
   "source": [
    "plotTfBigwigs('oct4', 'combined')"
   ]
  },
  {
   "cell_type": "code",
   "execution_count": 57,
   "id": "c325738c-4a39-45e5-a1dc-8ebb1fef843a",
   "metadata": {},
   "outputs": [
    {
     "data": {
      "image/png": "[encoded data removed]",
      "text/plain": [
       "<Figure size 1500x1200 with 4 Axes>"
      ]
     },
     "metadata": {},
     "output_type": "display_data"
    }
   ],
   "source": [
    "plotTfBigwigs('oct4', 'residual')"
   ]
  },
  {
   "cell_type": "code",
   "execution_count": 58,
   "id": "3bfa3a07-9c53-4635-8978-ed0a3c0b3fc0",
   "metadata": {},
   "outputs": [
    {
     "data": {
      "image/png": "[encoded data removed]",
      "text/plain": [
       "<Figure size 1500x1200 with 4 Axes>"
      ]
     },
     "metadata": {},
     "output_type": "display_data"
    }
   ],
   "source": [
    "#Let's look around our favorite Lefty1 enhancer...\n",
    "plotTfBigwigs('oct4', 'combined', startPos = 180924752, span=400)"
   ]
  },
  {
   "cell_type": "code",
   "execution_count": 59,
   "id": "943524c8-93ff-49e3-9743-c45aeb0bf26a",
   "metadata": {},
   "outputs": [
    {
     "data": {
      "image/png": "[encoded data removed]",
      "text/plain": [
       "<Figure size 1500x1200 with 4 Axes>"
      ]
     },
     "metadata": {},
     "output_type": "display_data"
    }
   ],
   "source": [
    "plotTfBigwigs('nanog', 'combined', startPos = 180924752, span=400)"
   ]
  },
  {
   "cell_type": "code",
   "execution_count": 60,
   "id": "09b9e6c4-db47-46ca-8e0e-64b84f640bc3",
   "metadata": {},
   "outputs": [
    {
     "data": {
      "image/png": "[encoded data removed]",
      "text/plain": [
       "<Figure size 1500x1200 with 4 Axes>"
      ]
     },
     "metadata": {},
     "output_type": "display_data"
    }
   ],
   "source": [
    "plotTfBigwigs('nanog', 'residual', startPos = 180924752, span=400)"
   ]
  },
  {
   "cell_type": "code",
   "execution_count": 61,
   "id": "82e26197-bc64-4d4d-bb0d-ad173e098e2f",
   "metadata": {},
   "outputs": [
    {
     "name": "stdout",
     "output_type": "stream",
     "text": [
      "reference /bigscratch/oskn/oct4/counts.pos.bw predicted /bigscratch/bpreveal/oskn/pred/oct4_combined_positive.bw regions /bigscratch/bpreveal/oskn/bed/peak_train.bed\n",
      "metric    \t      0.000000%\t     25.000000%\t     50.000000%\t     75.000000%\t    100.000000%\tregions\n",
      "mnll      \t   -4863.968228\t    -425.038306\t    -332.418318\t    -262.705183\t      -5.776033\t71371\n",
      "jsd       \t       0.287421\t       0.661698\t       0.698218\t       0.725974\t       0.830603\t71371\n",
      "pearsonr  \t      -0.115368\t       0.157548\t       0.202830\t       0.265696\t       0.899057\t71371\n",
      "spearmanr \t      -0.188634\t       0.157078\t       0.194144\t       0.243795\t       0.786776\t71371\n",
      "Counts pearson \t  0.508207\n",
      "Counts spearman\t  0.615764\n",
      "reference /bigscratch/oskn/oct4/counts.pos.bw predicted /bigscratch/bpreveal/oskn/pred/oct4_combined_positive.bw regions /bigscratch/bpreveal/oskn/bed/peak_val.bed\n",
      "metric    \t      0.000000%\t     25.000000%\t     50.000000%\t     75.000000%\t    100.000000%\tregions\n",
      "mnll      \t   -4870.122599\t    -428.913687\t    -333.733298\t    -264.609612\t     -23.809449\t23032\n",
      "jsd       \t       0.309911\t       0.660102\t       0.697738\t       0.725359\t       0.831215\t23032\n",
      "pearsonr  \t      -0.095459\t       0.158507\t       0.203768\t       0.267762\t       0.828873\t23032\n",
      "spearmanr \t      -0.064361\t       0.157711\t       0.194711\t       0.244532\t       0.739891\t23032\n",
      "Counts pearson \t  0.392344\n",
      "Counts spearman\t  0.544193\n"
     ]
    }
   ],
   "source": [
    "!metrics --reference {DATA_DIRECTORY}/oct4/counts.pos.bw \\\n",
    "         --pred {WORKING_DIRECTORY}/pred/oct4_combined_positive.bw \\\n",
    "         --regions {WORKING_DIRECTORY}/bed/peak_train.bed \\\n",
    "         --threads 20 --apply-abs --skip-zeroes\n",
    "\n",
    "!metrics --reference {DATA_DIRECTORY}/oct4/counts.pos.bw \\\n",
    "         --pred {WORKING_DIRECTORY}/pred/oct4_combined_positive.bw \\\n",
    "         --regions {WORKING_DIRECTORY}/bed/peak_val.bed \\\n",
    "         --threads 20 --apply-abs --skip-zeroes"
   ]
  },
  {
   "cell_type": "code",
   "execution_count": 62,
   "id": "9a321031-acc0-43aa-80cb-80361ca56dc0",
   "metadata": {},
   "outputs": [
    {
     "name": "stdout",
     "output_type": "stream",
     "text": [
      "reference /bigscratch/oskn/oct4/counts.pos.bw predicted /bigscratch/oskn/bigwigs/Oct4.preds.pos.bw regions /bigscratch/bpreveal/oskn/bed/peak_train.bed\n",
      "metric    \t      0.000000%\t     25.000000%\t     50.000000%\t     75.000000%\t    100.000000%\tregions\n",
      "mnll      \t   -4035.381696\t    -472.540420\t    -371.122058\t    -298.897697\t     -44.751772\t32883\n",
      "jsd       \t       0.232497\t       0.637601\t       0.679668\t       0.710612\t       0.832555\t51843\n",
      "pearsonr  \t      -0.145809\t       0.176634\t       0.233113\t       0.320228\t       0.931734\t51843\n",
      "spearmanr \t      -0.254353\t       0.167713\t       0.213578\t       0.276336\t       0.813174\t51843\n",
      "Counts pearson \t  0.442374\n",
      "Counts spearman\t  0.469483\n",
      "reference /bigscratch/oskn/oct4/counts.pos.bw predicted /bigscratch/oskn/bigwigs/Oct4.preds.pos.bw regions /bigscratch/bpreveal/oskn/bed/peak_val.bed\n",
      "metric    \t      0.000000%\t     25.000000%\t     50.000000%\t     75.000000%\t    100.000000%\tregions\n",
      "mnll      \t   -4403.891311\t    -482.707397\t    -377.738172\t    -302.637765\t     -34.572364\t10742\n",
      "jsd       \t       0.289047\t       0.635485\t       0.678711\t       0.709827\t       0.832555\t16698\n",
      "pearsonr  \t      -0.148314\t       0.176564\t       0.234603\t       0.319725\t       0.893884\t16698\n",
      "spearmanr \t      -0.212549\t       0.168115\t       0.215135\t       0.276653\t       0.764641\t16698\n",
      "Counts pearson \t  0.379145\n",
      "Counts spearman\t  0.428746\n"
     ]
    }
   ],
   "source": [
    "!metrics --reference {DATA_DIRECTORY}/oct4/counts.pos.bw \\\n",
    "         --pred {DATA_DIRECTORY}/bigwigs/Oct4.preds.pos.bw \\\n",
    "         --regions {WORKING_DIRECTORY}/bed/peak_train.bed \\\n",
    "         --threads 20 --apply-abs --skip-zeroes\n",
    "!metrics --reference {DATA_DIRECTORY}/oct4/counts.pos.bw \\\n",
    "         --pred {DATA_DIRECTORY}/bigwigs/Oct4.preds.pos.bw \\\n",
    "         --regions {WORKING_DIRECTORY}/bed/peak_val.bed \\\n",
    "         --threads 20 --apply-abs --skip-zeroes"
   ]
  },
  {
   "cell_type": "code",
   "execution_count": 63,
   "id": "5873fe7a-1744-4fca-a606-6aa3a27c3908",
   "metadata": {},
   "outputs": [
    {
     "name": "stdout",
     "output_type": "stream",
     "text": [
      "reference /bigscratch/bpreveal/oskn/pred/oct4_combined_positive.bw predicted /bigscratch/oskn/bigwigs/Oct4.preds.pos.bw regions /bigscratch/bpreveal/oskn/bed/peak_train.bed\n",
      "metric    \t      0.000000%\t     25.000000%\t     50.000000%\t     75.000000%\t    100.000000%\tregions\n",
      "mnll      \t       0.000000\t       0.000000\t       0.000000\t       0.000000\t       0.000000\t5\n",
      "jsd       \t       0.076613\t       0.130853\t       0.155033\t       0.191316\t       0.831779\t51843\n",
      "pearsonr  \t      -0.322994\t       0.750164\t       0.827035\t       0.875522\t       0.961081\t51843\n",
      "spearmanr \t      -0.683330\t       0.793708\t       0.861657\t       0.903284\t       0.979249\t51843\n",
      "Counts pearson \t  0.633014\n",
      "Counts spearman\t  0.489929\n",
      "reference /bigscratch/bpreveal/oskn/pred/oct4_combined_positive.bw predicted /bigscratch/oskn/bigwigs/Oct4.preds.pos.bw regions /bigscratch/bpreveal/oskn/bed/peak_val.bed\n",
      "metric    \t      0.000000%\t     25.000000%\t     50.000000%\t     75.000000%\t    100.000000%\tregions\n",
      "mnll      \t       0.000000\t       0.000000\t       0.000000\t       0.000000\t       0.000000\t5\n",
      "jsd       \t       0.080074\t       0.131596\t       0.156246\t       0.192478\t       0.831647\t16698\n",
      "pearsonr  \t      -0.329339\t       0.747608\t       0.825062\t       0.873779\t       0.956333\t16698\n",
      "spearmanr \t      -0.614163\t       0.793789\t       0.860093\t       0.902568\t       0.980839\t16698\n",
      "Counts pearson \t  0.315478\n",
      "Counts spearman\t  0.496745\n"
     ]
    }
   ],
   "source": [
    "!metrics --reference {WORKING_DIRECTORY}/pred/oct4_combined_positive.bw \\\n",
    "         --pred {DATA_DIRECTORY}/bigwigs/Oct4.preds.pos.bw \\\n",
    "         --regions {WORKING_DIRECTORY}/bed/peak_train.bed \\\n",
    "         --threads 20 --apply-abs --skip-zeroes\n",
    "!metrics --reference {WORKING_DIRECTORY}/pred/oct4_combined_positive.bw \\\n",
    "         --pred {DATA_DIRECTORY}/bigwigs/Oct4.preds.pos.bw \\\n",
    "         --regions {WORKING_DIRECTORY}/bed/peak_val.bed \\\n",
    "         --threads 20 --apply-abs --skip-zeroes"
   ]
  },
  {
   "cell_type": "markdown",
   "id": "9c9d62f7-c3f4-4db2-ab1a-f850655b6100",
   "metadata": {},
   "source": [
    "# Deriving flat importance scores"
   ]
  },
  {
   "cell_type": "code",
   "execution_count": 69,
   "id": "26bbda55-ac81-4c70-954d-fb576af8e1e7",
   "metadata": {},
   "outputs": [
    {
     "data": {
      "text/plain": [
       "'/bigscratch/bpreveal/oskn/slurm/interpretFlat.zsh'"
      ]
     },
     "execution_count": 69,
     "metadata": {},
     "output_type": "execute_result"
    }
   ],
   "source": [
    "#Importance scores are needed to run motif discovery, but they're also a great way to analyze what the model learned. \n",
    "#Unfortunately for us, they take a while to generate. \n",
    "jobSpecs = []\n",
    "def makeInterpretJson(tfNum):\n",
    "    return {\n",
    "        \"genome\" : GENOME_FASTA,\n",
    "        \"bed-file\" : WORKING_DIRECTORY + \"/bed/peak_all.bed\",\n",
    "        \"model-file\" : WORKING_DIRECTORY + \"/models/joint_residual.model\", \n",
    "        \"input-length\" : INPUT_LENGTH,\n",
    "        \"output-length\" : OUTPUT_LENGTH,\n",
    "        \"heads\" : 4,\n",
    "        \"head-id\": tfNum,\n",
    "        \"profile-task-ids\" : [0,1],\n",
    "        \"profile-h5\" : WORKING_DIRECTORY + \"/shap/\" + TF_NAMES[tfNum] + \"_profile.h5\",\n",
    "        \"counts-h5\" : WORKING_DIRECTORY + \"/shap/\" + TF_NAMES[tfNum] + \"_counts.h5\",\n",
    "        \"num-shuffles\" : 20,\n",
    "        \"verbosity\" : \"DEBUG\"}\n",
    "cmds = []\n",
    "for tfNum in range(len(TF_NAMES)):\n",
    "    fname = WORKING_DIRECTORY + \"/json/shap_\" + TF_NAMES[tfNum] + \".json\"\n",
    "    cmds.append(\"interpretFlat {0:s}\".format(fname))\n",
    "    with open(fname, \"w\") as fp:\n",
    "        json.dump(makeInterpretJson(tfNum), fp)\n",
    "SLURM_CMD_GPU(SLURM_CONFIG, cmds, \"interpretFlat\")"
   ]
  },
  {
   "cell_type": "code",
   "execution_count": 73,
   "id": "8d161237-dbed-45b3-b412-1467b1492c91",
   "metadata": {},
   "outputs": [
    {
     "data": {
      "text/plain": [
       "'/bigscratch/bpreveal/oskn/slurm/shapToBigwig.zsh'"
      ]
     },
     "execution_count": 73,
     "metadata": {},
     "output_type": "execute_result"
    }
   ],
   "source": [
    "shapBwCmdBase = \"shapToBigwig \" +\\\n",
    "          \"--h5 {wd:s}/shap/{tf:s}_{readout:s}.h5 \" +\\\n",
    "          \"--bw {wd:s}/shap/{tf:s}_{readout:s}.bw \"+\\\n",
    "          \"--verbose\"\n",
    "shapBwCmds = []\n",
    "for tfname in TF_NAMES:\n",
    "    for readout in [\"profile\", \"counts\"]:\n",
    "        cmd = shapBwCmdBase.format(wd=WORKING_DIRECTORY, \n",
    "                                   tf=tfname,\n",
    "                                   readout=readout)\n",
    "        shapBwCmds.append(cmd)\n",
    "\n",
    "SLURM_CMD_CPU(SLURM_CONFIG, shapBwCmds, \n",
    "           \"shapToBigwig\", 5, 10, parallel=True)\n",
    "\n"
   ]
  },
  {
   "cell_type": "code",
   "execution_count": null,
   "id": "311e2036-6514-4f6f-b8b3-c6b5c3481abe",
   "metadata": {},
   "outputs": [],
   "source": []
  },
  {
   "cell_type": "code",
   "execution_count": 74,
   "id": "01f6c80b-7611-4b7c-b6f2-4aeea1409f4c",
   "metadata": {},
   "outputs": [],
   "source": [
    "def plotShapBigwigs(tfName, exptName, startPos = 34066036, span=1000, chrom=\"chr1\"):\n",
    "    plotBws([WORKING_DIRECTORY + \"/pred/\" + tfName + \"_\" + exptName + \"_positive.bw\",\n",
    "             WORKING_DIRECTORY + \"/pred/\" + tfName + \"_\" + exptName + \"_negative.bw\",\n",
    "             WORKING_DIRECTORY + \"/shap/\" + tfName + \"_profile.bw\", \n",
    "             WORKING_DIRECTORY + \"/shap/\" + tfName + \"_counts.bw\"],\n",
    "            [\"pred_pos\", \"pred_neg\", \"profile\", \"counts\"], chrom, startPos, startPos+span)"
   ]
  },
  {
   "cell_type": "code",
   "execution_count": null,
   "id": "385b7b6b-dbb9-4cc8-9f0d-34da6f41edc5",
   "metadata": {},
   "outputs": [],
   "source": [
    "plotShapBigwigs(\"nanog\", \"residual\", startPos = 35504000, span=100, chrom=\"chr17\")"
   ]
  },
  {
   "cell_type": "code",
   "execution_count": null,
   "id": "7055b491-89ce-4cf0-9035-72518ecc8fea",
   "metadata": {},
   "outputs": [],
   "source": [
    "plotShapBigwigs('oct4', 'residual', startPos = 35504040, span=40, chrom=\"chr17\")"
   ]
  },
  {
   "cell_type": "code",
   "execution_count": null,
   "id": "4175441d-34f2-4c85-bc26-d46015f25f7a",
   "metadata": {},
   "outputs": [],
   "source": [
    "plotShapBigwigs('nanog', 'residual', startPos = 180924752, span=400)"
   ]
  },
  {
   "cell_type": "code",
   "execution_count": null,
   "id": "f49bc6a5-c23e-4647-a72d-423622350791",
   "metadata": {},
   "outputs": [],
   "source": [
    "plotShapBigwigs('oct4', 'residual', startPos = 180924752, span=400)"
   ]
  },
  {
   "cell_type": "code",
   "execution_count": null,
   "id": "bb7532f2-21b3-412b-8b9e-64300e5dcd31",
   "metadata": {},
   "outputs": [],
   "source": [
    "plotShapBigwigs('klf4', 'residual', startPos = 180924752, span=400)"
   ]
  },
  {
   "cell_type": "code",
   "execution_count": null,
   "id": "6991254b-8b28-40a1-b08c-e372157822b7",
   "metadata": {},
   "outputs": [],
   "source": [
    "plotShapBigwigs('sox2', 'residual', startPos = 180924752, span=400)"
   ]
  },
  {
   "cell_type": "code",
   "execution_count": null,
   "id": "ab8d366d-9ea4-4cf2-9bc2-9900c1fb8b8e",
   "metadata": {},
   "outputs": [],
   "source": []
  },
  {
   "cell_type": "code",
   "execution_count": null,
   "id": "4955d7e1-9e38-4875-8855-02bbbe1659be",
   "metadata": {},
   "outputs": [],
   "source": []
  },
  {
   "cell_type": "code",
   "execution_count": 76,
   "id": "026eca42-71ee-40a2-a354-bf900ec5dee1",
   "metadata": {},
   "outputs": [
    {
     "data": {
      "text/plain": [
       "'/bigscratch/bpreveal/oskn/slurm/shapToNumpy.zsh'"
      ]
     },
     "execution_count": 76,
     "metadata": {},
     "output_type": "execute_result"
    }
   ],
   "source": [
    "#Great, so we have those bigwigs and the importance hdf5. I can run Modisco now! \n",
    "#The first thing to do is to export the shap scores as numpy arrays, then I run Modisco proper, \n",
    "#and finally I generate reports. \n",
    "\n",
    "shapToNumpyCmdBase = \"shapToNumpy \" +\\\n",
    "          \"--h5 {wd:s}/shap/{tf:s}_{readout:s}.h5 \" +\\\n",
    "          \"--seqs {wd:s}/shap/seqs_{tf:s}_{readout:s}.npz \"+\\\n",
    "          \"--scores {wd:s}/shap/scores_{tf:s}_{readout:s}.npz \"+\\\n",
    "          \"--verbose\"\n",
    "shapToNumpyCmds = []\n",
    "for tfname in TF_NAMES:\n",
    "    for readout in [\"profile\", \"counts\"]:\n",
    "        cmd = shapToNumpyCmdBase.format(wd=WORKING_DIRECTORY, \n",
    "                                        tf=tfname,\n",
    "                                        readout=readout)\n",
    "        shapToNumpyCmds.append(cmd)\n",
    "\n",
    "SLURM_CMD_CPU(SLURM_CONFIG, shapToNumpyCmds, \n",
    "           \"shapToNumpy\", 1, 3, parallel=True)"
   ]
  },
  {
   "cell_type": "code",
   "execution_count": 77,
   "id": "79d00142-e055-4671-af84-2630d267b933",
   "metadata": {},
   "outputs": [
    {
     "data": {
      "text/plain": [
       "'/bigscratch/bpreveal/oskn/slurm/modisco.zsh'"
      ]
     },
     "execution_count": 77,
     "metadata": {},
     "output_type": "execute_result"
    }
   ],
   "source": [
    "modiscoCmdBase = \"mkdir -p {wd:s}/modisco/{tf:s}_{readout:s}\\n\" +\\\n",
    "          \"modisco motifs \" +\\\n",
    "              \"-s {wd:s}/shap/seqs_{tf:s}_{readout:s}.npz \" +\\\n",
    "              \"-a {wd:s}/shap/scores_{tf:s}_{readout:s}.npz \"+\\\n",
    "              \"-n 100000 \" +\\\n",
    "              \"-w 1000 \"+\\\n",
    "              \"-v \" +\\\n",
    "              \"-o {wd:s}/modisco/{tf:s}_{readout:s}/modisco.h5 \"\n",
    "modiscoCmds = []\n",
    "for tfname in TF_NAMES:\n",
    "    for readout in [\"profile\", \"counts\"]:\n",
    "        cmd = modiscoCmdBase.format(wd=WORKING_DIRECTORY, \n",
    "                                        tf=tfname,\n",
    "                                        readout=readout)\n",
    "        modiscoCmds.append(cmd)\n",
    "\n",
    "SLURM_CMD_CPU(SLURM_CONFIG, modiscoCmds, \n",
    "           \"modisco\", 80, 600)"
   ]
  },
  {
   "cell_type": "code",
   "execution_count": null,
   "id": "0db140a6-c174-4cc7-bc47-09dd86d56a54",
   "metadata": {},
   "outputs": [],
   "source": [
    "reportCmdBase = \"modisco report \" +\\\n",
    "              \"-i {wd:s}/modisco/{tf:s}_{readout:s}/modisco.h5 \" +\\\n",
    "              \"-o {wd:s}/modisco/{tf:s}_{readout:s}/ \"+\\\n",
    "              \"-n 2 \" +\\\n",
    "              \"-m /n/data1/JASPAR/2022/JASPAR2022_CORE_vertebrates_non-redundant_pfms_meme.txt \" +\\\n",
    "              \"\\n\\n{sd:s}/annotateModiscoHtml \" +\\\n",
    "              \" {wd:s}/modisco/{tf:s}_{readout:s}/motifs.html \" + \\\n",
    "              \" > {wd:s}/modisco/{tf:s}_{readout:s}/motifs_names.html\"\n",
    "              \n",
    "reportCmds = []\n",
    "for tfname in TF_NAMES:\n",
    "    for readout in [\"profile\", \"counts\"]:\n",
    "        cmd = reportCmdBase.format(wd=WORKING_DIRECTORY, \n",
    "                                        sd=SCRIPTS_DIR,\n",
    "                                        tf=tfname,\n",
    "                                        readout=readout)\n",
    "        reportCmds.append(cmd)\n",
    "\n",
    "slurmNameModiscoReport = jobsNonGpu(SLURM_CONFIG, reportCmds, \n",
    "           \"modiscoReport\", 2, 5, \"1:00:00\")\n",
    "jobSpecs.append([slurmNameModiscoReport, [slurmNameModisco]])"
   ]
  },
  {
   "cell_type": "code",
   "execution_count": null,
   "id": "648a5a89-2c86-4780-9793-16cc54f3edf9",
   "metadata": {},
   "outputs": [],
   "source": [
    "writeDependencyScript(SLURM_CONFIG, jobSpecs, \"phase5\", baseJobId=239351)"
   ]
  },
  {
   "cell_type": "markdown",
   "id": "0020a0d5-b863-4293-96f9-4a0e5ae0da72",
   "metadata": {},
   "source": [
    "In order to do motif scanning, I need to know what patterns Modisco has identified. I've looked at the report files and annotated the motifs that looked most promising to me."
   ]
  },
  {
   "cell_type": "code",
   "execution_count": null,
   "id": "9ccc4020-fd82-48f9-b712-82b42365cb30",
   "metadata": {},
   "outputs": [],
   "source": [
    "bgProbs = [(1-0.42) /2, 0.21, 0.21, (1-0.42) /2]\n",
    "patternsToScan = {\n",
    "    \"klf4_counts\" : {\n",
    "        \"pos\" : [\n",
    "            [0, \"klf4\"],\n",
    "            [1, \"octsox\"],\n",
    "            [2, \"esrrb\"],\n",
    "            [3, \"sox2\"]]},\n",
    "    \"klf4_profile\" : {\n",
    "        \"pos\" : [\n",
    "            [0, \"klf4\"],\n",
    "            [1, \"octsox\"],\n",
    "            [2, \"sox2\"],\n",
    "            [3, \"zic3\"]]},\n",
    "    \"nanog_counts\" : {\n",
    "        \"pos\" : [\n",
    "            [0, \"sox2\"],\n",
    "            [1, \"octsox\"],\n",
    "            [2, \"nanog\"],\n",
    "            [3, 'nanog?'],\n",
    "            [4, \"zic3\"]]},\n",
    "    \"nanog_profile\" : {\n",
    "        \"pos\" : [\n",
    "            [0, \"nanog\"],\n",
    "            [1, \"sox2\"],\n",
    "            [2, \"octsox\"],\n",
    "            [3, \"nanog?\"]]},\n",
    "    \"oct4_counts\" : {\n",
    "        \"pos\" : [\n",
    "            [0, \"octsox\"],\n",
    "            [2, \"sox2\"],\n",
    "            [3, \"esrrb\"],\n",
    "            [4, \"klf4\"]]},\n",
    "    \"oct4_profile\" : {\n",
    "        \"pos\" : [\n",
    "            [0, \"octsox\"], \n",
    "            [1, \"sox2\"],\n",
    "            [3, \"klf4\"]]},\n",
    "    \"sox2_counts\" : {\n",
    "        \"pos\" : [\n",
    "            [0, \"sox2\"],\n",
    "            [1, \"octsox\"],\n",
    "            [2, \"klf4\"],\n",
    "            [3, \"esrrb\"],\n",
    "            [4, \"zic3\"]]},\n",
    "    \"sox2_profile\" : {\n",
    "        \"pos\" : [\n",
    "            [0, \"sox2\"],\n",
    "            [1, \"octsox\"],\n",
    "            [2, \"zic3\"],\n",
    "            [3, \"klf4\"]]}}"
   ]
  },
  {
   "cell_type": "code",
   "execution_count": null,
   "id": "6b606f17-18fe-4c2e-afe3-3b3610a5ec68",
   "metadata": {},
   "outputs": [],
   "source": [
    "import bpreveal.tools.plots as bprplots\n",
    "import bpreveal.motifUtils as motifUtils\n",
    "import tqdm"
   ]
  },
  {
   "cell_type": "code",
   "execution_count": null,
   "id": "012678b2-da2e-4b0d-99e4-7377672b5e55",
   "metadata": {},
   "outputs": [],
   "source": [
    "#I'll generate all of those figures and save them.\n",
    "for runName, run in patternsToScan.items():\n",
    "    for clusterName, cluster in run.items():\n",
    "        for motif in cluster:\n",
    "            pat = motifUtils.Pattern(clusterName + \"_patterns\", \"pattern_{0:d}\".format(motif[0]), motif[1])\n",
    "            with h5py.File(WORKING_DIRECTORY + \"/modisco/\" + runName + \"/modisco.h5\", \"r\") as fp:\n",
    "                pat.loadCwm(fp, 0.3, 3, bgProbs)\n",
    "                pat.loadSeqlets(fp)\n",
    "            fig = plt.figure()\n",
    "            bprplots.plotModiscoPattern(pat, fig, sortKey = pat.seqletContribMatches)\n",
    "            fig.savefig(WORKING_DIRECTORY + \"/modisco/\" + runName + \"/\" + clusterName + \"_\" + motif[1] + \".png\")\n",
    "            plt.close(fig)\n",
    "\n"
   ]
  },
  {
   "cell_type": "code",
   "execution_count": null,
   "id": "5f758264-67af-4944-9054-52c7838f1129",
   "metadata": {},
   "outputs": [],
   "source": [
    "\n",
    "cmds = []\n",
    "SCAN_BASE = \"motifSeqletCutoffs {cutoffFname:s} \\n\" +\\\n",
    "            \"motifScan {scanFname:s} \\n    \" +\\\n",
    "            \"motifAddQuantiles --seqlet-tsv {seqletTsv:s} --scan-tsv {scanTsv:s}\\n\" +\\\n",
    "            \"   cat {scanTsv:s} | \" + \\\n",
    "                \"cut -f 1-6 | \" + \\\n",
    "                \"tail -n +2 | \" + \\\n",
    "                \"sort -k1,1 -k2,2n -k3,3n -k4,4 -k5,5nr | \"+\\\n",
    "                \"awk '!_[$1,$2,$3,$4,$6]++' > {scanBed:s}\"\n",
    "#This is a four-part command. \n",
    "#First, we analyze the modisco results to extract pssms and cwms for the motifs of interest. \n",
    "#Then, we run the actual scan step.\n",
    "#next, we use the motifAddQuantiles.py script to add quantile information, which can be useful for \n",
    "#analyzing the motifs.\n",
    "#The last part, starting with `cat {scanTsv:s}` is scary, but it's just extracting a bed file from\n",
    "#the generated tsv files. The sort and awk lines are just there to remove duplicate maps, where \n",
    "#a motif is mapped to the same region several times. If you want all of the called motifs,\n",
    "#or don't want to deal with awk, you can remove the sort and awk parts of that command.\n",
    "\n",
    "for pat in patternsToScan.keys():\n",
    "    curPats = patternsToScan[pat]\n",
    "    patternSpec = []\n",
    "    for mcName in curPats.keys():\n",
    "        patternSpec.append({\n",
    "            \"metacluster-name\" : mcName + \"_patterns\", \n",
    "            \"pattern-names\" : [\"pattern_{0:d}\".format(x[0]) for x in curPats[mcName]],\n",
    "            \"short-names\" : [x[1] for x in curPats[mcName]]})\n",
    "    seqletTsv =  WORKING_DIRECTORY + \"/modisco/\" + pat + \"/seqlets_\" + pat + \".tsv\"\n",
    "    hitsTsv = WORKING_DIRECTORY + \"/scan/\" + pat + \".tsv\"\n",
    "    hitsBed = WORKING_DIRECTORY + \"/scan/\" + pat + \".bed\"\n",
    "    cutoffConfigDict = {\n",
    "            \"seqlets-tsv\" : seqletTsv,\n",
    "            \"modisco-h5\" : WORKING_DIRECTORY + \"/modisco/\" + pat + \"/modisco.h5\",\n",
    "            \"modisco-contrib-h5\" : WORKING_DIRECTORY + \"/shap/\" + pat + \".h5\",\n",
    "            \"patterns\" : patternSpec, \n",
    "            \"seq-match-quantile\" : 0.2,\n",
    "            \"contrib-match-quantile\" : 0.2,\n",
    "            \"contrib-magnitude-quantile\" : 0.2,\n",
    "            \"trim-threshold\" : 0.3,\n",
    "            \"trim-padding\" : 1,\n",
    "            \"background-probs\" : bgProbs,\n",
    "            \"quantile-json\" : WORKING_DIRECTORY + \"/scan/\" + pat + \"_motifs.json\",\n",
    "            \"verbosity\" : \"INFO\"}\n",
    "    \n",
    "    scanConfigDict = {\n",
    "        \"scan-settings\" : {\n",
    "            \"scan-contrib-h5\" : WORKING_DIRECTORY + \"/shap/\" + pat + \".h5\",\n",
    "            \"hits-tsv\" : hitsTsv,\n",
    "            \"num-threads\" : 70},\n",
    "        \"seqlet-cutoff-json\" : WORKING_DIRECTORY + \"/scan/\" + pat + \"_motifs.json\",\n",
    "        \"verbosity\" : \"INFO\"}\n",
    "    scanFname = WORKING_DIRECTORY + \"/json/scan_\" + pat + \".json\"\n",
    "    cutoffFname = WORKING_DIRECTORY + \"/json/cutoffs_\" + pat + \".json\"\n",
    "    cmdStr = SCAN_BASE.format(scanFname = scanFname, cutoffFname = cutoffFname, seqletTsv = seqletTsv, scanTsv = hitsTsv, scanBed = hitsBed)\n",
    "    cmds.append(cmdStr)\n",
    "    with open(scanFname, \"w\") as fp:\n",
    "        json.dump(scanConfigDict, fp, indent=4)\n",
    "    with open(cutoffFname, \"w\") as fp:\n",
    "        json.dump(cutoffConfigDict, fp, indent=4)\n",
    "jobsNonGpu(SLURM_CONFIG, cmds, \"motifScan\", 70, 10, \"10:00:00\")"
   ]
  },
  {
   "cell_type": "markdown",
   "id": "5c6aa49a-20cb-41f6-99b6-50cb66eb1ac2",
   "metadata": {},
   "source": [
    "# Making a PISA plot"
   ]
  },
  {
   "cell_type": "code",
   "execution_count": null,
   "id": "ae06d0a5-84a1-4fb0-8a82-51c31a973d11",
   "metadata": {},
   "outputs": [],
   "source": [
    "#In order to make a pisa plot, I need to get a list of regions I want to analyze. The way the PISA script works is that I give it a fasta-format file\n",
    "#of genomic regions, each region being INPUT_LENGTH long. The PISA tool will then assign contributions to all of the bases in the input relative to the \n",
    "#*leftmost* base in the output. \n",
    "#This is important, so let me phrase it differently:\n",
    "\n",
    "\n",
    "\n",
    "#|<- Receptive field ->|\n",
    "#INPUTSEQUENCEINPUTSEQUENCEINPUTSEQUENCEINPUTSEQUENCE\n",
    "#\\                     /                            /\n",
    "#  \\                 /                            /\n",
    "#    \\             /                            /\n",
    "#      \\         /                            /\n",
    "#        \\     /                            /\n",
    "#          \\ /                            /\n",
    "#           OUTPUTPROFILEOUTPUTPROFILEOUTP\n",
    "#           ^\n",
    "#           | This O is the base that will be used to calculate the contribution scores. \n",
    "#It's important to not have any off-by-one problems here, so let's work it out manually. \n",
    "print(INPUT_LENGTH)\n",
    "print(RECEPTIVE_FIELD)"
   ]
  },
  {
   "cell_type": "code",
   "execution_count": null,
   "id": "236ba5f3-5fda-4b65-b633-dbd5d910fd18",
   "metadata": {},
   "outputs": [],
   "source": [
    "#Since I don't feel like doing ascii art that's quite so wide, I'm going to say that the network is quite a bit smaller:\n",
    "!lengthCalc --output-len 20 --n-dil-layers 3 --conv1-kernel-size 3 --profile-kernel-size 3"
   ]
  },
  {
   "cell_type": "code",
   "execution_count": null,
   "id": "99a0758d-617b-4af1-a480-322b3288455b",
   "metadata": {},
   "outputs": [],
   "source": [
    "#So in this example the receptive field would be 52-20+1=33. \n",
    "#And there are 16 bases of slop on each side that need to be seen by the model. \n",
    "#-30     -20       -10         0        10        20        30        40        50\n",
    "#V         V         V         V         V         V         V         V         V\n",
    "#098765432109876543210987654321012345678901234567890123456789012345678901234567890123456789\n",
    "#Output:                       01234567890123456789\n",
    "#Input:        6543210987654321012345678901234567890123456789012345\n",
    "#Receptive:    654321098765432101234567890123456\n",
    "\n",
    "#So in this case, if we want shap scores for a base at position zero, we need sequence from -16 to +35 (inclusive)"
   ]
  },
  {
   "cell_type": "code",
   "execution_count": null,
   "id": "08248542-5b7a-46e3-97cb-0e014a993106",
   "metadata": {},
   "outputs": [],
   "source": []
  },
  {
   "cell_type": "code",
   "execution_count": null,
   "id": "904c89e8-d2c1-4767-a205-9ec149ec885c",
   "metadata": {},
   "outputs": [],
   "source": [
    "windowStart = 180924752-1000\n",
    "windowEnd = 180925152+1000\n",
    "windowLen = windowEnd - windowStart\n",
    "windowChrom = \"chr1\""
   ]
  },
  {
   "cell_type": "code",
   "execution_count": null,
   "id": "df32448b-f74a-431a-a144-d1532871e9a8",
   "metadata": {},
   "outputs": [],
   "source": [
    "#So I need to get windows that are 3092 bases wide, and the first 2093 bases are the only ones that have a chance of affecting the output\n",
    "#(since that's the receptive field for the first base.)\n",
    "#The slop is (2093-1)/2 = 1046\n",
    "#I want to shap starting at chr1:180924752 and I want to take 400 bases worth of calculations. \n",
    "def writeRegion(genome, outFp, regionStart):\n",
    "    genomeStart = regionStart - 1046\n",
    "    genomeEnd = genomeStart + INPUT_LENGTH\n",
    "    seq = genome.fetch(windowChrom, genomeStart, genomeEnd)\n",
    "    outFp.write(\">{0:d}\\n\".format(regionStart))\n",
    "    outFp.write(seq.upper())\n",
    "    outFp.write(\"\\n\")\n",
    "\n",
    "with open(WORKING_DIRECTORY + \"/shap/pisa_regions.fa\", \"w\") as fp:\n",
    "    with pysam.FastaFile(GENOME_FASTA) as genome:\n",
    "        for regionStart in range(windowStart, windowEnd):\n",
    "            writeRegion(genome, fp, regionStart)\n"
   ]
  },
  {
   "cell_type": "code",
   "execution_count": null,
   "id": "60e4a096-e1cd-48aa-b465-e54160b106ff",
   "metadata": {},
   "outputs": [],
   "source": [
    "#And now we bulid the json file for the PISA analysis.\n",
    "cmds = []\n",
    "for tfid in [0,3]:\n",
    "    for strand in [0,1]:\n",
    "        task_name = TF_NAMES[tfid] + \"_\" + [\"positive\", \"negative\"][strand]\n",
    "        pisa_config = {\"model-file\" : WORKING_DIRECTORY + \"/models/joint_residual.model\", \n",
    "                       \"fasta-file\" : WORKING_DIRECTORY + \"/shap/pisa_regions.fa\", \n",
    "                       \"num-shuffles\" : 20, \n",
    "                       \"head-id\" : tfid, #(That's the nanog head)\n",
    "                       \"task-id\" : strand,\n",
    "                       \"output-h5\" : WORKING_DIRECTORY + \"/shap/pisa_\" + task_name + \".h5\",\n",
    "                       \"input-length\" : INPUT_LENGTH,\n",
    "                       \"output-length\" : OUTPUT_LENGTH,\n",
    "                       \"make-predictions\" : True,\n",
    "                       \"verbosity\" : \"WARNING\"}\n",
    "        jsonFname = WORKING_DIRECTORY + \"/json/pisa_\" + task_name + \".json\"\n",
    "        with open(jsonFname, \"w\") as fp:\n",
    "            json.dump(pisa_config, fp)\n",
    "        cmds.append(\"interpretPisa {0:s}\".format(jsonFname))\n",
    "\n",
    "jobsGpu(SLURM_CONFIG, cmds, \"interpretPisa\", 5, 20, \"10:00:00\")\n"
   ]
  },
  {
   "cell_type": "code",
   "execution_count": null,
   "id": "2dfee031-eacc-4562-9d3e-dfbfe773cd3e",
   "metadata": {},
   "outputs": [],
   "source": []
  },
  {
   "cell_type": "code",
   "execution_count": null,
   "id": "8f133cb1-612b-4644-a0d4-96c9e014aac6",
   "metadata": {},
   "outputs": [],
   "source": [
    "#Let's take a look at the pisa results! \n",
    "with h5py.File(WORKING_DIRECTORY + \"/shap/pisa_oct4_positive.h5\", \"r\") as fp:\n",
    "    pisaDescriptions = list(fp[\"descriptions\"])\n",
    "    pisaSequences = np.array(fp[\"sequence\"])\n",
    "    pisaShap = np.array(fp[\"shap\"])\n",
    "    pisaInputPred = np.array(fp[\"input_predictions\"])\n",
    "    pisaInputPred = np.array(fp[\"shuffle_predictions\"])"
   ]
  },
  {
   "cell_type": "code",
   "execution_count": null,
   "id": "faa07b20-c6c2-47a4-bd55-980502c108b0",
   "metadata": {},
   "outputs": [],
   "source": [
    "pisaVals = np.sum(pisaShap,axis=2)\n",
    "print(pisaVals.shape)"
   ]
  },
  {
   "cell_type": "code",
   "execution_count": null,
   "id": "b05a9e6b-99fc-4c2e-88fe-5f4c8c131671",
   "metadata": {},
   "outputs": [],
   "source": [
    "pisaSpan = 0.1\n",
    "plt.imshow(pisaVals[:,700:-700], vmin=-pisaSpan, vmax=pisaSpan, cmap='RdBu_r')\n"
   ]
  },
  {
   "cell_type": "code",
   "execution_count": null,
   "id": "22946f1e-51e9-41b6-bb50-bb175fbcca94",
   "metadata": {},
   "outputs": [],
   "source": [
    "#Let's remind ourselves of what the nanog binding looked like...\n",
    "plotShapBigwigs('nanog', 'residual', startPos = windowStart + 1000, span=500)"
   ]
  },
  {
   "cell_type": "code",
   "execution_count": null,
   "id": "8d4c674e-0a37-4c2f-a1ff-b02da0ec67ea",
   "metadata": {},
   "outputs": [],
   "source": [
    "nameColors = dict()\n",
    "fig = plt.figure()\n",
    "\n",
    "bprplots.plotPisa(WORKING_DIRECTORY + \"/shap/pisa_nanog_positive.h5\",\n",
    "                  1150, 200, 300, RECEPTIVE_FIELD,\n",
    "                  windowStart, \"chr1\", GENOME_FASTA,\n",
    "                  WORKING_DIRECTORY + \"/shap/nanog_profile.bw\",\n",
    "                  WORKING_DIRECTORY + \"/scan/nanog_profile.bed\",\n",
    "                  WORKING_DIRECTORY + \"/pred/nanog_residual_positive.bw\",\n",
    "                  nameColors,\n",
    "                  fig, [0.1, 0.55, 0.9, 0.4],\n",
    "                  colorSpan = 0.5,\n",
    "                  fontsize=5)\n",
    "\n",
    "bprplots.plotPisa(WORKING_DIRECTORY + \"/shap/pisa_nanog_negative.h5\",\n",
    "                  1150, 200, 300, RECEPTIVE_FIELD,\n",
    "                  windowStart, \"chr1\", GENOME_FASTA,\n",
    "                  WORKING_DIRECTORY + \"/shap/nanog_profile.bw\",\n",
    "                  WORKING_DIRECTORY + \"/scan/nanog_profile.bed\",\n",
    "                  WORKING_DIRECTORY + \"/pred/nanog_residual_negative.bw\",\n",
    "                  nameColors,\n",
    "                  fig, [0.1, 0.05, 0.9, 0.4],\n",
    "                  colorSpan = 0.5);\n"
   ]
  },
  {
   "cell_type": "code",
   "execution_count": null,
   "id": "7544cfe2-7bec-4e55-9499-a626cfe442dc",
   "metadata": {},
   "outputs": [],
   "source": [
    "#One thing is pretty striking. The motif at ~100 bp has a directional effect, that is, the importance toward the positive peak is upstream of the \n",
    "#motif and the importance of the negative peak is downstream. But the motif at ~190 doesn't seem to be directional, and it seems to have a larger \n",
    "#reach. Let's zoom in! \n",
    "fig = plt.figure()\n",
    "\n",
    "bprplots.plotPisa(WORKING_DIRECTORY + \"/shap/pisa_nanog_positive.h5\",\n",
    "                  1108, 30, 60, RECEPTIVE_FIELD,\n",
    "                  windowStart, \"chr1\", GENOME_FASTA,\n",
    "                  WORKING_DIRECTORY + \"/shap/nanog_profile.bw\",\n",
    "                  WORKING_DIRECTORY + \"/scan/nanog_profile.bed\",\n",
    "                  WORKING_DIRECTORY + \"/pred/nanog_residual_positive.bw\",\n",
    "                  nameColors,\n",
    "                  fig, [0.1, 0.55, 0.9, 0.4],\n",
    "                  colorSpan = 0.5)\n",
    "\n",
    "bprplots.plotPisa(WORKING_DIRECTORY + \"/shap/pisa_nanog_negative.h5\",\n",
    "                  1108, 30, 60, RECEPTIVE_FIELD,\n",
    "                  windowStart, \"chr1\", GENOME_FASTA,\n",
    "                  WORKING_DIRECTORY + \"/shap/nanog_profile.bw\",\n",
    "                  WORKING_DIRECTORY + \"/scan/nanog_profile.bed\",\n",
    "                  WORKING_DIRECTORY + \"/pred/nanog_residual_negative.bw\",\n",
    "                  nameColors,\n",
    "                  fig, [0.1, 0.05, 0.9, 0.4],\n",
    "                  colorSpan = 0.5);\n"
   ]
  },
  {
   "cell_type": "code",
   "execution_count": null,
   "id": "7c1bdb66-570b-409b-9dc6-fe8580a1c936",
   "metadata": {},
   "outputs": [],
   "source": [
    "fig = plt.figure()\n",
    "\n",
    "bprplots.plotPisa(WORKING_DIRECTORY + \"/shap/pisa_nanog_positive.h5\",\n",
    "                  1190, 30, 300, RECEPTIVE_FIELD,\n",
    "                  windowStart, \"chr1\", GENOME_FASTA,\n",
    "                  WORKING_DIRECTORY + \"/shap/nanog_profile.bw\",\n",
    "                  WORKING_DIRECTORY + \"/scan/nanog_profile.bed\",\n",
    "                  WORKING_DIRECTORY + \"/pred/nanog_residual_positive.bw\",\n",
    "                  nameColors,\n",
    "                  fig, [0.1, 0.55, 0.9, 0.4],\n",
    "                  colorSpan = 0.5)\n",
    "\n",
    "bprplots.plotPisa(WORKING_DIRECTORY + \"/shap/pisa_nanog_negative.h5\",\n",
    "                  1190, 30, 300, RECEPTIVE_FIELD,\n",
    "                  windowStart, \"chr1\", GENOME_FASTA,\n",
    "                  WORKING_DIRECTORY + \"/shap/nanog_profile.bw\",\n",
    "                  WORKING_DIRECTORY + \"/scan/nanog_profile.bed\",\n",
    "                  WORKING_DIRECTORY + \"/pred/nanog_residual_negative.bw\",\n",
    "                  nameColors,\n",
    "                  fig, [0.1, 0.05, 0.9, 0.4],\n",
    "                  colorSpan = 0.5);\n"
   ]
  },
  {
   "cell_type": "code",
   "execution_count": null,
   "id": "66bc8f8b-7dc1-442a-9b6a-260d71049fa6",
   "metadata": {},
   "outputs": [],
   "source": [
    "fig = plt.figure()\n",
    "\n",
    "bprplots.plotPisa(WORKING_DIRECTORY + \"/shap/pisa_nanog_positive.h5\",\n",
    "                  1150, 30, 100, RECEPTIVE_FIELD,\n",
    "                  windowStart, \"chr1\", GENOME_FASTA,\n",
    "                  WORKING_DIRECTORY + \"/shap/nanog_profile.bw\",\n",
    "                  WORKING_DIRECTORY + \"/scan/nanog_profile.bed\",\n",
    "                  WORKING_DIRECTORY + \"/pred/nanog_residual_positive.bw\",\n",
    "                  nameColors,\n",
    "                  fig, [0.1, 0.55, 0.9, 0.4],\n",
    "                  colorSpan = 0.5)\n",
    "\n",
    "bprplots.plotPisa(WORKING_DIRECTORY + \"/shap/pisa_nanog_negative.h5\",\n",
    "                  1150, 30, 100, RECEPTIVE_FIELD,\n",
    "                  windowStart, \"chr1\", GENOME_FASTA,\n",
    "                  WORKING_DIRECTORY + \"/shap/nanog_profile.bw\",\n",
    "                  WORKING_DIRECTORY + \"/scan/nanog_profile.bed\",\n",
    "                  WORKING_DIRECTORY + \"/pred/nanog_residual_negative.bw\",\n",
    "                  nameColors,\n",
    "                  fig, [0.1, 0.05, 0.9, 0.4],\n",
    "                  colorSpan = 0.5);"
   ]
  },
  {
   "cell_type": "code",
   "execution_count": null,
   "id": "be6f7754-0d0c-49b7-b6b3-0d747e6aeb31",
   "metadata": {},
   "outputs": [],
   "source": [
    "#Indeed, this motif looks very different! "
   ]
  },
  {
   "cell_type": "code",
   "execution_count": null,
   "id": "d78b665e-c2f8-41cc-9eeb-69d4c2353ee3",
   "metadata": {},
   "outputs": [],
   "source": [
    "fig = plt.figure()\n",
    "\n",
    "bprplots.plotPisa(WORKING_DIRECTORY + \"/shap/pisa_oct4_positive.h5\",\n",
    "                  1150, 200, 300, RECEPTIVE_FIELD,\n",
    "                  windowStart, \"chr1\", GENOME_FASTA,\n",
    "                  WORKING_DIRECTORY + \"/shap/oct4_profile.bw\",\n",
    "                  WORKING_DIRECTORY + \"/scan/oct4_profile.bed\",\n",
    "                  WORKING_DIRECTORY + \"/pred/oct4_residual_positive.bw\",\n",
    "                  nameColors,\n",
    "                  fig, [0.1, 0.55, 0.9, 0.4],\n",
    "                  colorSpan = 0.5)\n",
    "\n",
    "bprplots.plotPisa(WORKING_DIRECTORY + \"/shap/pisa_oct4_negative.h5\",\n",
    "                  1150, 200, 300, RECEPTIVE_FIELD,\n",
    "                  windowStart, \"chr1\", GENOME_FASTA,\n",
    "                  WORKING_DIRECTORY + \"/shap/oct4_profile.bw\",\n",
    "                  WORKING_DIRECTORY + \"/scan/oct4_profile.bed\",\n",
    "                  WORKING_DIRECTORY + \"/pred/oct4_residual_negative.bw\",\n",
    "                  nameColors,\n",
    "                  fig, [0.1, 0.05, 0.9, 0.4],\n",
    "                  colorSpan = 0.5);\n"
   ]
  },
  {
   "cell_type": "code",
   "execution_count": null,
   "id": "4841da00-9ebc-4420-b4bc-f68314471d45",
   "metadata": {},
   "outputs": [],
   "source": [
    "fig = plt.figure()\n",
    "\n",
    "bprplots.plotPisa(WORKING_DIRECTORY + \"/shap/pisa_oct4_positive.h5\",\n",
    "                  1108, 30, 60, RECEPTIVE_FIELD,\n",
    "                  windowStart, \"chr1\", GENOME_FASTA,\n",
    "                  WORKING_DIRECTORY + \"/shap/oct4_profile.bw\",\n",
    "                  WORKING_DIRECTORY + \"/scan/oct4_profile.bed\",\n",
    "                  WORKING_DIRECTORY + \"/pred/oct4_residual_positive.bw\",\n",
    "                  nameColors,\n",
    "                  fig, [0.1, 0.55, 0.9, 0.4],\n",
    "                  colorSpan = 0.5)\n",
    "\n",
    "bprplots.plotPisa(WORKING_DIRECTORY + \"/shap/pisa_oct4_negative.h5\",\n",
    "                  1108, 30, 60, RECEPTIVE_FIELD,\n",
    "                  windowStart, \"chr1\", GENOME_FASTA,\n",
    "                  WORKING_DIRECTORY + \"/shap/oct4_profile.bw\",\n",
    "                  WORKING_DIRECTORY + \"/scan/oct4_profile.bed\",\n",
    "                  WORKING_DIRECTORY + \"/pred/oct4_residual_negative.bw\",\n",
    "                  nameColors,\n",
    "                  fig, [0.1, 0.05, 0.9, 0.4],\n",
    "                  colorSpan = 0.5);\n",
    "\n"
   ]
  },
  {
   "cell_type": "code",
   "execution_count": null,
   "id": "5166117f-c7d3-4269-8558-2cd6128b5d62",
   "metadata": {},
   "outputs": [],
   "source": [
    "#Ah, that might explain why the motif acts differently - it's a motif for a different protein altogether! Let's zoom in on the Oct4 motif. "
   ]
  },
  {
   "cell_type": "code",
   "execution_count": null,
   "id": "e6a97f16-9287-41c1-9eaf-6a8d50a5ea32",
   "metadata": {},
   "outputs": [],
   "source": [
    "fig = plt.figure()\n",
    "\n",
    "bprplots.plotPisa(WORKING_DIRECTORY + \"/shap/pisa_oct4_positive.h5\",\n",
    "                  1190, 30, 300, RECEPTIVE_FIELD,\n",
    "                  windowStart, \"chr1\", GENOME_FASTA,\n",
    "                  WORKING_DIRECTORY + \"/shap/oct4_profile.bw\",\n",
    "                  WORKING_DIRECTORY + \"/scan/oct4_profile.bed\",\n",
    "                  WORKING_DIRECTORY + \"/pred/oct4_residual_positive.bw\",\n",
    "                  nameColors,\n",
    "                  fig, [0.1, 0.55, 0.9, 0.4],\n",
    "                  colorSpan = 0.5)\n",
    "\n",
    "bprplots.plotPisa(WORKING_DIRECTORY + \"/shap/pisa_oct4_negative.h5\",\n",
    "                  1190, 30, 300, RECEPTIVE_FIELD,\n",
    "                  windowStart, \"chr1\", GENOME_FASTA,\n",
    "                  WORKING_DIRECTORY + \"/shap/oct4_profile.bw\",\n",
    "                  WORKING_DIRECTORY + \"/scan/oct4_profile.bed\",\n",
    "                  WORKING_DIRECTORY + \"/pred/oct4_residual_negative.bw\",\n",
    "                  nameColors,\n",
    "                  fig, [0.1, 0.05, 0.9, 0.4],\n",
    "                  colorSpan = 0.5);\n",
    "\n"
   ]
  },
  {
   "cell_type": "code",
   "execution_count": null,
   "id": "81ef10d4-0d62-4960-badd-d3ef681708ec",
   "metadata": {},
   "outputs": [],
   "source": [
    "#As a reminder, let me pull up the Oct4 tracks:\n",
    "plotShapBigwigs('oct4', 'residual', startPos = 180924752, span=400)"
   ]
  },
  {
   "cell_type": "code",
   "execution_count": null,
   "id": "77a0aba3-efb8-457a-9dcc-39c51a2bb03f",
   "metadata": {},
   "outputs": [],
   "source": []
  },
  {
   "cell_type": "code",
   "execution_count": null,
   "id": "bceaeaab-f679-45f0-a0b0-d91ae384c513",
   "metadata": {},
   "outputs": [],
   "source": []
  },
  {
   "cell_type": "code",
   "execution_count": null,
   "id": "db1d198f-3927-462a-83e2-27be45ba36ee",
   "metadata": {},
   "outputs": [],
   "source": []
  },
  {
   "cell_type": "code",
   "execution_count": null,
   "id": "c4c0974e-039b-413b-bd6a-49cf6dd3e4c5",
   "metadata": {},
   "outputs": [],
   "source": []
  },
  {
   "cell_type": "code",
   "execution_count": null,
   "id": "e726e521-11c4-4509-a2f2-3f7bd69cac70",
   "metadata": {},
   "outputs": [],
   "source": []
  }
 ],
 "metadata": {
  "kernelspec": {
   "display_name": "Python 3 (ipykernel)",
   "language": "python",
   "name": "python3"
  },
  "language_info": {
   "codemirror_mode": {
    "name": "ipython",
    "version": 3
   },
   "file_extension": ".py",
   "mimetype": "text/x-python",
   "name": "python",
   "nbconvert_exporter": "python",
   "pygments_lexer": "ipython3",
   "version": "3.11.7"
  }
 },
 "nbformat": 4,
 "nbformat_minor": 5
}
